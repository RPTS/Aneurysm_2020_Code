{
  "cells": [
    {
      "cell_type": "markdown",
      "metadata": {
        "id": "view-in-github",
        "colab_type": "text"
      },
      "source": [
        "<a href=\"https://colab.research.google.com/github/RPTS/Aneurysm_2020_Code/blob/main/hollister_project_version_2.ipynb\" target=\"_parent\"><img src=\"https://colab.research.google.com/assets/colab-badge.svg\" alt=\"Open In Colab\"/></a>"
      ]
    },
    {
      "cell_type": "code",
      "execution_count": null,
      "metadata": {
        "colab": {
          "base_uri": "https://localhost:8080/"
        },
        "id": "MOF-iE0nl6-L",
        "outputId": "c2ea190f-87b9-489b-b83e-d13cbcd62cd2"
      },
      "outputs": [
        {
          "name": "stdout",
          "output_type": "stream",
          "text": [
            "Mounted at /content/drive/\n"
          ]
        }
      ],
      "source": [
        "from google.colab import drive\n",
        "drive.mount('/content/drive/')"
      ]
    },
    {
      "cell_type": "code",
      "execution_count": null,
      "metadata": {
        "colab": {
          "base_uri": "https://localhost:8080/"
        },
        "id": "ChmYZRjMneQq",
        "outputId": "66ca130b-70e9-4035-dcd5-2cd807a0812f"
      },
      "outputs": [
        {
          "name": "stdout",
          "output_type": "stream",
          "text": [
            "Collecting tensorflow-text\n",
            "  Downloading tensorflow_text-2.7.3-cp37-cp37m-manylinux2010_x86_64.whl (4.9 MB)\n",
            "\u001b[K     |████████████████████████████████| 4.9 MB 7.4 MB/s \n",
            "\u001b[?25hRequirement already satisfied: tensorflow<2.8,>=2.7.0 in /usr/local/lib/python3.7/dist-packages (from tensorflow-text) (2.7.0)\n",
            "Requirement already satisfied: tensorflow-hub>=0.8.0 in /usr/local/lib/python3.7/dist-packages (from tensorflow-text) (0.12.0)\n",
            "Requirement already satisfied: libclang>=9.0.1 in /usr/local/lib/python3.7/dist-packages (from tensorflow<2.8,>=2.7.0->tensorflow-text) (12.0.0)\n",
            "Requirement already satisfied: gast<0.5.0,>=0.2.1 in /usr/local/lib/python3.7/dist-packages (from tensorflow<2.8,>=2.7.0->tensorflow-text) (0.4.0)\n",
            "Requirement already satisfied: tensorboard~=2.6 in /usr/local/lib/python3.7/dist-packages (from tensorflow<2.8,>=2.7.0->tensorflow-text) (2.7.0)\n",
            "Requirement already satisfied: protobuf>=3.9.2 in /usr/local/lib/python3.7/dist-packages (from tensorflow<2.8,>=2.7.0->tensorflow-text) (3.17.3)\n",
            "Requirement already satisfied: tensorflow-io-gcs-filesystem>=0.21.0 in /usr/local/lib/python3.7/dist-packages (from tensorflow<2.8,>=2.7.0->tensorflow-text) (0.22.0)\n",
            "Requirement already satisfied: absl-py>=0.4.0 in /usr/local/lib/python3.7/dist-packages (from tensorflow<2.8,>=2.7.0->tensorflow-text) (0.12.0)\n",
            "Requirement already satisfied: keras-preprocessing>=1.1.1 in /usr/local/lib/python3.7/dist-packages (from tensorflow<2.8,>=2.7.0->tensorflow-text) (1.1.2)\n",
            "Requirement already satisfied: h5py>=2.9.0 in /usr/local/lib/python3.7/dist-packages (from tensorflow<2.8,>=2.7.0->tensorflow-text) (3.1.0)\n",
            "Requirement already satisfied: termcolor>=1.1.0 in /usr/local/lib/python3.7/dist-packages (from tensorflow<2.8,>=2.7.0->tensorflow-text) (1.1.0)\n",
            "Requirement already satisfied: flatbuffers<3.0,>=1.12 in /usr/local/lib/python3.7/dist-packages (from tensorflow<2.8,>=2.7.0->tensorflow-text) (2.0)\n",
            "Requirement already satisfied: keras<2.8,>=2.7.0rc0 in /usr/local/lib/python3.7/dist-packages (from tensorflow<2.8,>=2.7.0->tensorflow-text) (2.7.0)\n",
            "Requirement already satisfied: opt-einsum>=2.3.2 in /usr/local/lib/python3.7/dist-packages (from tensorflow<2.8,>=2.7.0->tensorflow-text) (3.3.0)\n",
            "Requirement already satisfied: wheel<1.0,>=0.32.0 in /usr/local/lib/python3.7/dist-packages (from tensorflow<2.8,>=2.7.0->tensorflow-text) (0.37.0)\n",
            "Requirement already satisfied: google-pasta>=0.1.1 in /usr/local/lib/python3.7/dist-packages (from tensorflow<2.8,>=2.7.0->tensorflow-text) (0.2.0)\n",
            "Requirement already satisfied: tensorflow-estimator<2.8,~=2.7.0rc0 in /usr/local/lib/python3.7/dist-packages (from tensorflow<2.8,>=2.7.0->tensorflow-text) (2.7.0)\n",
            "Requirement already satisfied: wrapt>=1.11.0 in /usr/local/lib/python3.7/dist-packages (from tensorflow<2.8,>=2.7.0->tensorflow-text) (1.13.3)\n",
            "Requirement already satisfied: astunparse>=1.6.0 in /usr/local/lib/python3.7/dist-packages (from tensorflow<2.8,>=2.7.0->tensorflow-text) (1.6.3)\n",
            "Requirement already satisfied: numpy>=1.14.5 in /usr/local/lib/python3.7/dist-packages (from tensorflow<2.8,>=2.7.0->tensorflow-text) (1.19.5)\n",
            "Requirement already satisfied: grpcio<2.0,>=1.24.3 in /usr/local/lib/python3.7/dist-packages (from tensorflow<2.8,>=2.7.0->tensorflow-text) (1.42.0)\n",
            "Requirement already satisfied: typing-extensions>=3.6.6 in /usr/local/lib/python3.7/dist-packages (from tensorflow<2.8,>=2.7.0->tensorflow-text) (3.10.0.2)\n",
            "Requirement already satisfied: six>=1.12.0 in /usr/local/lib/python3.7/dist-packages (from tensorflow<2.8,>=2.7.0->tensorflow-text) (1.15.0)\n",
            "Requirement already satisfied: cached-property in /usr/local/lib/python3.7/dist-packages (from h5py>=2.9.0->tensorflow<2.8,>=2.7.0->tensorflow-text) (1.5.2)\n",
            "Requirement already satisfied: google-auth-oauthlib<0.5,>=0.4.1 in /usr/local/lib/python3.7/dist-packages (from tensorboard~=2.6->tensorflow<2.8,>=2.7.0->tensorflow-text) (0.4.6)\n",
            "Requirement already satisfied: tensorboard-data-server<0.7.0,>=0.6.0 in /usr/local/lib/python3.7/dist-packages (from tensorboard~=2.6->tensorflow<2.8,>=2.7.0->tensorflow-text) (0.6.1)\n",
            "Requirement already satisfied: google-auth<3,>=1.6.3 in /usr/local/lib/python3.7/dist-packages (from tensorboard~=2.6->tensorflow<2.8,>=2.7.0->tensorflow-text) (1.35.0)\n",
            "Requirement already satisfied: setuptools>=41.0.0 in /usr/local/lib/python3.7/dist-packages (from tensorboard~=2.6->tensorflow<2.8,>=2.7.0->tensorflow-text) (57.4.0)\n",
            "Requirement already satisfied: markdown>=2.6.8 in /usr/local/lib/python3.7/dist-packages (from tensorboard~=2.6->tensorflow<2.8,>=2.7.0->tensorflow-text) (3.3.6)\n",
            "Requirement already satisfied: requests<3,>=2.21.0 in /usr/local/lib/python3.7/dist-packages (from tensorboard~=2.6->tensorflow<2.8,>=2.7.0->tensorflow-text) (2.23.0)\n",
            "Requirement already satisfied: tensorboard-plugin-wit>=1.6.0 in /usr/local/lib/python3.7/dist-packages (from tensorboard~=2.6->tensorflow<2.8,>=2.7.0->tensorflow-text) (1.8.0)\n",
            "Requirement already satisfied: werkzeug>=0.11.15 in /usr/local/lib/python3.7/dist-packages (from tensorboard~=2.6->tensorflow<2.8,>=2.7.0->tensorflow-text) (1.0.1)\n",
            "Requirement already satisfied: rsa<5,>=3.1.4 in /usr/local/lib/python3.7/dist-packages (from google-auth<3,>=1.6.3->tensorboard~=2.6->tensorflow<2.8,>=2.7.0->tensorflow-text) (4.8)\n",
            "Requirement already satisfied: cachetools<5.0,>=2.0.0 in /usr/local/lib/python3.7/dist-packages (from google-auth<3,>=1.6.3->tensorboard~=2.6->tensorflow<2.8,>=2.7.0->tensorflow-text) (4.2.4)\n",
            "Requirement already satisfied: pyasn1-modules>=0.2.1 in /usr/local/lib/python3.7/dist-packages (from google-auth<3,>=1.6.3->tensorboard~=2.6->tensorflow<2.8,>=2.7.0->tensorflow-text) (0.2.8)\n",
            "Requirement already satisfied: requests-oauthlib>=0.7.0 in /usr/local/lib/python3.7/dist-packages (from google-auth-oauthlib<0.5,>=0.4.1->tensorboard~=2.6->tensorflow<2.8,>=2.7.0->tensorflow-text) (1.3.0)\n",
            "Requirement already satisfied: importlib-metadata>=4.4 in /usr/local/lib/python3.7/dist-packages (from markdown>=2.6.8->tensorboard~=2.6->tensorflow<2.8,>=2.7.0->tensorflow-text) (4.8.2)\n",
            "Requirement already satisfied: zipp>=0.5 in /usr/local/lib/python3.7/dist-packages (from importlib-metadata>=4.4->markdown>=2.6.8->tensorboard~=2.6->tensorflow<2.8,>=2.7.0->tensorflow-text) (3.6.0)\n",
            "Requirement already satisfied: pyasn1<0.5.0,>=0.4.6 in /usr/local/lib/python3.7/dist-packages (from pyasn1-modules>=0.2.1->google-auth<3,>=1.6.3->tensorboard~=2.6->tensorflow<2.8,>=2.7.0->tensorflow-text) (0.4.8)\n",
            "Requirement already satisfied: idna<3,>=2.5 in /usr/local/lib/python3.7/dist-packages (from requests<3,>=2.21.0->tensorboard~=2.6->tensorflow<2.8,>=2.7.0->tensorflow-text) (2.10)\n",
            "Requirement already satisfied: certifi>=2017.4.17 in /usr/local/lib/python3.7/dist-packages (from requests<3,>=2.21.0->tensorboard~=2.6->tensorflow<2.8,>=2.7.0->tensorflow-text) (2021.10.8)\n",
            "Requirement already satisfied: urllib3!=1.25.0,!=1.25.1,<1.26,>=1.21.1 in /usr/local/lib/python3.7/dist-packages (from requests<3,>=2.21.0->tensorboard~=2.6->tensorflow<2.8,>=2.7.0->tensorflow-text) (1.24.3)\n",
            "Requirement already satisfied: chardet<4,>=3.0.2 in /usr/local/lib/python3.7/dist-packages (from requests<3,>=2.21.0->tensorboard~=2.6->tensorflow<2.8,>=2.7.0->tensorflow-text) (3.0.4)\n",
            "Requirement already satisfied: oauthlib>=3.0.0 in /usr/local/lib/python3.7/dist-packages (from requests-oauthlib>=0.7.0->google-auth-oauthlib<0.5,>=0.4.1->tensorboard~=2.6->tensorflow<2.8,>=2.7.0->tensorflow-text) (3.1.1)\n",
            "Installing collected packages: tensorflow-text\n",
            "Successfully installed tensorflow-text-2.7.3\n",
            "\u001b[K     |████████████████████████████████| 1.8 MB 8.4 MB/s \n",
            "\u001b[K     |████████████████████████████████| 596 kB 37.5 MB/s \n",
            "\u001b[K     |████████████████████████████████| 213 kB 55.6 MB/s \n",
            "\u001b[K     |████████████████████████████████| 352 kB 20.7 MB/s \n",
            "\u001b[K     |████████████████████████████████| 1.2 MB 72.0 MB/s \n",
            "\u001b[K     |████████████████████████████████| 43 kB 2.1 MB/s \n",
            "\u001b[K     |████████████████████████████████| 99 kB 9.9 MB/s \n",
            "\u001b[K     |████████████████████████████████| 90 kB 10.7 MB/s \n",
            "\u001b[K     |████████████████████████████████| 47.6 MB 1.3 MB/s \n",
            "\u001b[K     |████████████████████████████████| 1.1 MB 58.4 MB/s \n",
            "\u001b[?25h  Building wheel for py-cpuinfo (setup.py) ... \u001b[?25l\u001b[?25hdone\n",
            "  Building wheel for seqeval (setup.py) ... \u001b[?25l\u001b[?25hdone\n"
          ]
        }
      ],
      "source": [
        "!pip install tensorflow-text\n",
        "!pip install -q tf-models-official"
      ]
    },
    {
      "cell_type": "code",
      "execution_count": null,
      "metadata": {
        "id": "8G-wlILDT9L2"
      },
      "outputs": [],
      "source": [
        "import tensorflow as tf\n",
        "import tensorflow_text as text"
      ]
    },
    {
      "cell_type": "code",
      "execution_count": null,
      "metadata": {
        "id": "pCbD4hfEmHa5"
      },
      "outputs": [],
      "source": [
        "import pandas as pd\n",
        "import re\n",
        "import nltk\n",
        "from nltk.stem.porter import *\n",
        "from sklearn.feature_extraction.text import CountVectorizer, TfidfVectorizer, TfidfTransformer\n",
        "import gensim\n",
        "from gensim.models import Word2Vec\n",
        "from nltk import word_tokenize\n",
        "from sklearn.model_selection import train_test_split\n",
        "import numpy as np\n",
        "from sklearn.naive_bayes import MultinomialNB\n",
        "from sklearn.linear_model import LogisticRegression\n",
        "from sklearn.linear_model import SGDClassifier\n",
        "from sklearn.metrics import precision_recall_fscore_support\n",
        "from statistics import mean\n",
        "from numpy import array\n",
        "from numpy import asarray\n",
        "from keras.preprocessing.text import Tokenizer\n",
        "from keras.preprocessing.sequence import pad_sequences\n",
        "from numpy import zeros\n",
        "from keras.layers import Embedding\n",
        "from keras.models import Sequential\n",
        "from keras.layers import Dense\n",
        "from keras.layers import Flatten\n",
        "from keras.layers import Embedding\n",
        "from keras.layers.convolutional import Conv1D\n",
        "from keras.layers.convolutional import MaxPooling1D\n",
        "from tensorflow import keras\n",
        "import tensorflow_hub as hub\n",
        "#from official.nlp import optimization  # to create AdamW optimizer\n",
        "\n",
        "import matplotlib.pyplot as plt"
      ]
    },
    {
      "cell_type": "code",
      "execution_count": null,
      "metadata": {
        "colab": {
          "base_uri": "https://localhost:8080/"
        },
        "id": "9EUkgj3SpKio",
        "outputId": "e1c752aa-ae6f-4fcc-d353-538a7d4c3419"
      },
      "outputs": [
        {
          "name": "stdout",
          "output_type": "stream",
          "text": [
            "[nltk_data] Downloading package punkt to /root/nltk_data...\n",
            "[nltk_data]   Unzipping tokenizers/punkt.zip.\n"
          ]
        },
        {
          "data": {
            "text/plain": [
              "True"
            ]
          },
          "execution_count": 5,
          "metadata": {},
          "output_type": "execute_result"
        }
      ],
      "source": [
        "nltk.download('punkt')"
      ]
    },
    {
      "cell_type": "markdown",
      "metadata": {
        "id": "u7f_auEvmJ1n"
      },
      "source": [
        "# Import data\n",
        "\n",
        "There are four features we can extract from the table below: title, lens, summary and linkref. In the first trial we will only use title and summary for text classification."
      ]
    },
    {
      "cell_type": "code",
      "execution_count": null,
      "metadata": {
        "colab": {
          "base_uri": "https://localhost:8080/",
          "height": 206
        },
        "id": "OdfiCgsnmOv3",
        "outputId": "1147d7a4-5752-42e3-dd0e-d6b20a7e5efa"
      },
      "outputs": [
        {
          "data": {
            "text/html": [
              "<div>\n",
              "<style scoped>\n",
              "    .dataframe tbody tr th:only-of-type {\n",
              "        vertical-align: middle;\n",
              "    }\n",
              "\n",
              "    .dataframe tbody tr th {\n",
              "        vertical-align: top;\n",
              "    }\n",
              "\n",
              "    .dataframe thead th {\n",
              "        text-align: right;\n",
              "    }\n",
              "</style>\n",
              "<table border=\"1\" class=\"dataframe\">\n",
              "  <thead>\n",
              "    <tr style=\"text-align: right;\">\n",
              "      <th></th>\n",
              "      <th>id</th>\n",
              "      <th>title</th>\n",
              "      <th>Lens</th>\n",
              "      <th>summaryplaintext</th>\n",
              "      <th>linkRef</th>\n",
              "    </tr>\n",
              "  </thead>\n",
              "  <tbody>\n",
              "    <tr>\n",
              "      <th>0</th>\n",
              "      <td>2772</td>\n",
              "      <td>CC project for futurism started</td>\n",
              "      <td>Political</td>\n",
              "      <td>Futurism gaining interest within the organizat...</td>\n",
              "      <td>Reference:&amp;nbsp;check FEI records</td>\n",
              "    </tr>\n",
              "    <tr>\n",
              "      <th>1</th>\n",
              "      <td>2773</td>\n",
              "      <td>DELETE ME Great eagerness tp participate  from...</td>\n",
              "      <td>Societal</td>\n",
              "      <td>opt-in participation is not meant to stress pe...</td>\n",
              "      <td>NaN</td>\n",
              "    </tr>\n",
              "    <tr>\n",
              "      <th>2</th>\n",
              "      <td>2774</td>\n",
              "      <td>this is what I heard the customer say, \"La di ...</td>\n",
              "      <td>Environmental</td>\n",
              "      <td>I think they meant that ehy wanted something t...</td>\n",
              "      <td>&lt;div&gt;hyperlink 1&lt;/div&gt;&lt;div&gt;'KEEP THIS AREA BRI...</td>\n",
              "    </tr>\n",
              "    <tr>\n",
              "      <th>3</th>\n",
              "      <td>2789</td>\n",
              "      <td>Reducitarian Kateman: \"Technological innovatio...</td>\n",
              "      <td>Economical</td>\n",
              "      <td>There is growing awareness that sustainability...</td>\n",
              "      <td>&lt;p&gt;&lt;a href=\"https://www.fastcompany.com/905995...</td>\n",
              "    </tr>\n",
              "    <tr>\n",
              "      <th>4</th>\n",
              "      <td>2790</td>\n",
              "      <td>Medical Futurist Meskó broadly covers wearable...</td>\n",
              "      <td>Social</td>\n",
              "      <td>Message is that healthcare is still trying to ...</td>\n",
              "      <td>&lt;div&gt;1. https://open.spotify.com/episode/4OtPk...</td>\n",
              "    </tr>\n",
              "  </tbody>\n",
              "</table>\n",
              "</div>"
            ],
            "text/plain": [
              "     id  ...                                            linkRef\n",
              "0  2772  ...                  Reference:&nbsp;check FEI records\n",
              "1  2773  ...                                                NaN\n",
              "2  2774  ...  <div>hyperlink 1</div><div>'KEEP THIS AREA BRI...\n",
              "3  2789  ...  <p><a href=\"https://www.fastcompany.com/905995...\n",
              "4  2790  ...  <div>1. https://open.spotify.com/episode/4OtPk...\n",
              "\n",
              "[5 rows x 5 columns]"
            ]
          },
          "execution_count": 6,
          "metadata": {},
          "output_type": "execute_result"
        }
      ],
      "source": [
        "df = pd.read_excel('drive/MyDrive/Hollister Confidential-Futurism 2021 - DeDuplication Tool v01c (1).xlsx', sheet_name='Clues')\n",
        "df.head()"
      ]
    },
    {
      "cell_type": "markdown",
      "metadata": {
        "id": "MhQw6bf4m80m"
      },
      "source": [
        "# Preprocess title + summary text"
      ]
    },
    {
      "cell_type": "code",
      "execution_count": null,
      "metadata": {
        "id": "RnOs87WGnDMn"
      },
      "outputs": [],
      "source": [
        "# Concat title and summary plain text\n",
        "df['full_text'] = df['title'] + ' ' + df['summaryplaintext']"
      ]
    },
    {
      "cell_type": "markdown",
      "metadata": {
        "id": "EHkqc3gOnBj4"
      },
      "source": [
        "### remove non algebra characters"
      ]
    },
    {
      "cell_type": "code",
      "execution_count": null,
      "metadata": {
        "id": "RgDWSw3vnVlL"
      },
      "outputs": [],
      "source": [
        "# Convert to lowercase\n",
        "full_text_ls = [df['full_text'][i].lower() for i in range(len(df['full_text']))]\n",
        "\n",
        "# Remove numbers / punctuation / special characters\n",
        "full_text_ls = [re.sub('[^A-Za-z]+', ' ', i) for i in full_text_ls]\n",
        "\n",
        "full_text_ls = [re.sub('cannot', 'can not', i) for i in full_text_ls]\n",
        "full_text_ls = [re.sub(' the ', ' ', i) for i in full_text_ls]\n",
        "full_text_ls = [re.sub(' a ', ' ', i) for i in full_text_ls]\n",
        "\n",
        "# Strip white space\n",
        "full_text_ls = [i.strip() for i in full_text_ls]"
      ]
    },
    {
      "cell_type": "markdown",
      "metadata": {
        "id": "rHoqy-N8qRPU"
      },
      "source": [
        "### conduct stemming"
      ]
    },
    {
      "cell_type": "code",
      "execution_count": null,
      "metadata": {
        "colab": {
          "base_uri": "https://localhost:8080/"
        },
        "id": "pbvC3aQgovit",
        "outputId": "392805e8-4748-4493-e6b7-6c55d13503e6"
      },
      "outputs": [
        {
          "name": "stdout",
          "output_type": "stream",
          "text": [
            "['cc project for futur start futur gain interest within organ delet thi clue after test', 'delet me great eager tp particip from respond opt in particip is not meant to stress peopl out but rather integr into their work selef select mental lead to inprov qualiti of output', 'thi is what i heard custom say la di da di i think they meant that ehi want someth thinnner not necessarili shorter', 'reducitarian kateman technolog innov ha role to play in advanc moral progress but so do ethic argument there is grow awar that sustain and climat chang will not be address without buy in of corpor strategi', 'medic futurist mesk broadli cover wearabl microbiom and ai in recent podcast messag is that healthcar is still tri to figur out what to do with insight provid by tidal wave of data that is readili avail to patient consum believ that cultur transform in healthcar is need befor wearabl data becom usabl', 'darpa award m in contract to alter microbiom to repel mosquito govern back new use case for microbiom modul long last bacteria base repel is goal of project aim to protect u s soldier from malaria', 'medic futurist mesk broadli cover wearabl microbiom and ai in recent podcast interview includ discuss of data privaci where mesk provid hi perspect of give up privaci in return for individu healthcar gain interest that these are gain base on hypothet long term outcom so far which may affect thi calcul for some patient', 'medic futurist mesk broadli cover wearabl microbiom and ai in recent podcast mesk believ that patient will increasingli be part of medic team for anoth exampl of thi trend see stanford medicinex which activ recruit patient as member of innov team interest perspect when ask about futur of medicin he describ desir of cohort of empow patient their top desir deliver from healthcar are empathi attent and time note that there is no mention of how ai diagnost technolog reimburs space where most medtech innov spend their most of their time', 'real time ai system hold ball in balanc on plate an exampl of rapid speed at which ai can respond interven webcam film system and python program analyz imag to find posit of ball python program calcul tilt of tray to prevent ball from fall', 'alarmist minut report provid good summari of biodata privaci issu offer for chines support of washington state fight against covid with sequenc support present as an attempt biodata hack chines govern may have stolen person data from of american adult accord to minut report', 'venturebeat articl on respons use of ai to creat better health system ai is onli as good as data provid histor patient data can reflect histor inequ that left uncheck may disadvantag some popul also uncertainti cloud model s output is direct result of how machin learn algorithm ingest data and form their own connect to creat infer', 'test test', 'tik tok influenc skin care tiktok user have been promot hydrocolloid dress to treat acn as new social media giant which hold great deal of influenc on gen z popul tiktok ha potenti to start affect how we treat our health hydrocolloid acn treatment video went so viral it prompt dermatologist to come out and debunk misconcept that wrap your whole face in hydrocolloid bandag might not be best idea whether or not tiktok video are best method to get medic inform thi articl show how pervas social media platform have becom in our live they might even becom new avenu for dispens inform on medic and treatment option', 'develop fibril cellulos as sustain technolog materi natur articl abstract cellulos is most abund biopolym on earth found in tree wast from agricultur crop and other biomass fibr that compris cellulos can be broken down into build block known as fibril cellulos of vari control dimens that extend to nanoscal use of fibril cellulos in fabric of materi rang from composit and macrofibr to thin film porou membran and gel is explor we discuss research direct for practic exploit of these structur and remain challeng to overcom befor fibril cellulos materi can reach their full potenti final we highlight some key issu toward success manufactur scale up of thi famili of materi http www natur com articl s', 'mit develop lab grown wood as sourc of biodegrad cellulos mit research are develop method to grow cellulos from zinnia plant without soil or sunlight when extend to other plant speci thi develop could lead to bespok cellulos scaffold for biodegrad materi which could be tune for need of non recycl singl use medic product articl includ great statement by research describ japanes startup that is make wooden satellit ani product should realli contempl how it s go to go back to earth', 'engin live materi elm made from microb can respond to stimuli from their surround environ research from imperi colleg london and mit combin bacteria from kombucha that produc cellulos with brewer s yeast to creat dual cellular scaffold that they hope could be use to creat therapeut or even live biosensor research were abl to engin yeast accord to need of their system for exampl to produc enzym that fluoresc or that broke down target molecul system for genet engin baker s yeast are well establish and fast mean that new strain with particular desir characterist can be creat quickli simpl growth condit requir by kombucha style cultur also mean that ani new combin can quickli be establish and bulk up readi for use both of these featur make thi favor elm system', 'second golden era of antibiot in episod number of thi week in microbiolog twim they discuss how dirt is not simpl construct but what wa realli interest wa how there is thi boom possibl second golden era of antibiot loom over us as we dig deeper polyketid some speci of bacteria releas beta lactamas in order to surviv and combat anitmicrobi clavulan acid can actual act as beta lactamas inhibitor and be help when mix with certain antimicrobi i found thi particularli interest and could quit possibl be someth to think about in realm of coat hydrat medium', 'mushroom base packag or ic raw materi mushroom base technolog is anticip to creat up to trillion usd circular economi by by provid solut to packag dispos healthcar product and other industri build materi meat substitut etc while initi develop as an environment altern to plastic and inorgan wast thi emerg technolog may also have consider econom societ and technolog impact across divers industri includ medic devic', 'lehigh rheologist mimic ph environ of gi tract to shed light on pharmaceut potenti of coval adapt hydrogel gel especi hydrogel is veri activ topic in materi scienc due to advanc in character and synthet techniqu to make control well defin materi here work involv breakdown of gel in stomach with an activ drug molecul gel is abl to reform to encapsul drug molecul thu preserv integr of activ ingredi much longer idea here could be appli to cathet coat or materi we may need to interfac intern with bodi that doe not have best integr due to mechan wear but is abl to heal or reform itself to maintain physic properti of interest for custom', 'k beauti trend to tri in accord to expert korean beauti market continu to churn out differ activ ingredi in skin care health lot of focu is on wholist or natur product that can improv skin health although we might not want to use ingredi of snail mucin or bee venom we can pay attent to fundament principl of whi these ingredi or addit may or may not work import here is that these beauti product can be experiment lab incub to test how market respond to new addit toward materi develop for skin health these idea could be translat over to cc or skin health in term of addit and there mechan of action to enhanc product line', 'digit light d print of custom bioresorb airway stent with elastomer properti thi studi give an exampl of resin develop for addit manufactur of medic devic custom bioresorb airway stent produc by d print are under develop howev biocompat and biodegrad materi for d print of elast medic implant are still lack thi studi describ dual polym photoink for digit light d print of custom and bioresorb airway stent these stent exhibit tunabl elastomer properti with suitabl biodegrad in vivo studi in healthi rabbit confirm biocompat and show that stent stay in place for week after which they becam radiograph invis thi work open promis perspect for rapid manufactur of custom medic devic for which high precis elast and degrad are sought', 'patient name and colonoscopi result hack and post onlin legal implic to how hollist use person bio data and health app cyberattack on hospit and cco are increasingli common doubl in second half of thi hack wa strang cybercrimin typic don t post inform publicli it s more common for them to lock comput system until facil pay ransom clue speak to need for consider of these threat by develop of digit health approach could also encourag use of outsourc data hous by org such as googl or aw to pass buck two major attack target us health care facil in fall howev', 'biodegrad nonwoven sanitari pad new compani planera ha made first ever flushabl biodegrad sanitari pad it is made of three part top sheet core and bottom sheet which is call upflow barrier tm top sheet is made of cellulos fiber to make pad soft on skin wood pulp core help maintain absorpt and bottom sheet absorb ani sweat dure use upflow barrier tm technolog work by absorb and lock in fluid from top but when submerg in larg amount of fluid when it is flush in toilet hydraul action rip pad apart thi is veri excit develop consid billion of singl use hygien product that are dump in landfil each year', 'destruct of mucu thi episod of twim ep talk about mucu bust effect of nitric oxid in patient with lung infect lung infect in thi episod are brought on by biofilm format of psuedomona aeruginosa and how mucu in lung help facilit that infect nitric oxid can kill microb and break up mucu my thought could mucu in urinari tract actual caus more harm than good in patient with neurogen bladder nitric oxid is found in bladder sometim dure infect bodi respons to help fight infect', 'biolac r pure plant base clean wipe suominen finnish nonwoven hygien product compani ha creat clean wipe made from cellulos fiber to meet rise concern of global environment concern and marin plastic these wipe are biodegrad and compost and are plan to be launch commerci thi year', 'attack adhesin there ha been some research go on in realm of attack adhes properti of microorgan in fact here at hollist we have been research way to do so as well i found thi recent paper that talk about anti adhes and go after adhesin that allow certain microorgan to attach to certain surfac ie cathet fimh is an adhesin that s produc by upec uropathogen eschericia coli sever fimh inhibitor have been made ligand drug discoveri carbohydr base drug can block fimh glycomimet think d mannos d mannos ha been use befor in uti prevent d mannos act as receptor for fimh to attach to d mannos is easili deriv from plant less harsh side effect possibl add to hydrat medium or coat', 'otc migrat of urinari therapi usfda gave otc approv for ten electrostimul devic shown to reduc involuntari urinari leakag seem to be posit to postpartum incontin technolog in devic is not novel but over counter approv is which seem to build on mount frustrat at least among us patient with rise deduct premium for same level of coverag dtc cash payment allow for faster access no md appt rx to be fill etc thi trend could creat divid in med devic access but may also allow access to med devic for those who had no insur to begin with', 'scientist push to develop noah s ark for microbiom similar to seed vault so what drive to collat inform relat to microbiom provid evid that peopl understand import of captur knowledg relat to microbiom to preserv societi', 'propos to build microbiom vault similar to seed vault so what belief that preserv and categor inform relat to microbiom will have valu toward human preserv', 'fda lay groundwork for oversight of ai enabl devic so what if fda is under consider of regul ai enabl or machin learn devic provid more support that big data collect and analysi will be part of concept for develop medic product or servic patient need', 'forget blood your skin might know if you are sick new microneedl skin patch take advantag of interstiti fluid right beneath layer of outermost skin to look for biomark that indic seriou condit like tuberculosi and cancer recent paper publish in natur biomed engin from research at washington univers in st loui show thi new dispos microneedl patch can captur key biomark in interstiti fluid with time more sensit compar to other biomark test thi technolog will be extrem use in low and middl incom countri becaus it doe not requir train medic staff to administ or refriger of sampl collect it could also have larg implic on at home diagnost sector head research prausnitz and singamaneni forese that these microneedl patch could be use at home by anyon to track biomark for chronic condit', 'intrins hydrophob antibacteri thin film from renew resourc applic in develop of anti biofilm urinari cathet use of renew resourc to develop function materi is increas in order to meet sustain challeng in an era of inexor evolut of antimicrobi resist there is substanti increas in demand for develop of effici antimicrobi thin film coat from renew resourc for public bacteri threat food biomed and industri applic in present investig we have use cardanol phenol compound have unsatur hydrophob tail isol from cashew fruit and linse oil veget oil and an import biobas build block which are cheap and easi to regener thi studi report synthesi of cardanol base metal complex have unsatur hydrophob unit and acryl epoxidis linse oil aelo prepar via epoxid of doubl bond follow by acryl doubl bond present in metal complex and aelo is prone to form assembl thin film under atmospher condit without need of ani initi assembl thin film is one of import aspect of nanotechnolog hold wide rang of applic h nmr and ft ir analysi reveal exist of strong interact between ligand and metal which pave way to develop non leachabl metal base thin film coat leach behaviour of thin film coat wa investig under variou aggress condit with aid of uv vi spectroscopi mechan properti of assembl thin film coat materi compos of cardanol base metal complex and aelo are describ use oscillatori rheolog morpholog and saxd analysi clearli reveal format of assembl structur in thin film thermal respons of these materi ha been investig use tga and dsc measur intrins hydrophob charact wa identifi by contact angl measur antimicrobi and biofilm inhibitori behaviour of synthes compound and thin film were investig against variou human pathogen bacteri strain assembl thin film coat cathet tube complet inhibit biofilm format of uropathogen escherichia coli upec thu develop thin film coat materi hold promis to be use as metal enabl non leachabl coat materi for public bacteri threat and food and biomed applic in particular thi materi can be potenti use for develop urinari cathet tube with antibacteri properti', 'biocompat and total disintegr semiconduct polym for ultrathin and ultralightweight transient electron increas perform demand and shorter use lifetim of consum electron have result in rapid growth of electron wast current consum electron are typic made with non decompos non biocompat and sometim even toxic materi lead to seriou ecolog challeng worldwid here an exampl of total disintegr and biocompat semiconduct polym for thin film transistor is report polym consist of revers imin bond and build block that can be easili decompos under mild acid condit in addit an ultrathin nm biodegrad cellulos substrat with high chemic and thermal stabil is develop coupl with iron electrod we have success fabric fulli disintegr and biocompat polym transistor furthermor disintegr and biocompat pseudo complementari metal oxid semiconductor cmo flexibl circuit are demonstr these flexibl circuit are ultrathin m and ultralightweight g m with low oper voltag v yield potenti applic of these disintegr semiconduct polym in low cost biocompat and ultralightweight transient electron thi work significantli advanc organ materi to enabl environment friendli and biointegr electron applic', 'seawe munch microb produc sustain bioplast plastic wast is major problem in world s ocean which is whi some group have develop bioplast that break down in sea howev thi isn t entir eco friendli which is whi isra scientist are work on bioplast that are deriv from marin microorgan instead of petroleum biodegrad plastic are typic made from plant matter or bacteri by product unfortun in order to grow plant or provid medium for bacteria fertil soil and fresh water are requir not onli are these not plenti in all part of world but they could also otherwis be use to grow food crop with that in mind research from tel aviv univers look to ulva lactuca alga aka sea lettuc thi wa cultiv in ocean and then fed to singl cell microorgan known as haloferax mediterranei those organ proceed to excret bioplast polym call polyhydroxyalkano pha it can in turn be use to produc plastic which are complet biodegrad and produc no toxic wast', 'plant base plastic biodegrad in ocean osaka univers ha develop an altern type of transpar plastic consist mainli of cellulos nanofib and starch both of which were obtain from plant accord to research thi biodegrad plastic avoid certain drawback of other such plastic such as inferior qualiti to convent plastic high product cost and manufactur in small quantiti thank to proprietari product process finish product is claim to exhibit excel water resist and high strength while also be veri biodegrad when left float in seawat over time and as an ad bonu becaus plastic isn t petroleum base it product shouldn t produc ani greenhous gase', 'metallis packag film cf crisp packet made of new materi could be much easier to recycl crisp packag isn t accept by household recycl scheme as metallis film use for packet are hard to recycl as they are made from sever layer of plastic and metal fuse togeth propos altern is veri thin layer call nanosheet made from amino acid and water appli to film of plastic polyethylen terephthal or pet which most plastic water bottl are made of propos by o hare and hi team benign build block of amino acid and water appear to make materi safe for use with food howev there will be long regulatori process and public shouldn t expect to see materi in packag for at least four year part of challeng in design materi wa meet industri demand for good barrier to gase to avoid contamin and keep product fresh to make nanosheet effect o hare s team creat tortuou pathway sort of maze at nano level that make it hard for oxygen and other gase to diffus through as an oxygen barrier it appear to perform around time better than metallis film and materi also fare well in industri s crumpl test which involv flex and twist it film also ha big advantag of be monomateri packag in other word onli have one materi pet which can be wide recycl', 'd print as an effect tool for anti infect dialysi cathet fabric cathet associ infect are common complic that occur in dialysi patient current strategi to prevent infect includ cathet coat contain heparin pyrogallol or silver nanoparticl which all have an increas risk of caus resist in bacteria therefor novel approach for manufactur such as use of addit manufactur am also known as three dimension d print is requir filament were produc by extrus use thermoplast polyurethan tpu and tetracyclin hydrochlorid tc in variou concentr e g and extrud filament were use in fuse deposit model fdm d printer to print cathet construct at vari concentr releas studi in phosphat buffer salin microbiolog studi thermal analysi contact angl attenu total reflect fourier transform infrar scan electron microscopi and x ray microcomput tomographi ct analysi were conduct on print cathet result suggest that tc wa uniformli distribut within tpu matrix microbiolog test of cathet show that devic contain tc had an inhibitori effect on growth of staphylococcu aureu nctc bacteria cathet contain tc maintain inhibitori effect after day releas studi after an initi burst releas in first h there wa steadi releas of tc in all concentr of cathet d print antibiot cathet were success print with inhibitori effect on s aureu bacteria final tc contain cathet show resist to s aureu adher to their surfac when compar with cathet contain no tc cathet contain of tc show bacteri adher reduct of up to accordingli incorpor of tc to tpu materi can be effect use to prepar anti infect cathet use fdm thi studi highlight potenti for drug impregn medic devic to be creat through d print', 'charg switchabl polymer coat kill bacteria and prevent biofilm format in vivo prevent bacteri biofilm format on medic devic and implant in vivo still remain daunt task current antibacteri coat to combat implant associ infect are gener compos of toxic metal or non degrad polym and involv multistep surfac modif here we present charg switchabl antibacteri and antibiofilm coat base on water insolubl cation hydrophob polym that are solubl in organ solvent and can be non coval coat onto differ surfac toward thi librari of quaternari polyethylenimin qpei polym with an amid or ester group in their pendant alkyl chain wa develop these qpei are shown to hydrolys from activ cation to nontox zwitterion polym under acid or enzymat condit notabl polym with both zwitterion and cation group obtain upon partial hydrolysi of qpei are shown to retain their antibacteri activ with much lower toxic toward mammalian cell furthermor zwitterion polym fulli hydrolys product of qpei is shown to be nontox to mammalian cell in vitro as well as in vivo qpei when coat onto surfac kill bacteria and prevent format of biofilm in an in vivo mice model qpei coat medic grade cathet is shown to reduc methicillin resist staphylococcu aureu contamin both on cathet surfac and in adjac tissu reduct compar to non coat cathet addit biofilm format is inhibit on cathet surfac with neglig inflamm in adjac tissu abov result thu highlight import of these polym to be use as effect antibacteri coat in biomed applic', 'univers scientist help creat world first antimicrobi medic glove new type of medic glove ha been develop that kill microb without use of ad chemic glove were develop over cours of six year by univers of nottingham and utilis proprietari technolog which univers describ as new activ microorgan kill molecul thi molecul is incorpor right into materi mean that no antibiot have to be appli to surfac of glove nor do ani leach out into environ in lab test glove reportedli kill up to percent of bacteria within five minut of contact it is hope that these antimicrobi glove will reduc amount of healthcar associ infect in patient', 'superhydrophob coat for urinari cathet to delay bacteri biofilm format and cathet associ urinari tract infect in thi research multilay superhydrophob coat for urinari cathet wa synthesis by layer by layer deposit techniqu mussel inspir polydopamin coat wa utilis as platform for in situ anchor of silver nanoparticl follow by hydrophob modif with h h h h perfluorodecanethiol benefit from synergist effect of hierarch micro nanostructur and antibacteri silver nanoparticl prepar cathet exhibit excel superhydrophob and prolong antibacteri activ against escherichia coli wt f and proteu mirabili wt f compar with commerci all silicon and silver alloy hydrogel cathet superhydrophob cathet exhibit signific antibiofilm activ in both static and dynam model in an in vitro bladder model bacteri migrat along outer cathet wa effect delay reduc biomass accumul by up to and compar with all silicon and silver alloy hydrogel cathet encrust in cathet lumen were also retard extend lifetim of silicon cathet from to h superhydrophob cathet also exhibit good biocompat to l mous fibroblast therefor provid promis direct for futur design of urinari cathet', 'new d print devic could help treat spinal cord injuri bioengin spinal cord is fabric via extrus base multimateri d bioprint in which cluster of induc pluripot stem cell ipsc deriv spinal neuron progenitor cell snpc and oligodendrocyt progenitor cell opc are place in precis posit within d print biocompat scaffold dure assembl locat of cluster of cell of singl type or multipl type is control use point dispens print method with m center to center space within m wide channel bioprint snpc differenti and extend axon throughout microscal scaffold channel and activ of these neuron network is confirm by physiolog spontan calcium flux studi success bioprint of opc in combin with snpc demonstr multicellular neural tissu engin approach where abil to direct pattern and combin of transplant neuron and glial cell can be benefici in rebuild function axon connect across area of central nervou system cn tissu damag thi platform can be use to prepar novel biomimet hydrogel base scaffold model complex cn tissu architectur in vitro and har to develop new clinic approach to treat neurolog diseas includ spinal cord injuri', 'water wipe contain onli two ingredi water and drop of fruit extract similar to urinari cathet babi wipe are an item that are in regular contact with sensit area water wipe contain water and contain drop of fruit extract natur ingredi so that they are still safe to use on delic newborn babi skin while special formul hydrat solut give us superior lubric dri out perform while meet all of biocompat requir could user of futur perceiv water onli hydrat as be their first choic', 'covid could bring welcom relief to ireland s burgeon medic devic industri as coronaviru continu to spread throughout europ and govern take increasingli sever measur to minimis it impact through restrict of movement and gather of peopl we look at how medic devic industri and regulatori framework which surround it may get an unexpect lucki break as result of rapid spread of viru across eu', 'health canada provid covid interim order approv for bactiguard s tempsensor cathet health canada ha approv bactiguard s urinari cathet with temperatur sensor for infect prevent through an interim order approv is driven by covid as bactiguard s cathet can reduc risk of secondari infect for critic ill patient', 'audia elastom offer recycl content tpe resin audia elastom ha announc launch of it audiaflex famili of thermoplast elastom tpe which it call one of industri s first tpe portfolio that meet sustain need of brand owner and consum new audiaflex portfolio includ what audia call customiz grade that are produc from postconsum postindustri and marin base scrap and other made with bio base sourc', 'volymi smart cathet bag alert help user go with confid trip to toilet are someth most peopl take for grant but for those depend on urinari cathet bag process is more complic there is constant anxieti about how full bag is and it is thi problem that founder of volymi are aim to solv with their smart cathet bag alert system volymi is primarili aim at cathet bag user with limit mobil it monitor amount of urin in bag and let user know when it need attent mani cathet user are paralys and use wheelchair thi mean they can not check full of their bag without help if their carer is not around to do thi for them they worri that bag is get too full if it overfil they are at risk of stroke or sever infect', 'smart cathet system new bladder control manag solut intelliflow cathet is fulli intern to male anatomi cathet tip incorpor magnet valv pump which open and close via remot control and enabl bladder to fill natur cathet enabl user to empti their bladder comfort and conveni without frequent catheter or extern bag attach to bodi to collect urin it maintain it posit with help of anchor featur no balloon need', 'digit health in plastic surgeri and cosmet person skin care industri is grow thank to ai and advanc imag technolog in shiseido releas optun smart skincar devic iot devic connect to an app on phone which use ai technolog to analyz photo of user skin base on data like sleep pattern locat base environment data and sleep data result of analysi are then sent to optun machin which produc optim skincar product that fit with user s current skin condit', 'amazon is disrupt healthcar industri amazon care amazon is disrupt healthcar industri in multipl way as an onlin pharmaci by sell medic product and as digit enabl of of healthcar amazon launch virtual primari care clinic call amazon care latest sign of giant retail s grow ambit in healthcar amazon care includ video and text visit with clinician as well as in home care program is describ as new benefit for employe of compani and is pilot project in seattl area amazon ha been expand in healthcar and separ partner with jpmorgan and berkshir hathaway on an effort to improv care for their worker call haven in june amazon acquir onlin pharmaci pillpack for million with it disrupt network and smart technolog they could be major disruptor', 'gillett partner with terracycl for circular person care wast solut gillett recent launch planet kind sustain shave care product line includ skincar product made without paraben sl sulfat dye recycl plastic handl recycl paper packag and partnership with terracycl to becom world s first nation razor recycl program terracycl help keep hard to recycl blade and razor from end up in landfil through thi partnership we are make an effort to help recycl estim billion razor thrown away everi year our planet kind razor handl are durabl and reusabl but if you want to dispos of them for ani reason terracycl can help with that too', 'antimicrobi nanotub in packag can revolution food safeti food industri is look at use nanocarri infus biopolym instead of tradit thermoplast polym for it packag system while biopolym have ad benefit of be from renew sourc environment friendli and rel easi to produc they have signific drawback of have tendenc to have poor mechan properti howev nanotechnolog can elimin thi problem by design more substanti barrier if manufactur in food industri can show these materi can help keep peopl safer from food born ill it not onli present remark market opportun but it is also an effect risk manag strategi perhap some of these econom environment health and technic benefit could be transfer over to medic devic industri in form of new antimicrobi nanocarri infus packag system urinari cathet or ostomi product comment', 'sustain in medic devic packag yeah it s thing medic packag is one of last sustain packag frontier but seriou effort are underway to shrink it footprint medtron describ some of step taken by world s largest medic devic compani to shrink it environment footprint', 'how are medic devic make consum more environment consciou medic industri doesn t have best track record when it come to environment howev some healthcar compani are chang that one of way medic devic manufactur are creat eco consciou consum is by be transpar about their materi and process some compani offer servic to help recycl their product packag even if product is effici buy it may not be as green practic as you might think cleaner method of product are help solv that problem creat devic that consum can use for longer will reduc frequenc at which their product get thrown away', 'smartphon camera test for urinari tract infect research at univers of bath have develop simpl point of care test for urinari tract infect that use smartphon camera system can rapidli detect presenc of e coli in urin sampl and could guid doctor in their decis to prescrib antibiot ensur appropri patient care and avoid overus of antimicrobi medic new devic consist of plastic strip contain micro capillari over which user can pass urin sampl antibodi present in devic will bind to bacteria such as e coli present in approxim of urinari tract infect in urin immobil them an enzym then caus color chang that can be seen use smartphon camera system can analyz result imag and provid an indic of concentr of bacteria in sampl thi technolog could be incorpor into urinari cathet separ funnel extens or into bag thi could be combin with ph system etc and be part of user data collect', 'implant bladder wrap for improv urinari control research at penn state have develop an implant devic that coil around bladder to detect when bladder is full and assist with empti it by contract on demand devic is intend to treat underact bladder condit in which incomplet bladder empti lead to irregular and uncomfort urin there is an increas number of treatment come avail which could reduc demand for contin care product', 'recent consum review on strategi to allevi eczema so what a recent consum review provid clue on to what to what and how gener public is inform and educ on skin health care what product have percept to work regardless of scienc', 'use of cell membran inspir phospholipid polym for low friction surfac so what altern idea for low friction surfac use polymer brush could offer differ materi sourc or idea of hydrat surfac coat for swollen film', 'microsoft launch major m ai for health initi so what invest in ai from major corpor in healthcar provid evid that ai in healthcar is look to be establish as fundament tenet in healthcar space also suggest that tech compani are shift their focu onto other market where data collect and util are market agnost', 'gordon confer microbi adhes and signal transduct signal at microb host interfac so what although thi confer wa in gordon program give latest trend of scientif interest that is relev in that time point and to up and come player in thi field it possibl to track evolut of scientif thought and fundament aspect of thi field and use that titl as help to support signal and clue from mainstream articl', 'transform tradit bi danish podcast dataklubben dataclub talk about move from legaci platform to modern bi and analyt platform and how chang manag ha been at core to reach reault with employe start think about compet and knowledg instead of specif technolog thi is all about work with busi intellig cloud transform data platform and report', 'transform r d challeng with data challeng design test and manufactur innov new product for patient with uniqu medic and qualiti of life requir solut appli design of experi doe techniqu to reduc cost acceler process and ensur highest possibl product qualiti result from engin to plant oper r d team now captur and analyz data more effici and effect than ever befor enabl coloplast to get it newest medic innov on market and in hand of patient in need', 'whi industri is next revolut in busi by invest in technolog that better connect peopl system and machin manufactur can becom more effici agil and collabor than ever befor that s power i see in industri through combin of technolog like ai iot and robot manufactur can craft new more product and less wast busi model', 'cancer precis medicin and ai oh my chicago s tempu leader in artifici intellig and precis medicin today announc launch of it new germlin sequenc assay xg gene panel that specif identifi genet variant associ with hereditari cancer syndrom and inherit risk of cancer tempu enabl physician to make real time data driven decis to deliv person patient care and in parallel facilit discoveri develop and deliveri of optim therapeut goal is for each patient to benefit from treatment of other who came befor by provid physician with tool that learn as compani gather more data acceler of person medicin cancer therapi', 'ecofriendli electron skin research at univers of boulder are creat thin wearabl that stick to skin devic is littl thicker than bandaid stretch in ani direct and can be appli to skin without heat it ha similar function to wearabl fit monitor on market such as temperatur monitor and heart rate measur howev unlik fitbit and other plastic heavi wearabl they don t end up in landfil screen print liquid metal wire circuit and it self heal polyimid hous can be fulli dissolv onc imerg in recycl solut', 'uc davi develop wearabl with ai to predict monitor locat bladder size volum most peopl take that kind of bladder fill awar for grant but it is lack for approxim half million individu in unit state with spinal cord injuri or spinal anomali ghiasi describ how noninvas sensor will combin sever sens modal such as ultrasound reson sens and light to tell if bladder is full or empti proof of concept studi have been promis with current nsf grant team will continu to refin prototyp and undertak new studi on peopl with and without spinal cord injuri or anomali', 'a littl bit of posit goe long way paper emot attribut social connect and qualiti of life associ with intermitt catheter talk about qualiti of life of patient who had to start use ic social connect is key survey were sent out about how patient felt about ic attribut of depress anxieti feel bad about one s self empower independ and confid associ with ic were look at mani suffer emot distress due to lack of posit attribut in associ with ic if caregiv nurs show posit attribut toward ic patient felt better', 'bladder irrig with povidon iodin thi paper bladder irrig with povidon iodin prevent recurr urinari tract infect in neurogen bladder patient on clean intermitt catheter discuss bladder irrig with povidon iodidn clean intermitt catheter patient who had recurr uti were use in thi studi jan jan on patient daili pi bladder irrig reduc uti by also decreas in mdr uti microorgan reduc number of er visit', 'skin pain is real problem for atopicdermat patient recent articl talk about skin pain in atop dermat patient and novel numer scale to measur skin pain in adult with ad could thi be appli to other area where pain is experienc http link springer com epdf s share token rclkb bixhcludm m y nfe rwlqnchnbyi wbcmay z gdywiik widh hayua jtohktok jjg tpl adndvv g qtbpjfh uz jseg vxoal dc wedi allczcsmhm xevg dmahimih gqk ifrc ybzyuc d', 'bladder scanner are becom more portabl bladder scanner can provid insight into when patient will need to void urin there is trend to make bladder scanner more portabl and smaller for individu use portabl or home bladder scanner could potenti reduc frequenc of unnecessari catheter and risk of uti bladder scanner can also be valuabl tool for provid post void residu volum to assess possibl urinari retent', 'essiti launch absorb underwear for menstruat and incontin hygien and health compani essiti is launch new rang of washabl absorb underwear within it feminin care and incontin product categori underwear offer invis protect for up to eight hour provid user with more sustain option than dispos protect', 'cryogen cool monopolar radiofrequ cmrf in stress urinari incontin jan pm et vivev medic inc vive by vandana singh sa news editor comment nano cap vivev medic vive ha initi it pivot pursuit trial to evalu cryogen cool monopolar radiofrequ cmrf in stress urinari incontin protocol of trial reflect chang to studi design approv by fda includ an increas in size to subject to provid clearer assess of trial s primari endpoint primari efficaci endpoint of trial is comparison of proport of patient who experi greater than reduct in urin leakag compar to baselin on standard hour pad weight test at month post treatment versu new sham procedur enrol is expect to complet by end of second quarter of thi year compani announc posit result from subject three arm feasibl studi evalu it cmrf for treatment of mild to moder stress urinari incontin in women in august last year', 'eastman to build one of largest plastic to plastic recycl facil in world in tennesse eastman chemic will build one of world s largest plastic to plastic recycl facil at it site in kingsport eastman alreadi global leader in plastic chemic and fiber will invest approxim million in facil over next two year use molecular recycl technolog like methanolysi eastman s new world scale facil will convert polyest wast that often end up in landfil and waterway into durabl product creat an optim circular economi eastman hope to have facil up and run by end of compani ha commit to recycl more than million pound of plastic wast annual by and hope to recycl more than million pound annual by', 'smart cathet novel biosensor for earli detect of cathet associ urinari tract infect imperi colleg london have develop wireless biosensor for continu monitor of cathet urin biochemistri thi project aim to valid thi biosensor and demonstr it s potenti for preemptiv cauti diagnosi through continu urinari biochem monitor their research project aim to demonstr that continu urinari biochem monitor use smart cathet biosensor can provid rapid diagnosi of impend cathet associ urinari tract infect cauti primari research question will then be doe smart cathet devic reduc time to diagnosi of cauti thi will be accomplish through four studi aim of first studi will be to show reliabl and robust of smart cathet devic through question is there ani differ between biochem measur from smart cathet devic and gold standard laboratori measur aim of second and third studi aim to demonstr differ biochem profil of infect and healthi urin by address research question what is differ in biochem concentr in healthi urin as compar to infect urin studi will accomplish thi by compar infect human cathet acquir urin as compar to uninfect human cathet urin studi will monitor chang in biochem chang in an artifici bladder with artifici urin over time while an infect is induc final studi will demonstr reduc time to diagnosi in clinic set by address research question what is time differ in diagnosi of cauti from cauti as compar to current standard of clinic monitor', 'smart surfac may help tackl infect and antimicrobi resist contamin surfac and medic devic contribut to transmiss of healthcar associ infect and spread of antimicrobi resist in fact in there wa in chanc that you would pick up an infect from be patient in hospit introduc surfac that kill bacteria at point where patient are like to touch could bring thi number down if we do noth there will be million death due to antimicrobi resist by dr gerald larrouy maumu senior lectur depart of life scienc antimicrobi surfac could also play an import role in tackl antimicrobi resist when attach to surfac commun of microb term biofilm can support microbi surviv and protect them from attack by biocid and antibiot thi can lead to sever infect in medic devic e g cathet associ urinari tract infect prosthesi e g infect hip joint and water born infect e g pseudomona and legionalla contamin of hospit water system institut for molecular scienc and engin ha commiss brief paper to look at how we can make surfac antimicrobi at brief paper s launch yesterday author dr gerald larrouy maumu outlin how antimicrobi surfac could disrupt microbi habitat by reduc microbi attach or kill attach microb you can watch full launch of brief paper here one way to make surfac antimicrobi is by p hysic alter properti of surfac cicada larg group of insect whose wing have antimicrobi properti are good exampl of thi t he surfac of cicada s wing consist of nanoscal spike that can punctur cell wall of bacteria these nanoscal spike have been shown to be particularli effect against some type of bacteria includ e coli see link provid below for more detail on thi technolog', 'pressur sens cathet system univers of minnesota multi sensor flexibl strip ha develop for urethr cathet to measur distribut pressur in human urethra develop sensor strip ha import clinic applic in urodynam test for analyz caus of urinari incontin in patient develop cathet can provid simultan measur of pressur at multipl locat in urethra with one static devic instead of current techniqu of move devic to measur pressur at one locat at time propos techniqu provid real time measur of distribut of pressur and can be use for urethr measur dure provoc maneuv such as cough press stomach etc develop sens devic is highli flexibl for insert into urethra and highli compact for inclus on mm diamet cathet sensor system reli on an inexpens dispos capacit sensor strip sensor strip can be util with cathet of variou size as long as slot size is standard for strip in all cathet sensor will util signal line embed on sensor strip singl electron interfac at distal end of cathet will enabl all sensor signal to be read simultan biomed pressur sensor have previous been develop in literatur for cardiac eye and brain applic howev all of these applic involv onli singl sensor and not seri of pressur sensor on flexibl substrat for distribut forc measur', 'analyz and diagnos human wast from standard toilet bowl outsens ha develop technolog capabl of accur analyz and diagnos human wast from within standard toilet bowl it solut offer monitor platform that enabl earli detect of medic condit outsens is claim to be first compani to demonstr that blood in stool can be effect monitor in standard toilet bowl rather than by send sampl to lab devic ha multi spectral optic sensor an illumin modul and an autonom control with wi fi receiv thi ensur captur data is automat transfer to cloud where an applic carri out real time analysi and deliv insight to devic belong to end user or directli to health care provid if system detect ani abnorm it issu notif to trigger further analysi and treatment outsens s patent technolog use small devic that clip onto toilet bowl devic is equip with smart optic sensor that autonom scan human wast without need for ani user intervent inform is transfer to secur cloud platform where it is analyz use advanc imag algorithm and artifici intellig ai tool thi can be later seen in view on outsens mobil applic analysi includ patient s medic histori and enabl person diagnost and biofeedback system s report is deliv to caregiv and user outsens s initi clinic focu is on screen for hidden blood in stool which can be an earli indic of colorect cancer crc thi technolog can also monitor for dehydr urinari tract infect constip and diarrhea each of which can caus deterior and eventu hospit in elderli peopl technolog s abil to detect hidden blood in stool ha alreadi been clinic test and valid via studi carri out at israel s meir medic center which found it had accuraci dehydr detect ha also pass an initi feasibl test with high accuraci while other use case are current in develop phase', 'saphen neuromodul could modul bladder function more effect and consist than tibial neuromodul professor paul yoo co founder and hi team discov that saphen neuromodul could modul bladder function more effect and consist than tibial neuromodul sinc saphen nerv is pure sensori and anatom superfici close to skin surfac below knee thi novel target offer numer advantag over exist therapeut approach at home therapi no motor side effect larger therapeut window and easili access locat ebt medic develop nsafn noninvas saphen neuromodul is that it work via differ mechan than sacral neuromodul similar to percutan tibial neuromodul therapeut effect of nsafn exhibit slow onset slow offset pattern of action make it ideal for intermitt stimul rather than requir constant stimul thi allow for long durat of action without inconveni or invas of percutan or implant therapi electr activ of saphen nerv can elicit signific chang in urinari function with no report advers event due to peripher locat of saphen nerv treatment of overact bladder symptom may also be achiev by transcutan electr stimul or with chronic implant devic and patient that use thi devic experienc statist signific chang in bladder symptom relat to urinari incontin decreas and night time urinari incontin decreas when compar to baselin that contribut significantli to patient s qualiti of life', 'wireless cathet devic to replac intermitt cathet connect cathet develop by team at spinal singular is fulli intern extend use smart cathet system which provid control for men who face daili challeng of live with neurogen bladder like inabl to feel full of their bladder or control their bladder to urin lead to chronic urinari retent user place magnet on control next to valv in insert cathet and activ control s motor when valv is open and motor is activ titanium pin spin forward activ propel urin out of bladder thi allow for more complet empti of bladder and expuls of residu urin from urethra when cycl is complet pin is activ again spin in revers to close valv weekli exchang of steril cathet as oppos to multipl daili insert up to in week decreas likelihood of bacteria be transmit accord to startup connect cathet system is first extend use fulli intern wireless urinari cathet design for adult male with urinari retent clinic trial and regulatori submiss for fda clearanc and ce mark approv are current underway team use an overmold process that wa shorter less costli and reduc likelihood of devic failur it ha not reach market penetr but as devic is near end of develop it could be an opportun to collabor with', 'low frequenc ultrason wave prevent bacteria adhes to cathet uroshield is small extern devic which clip onto end of cathet and produc low frequenc ultrasound wave uroshield devic is commerci avail devic with two part dispos actuat which attach to extern portion of cathet and portabl batteri devic send out low frequenc ultrasound wave which run along surfac of cathet these acoust wave prevent bacteria from adher to cathet and prevent format of biofilm these wave run along full length of cathet and give gentl vibrat which can not be felt by cathet user usual with cathet bacteria gather in larg group on cathet and are surround by thick protect coat which is known as biofilm usual biofilm is extrem hard to penetr so bodi s natur immun system and infect defens system struggl to kill bacteria therefor infect and or blockag form these sound wave and vibrat from uroshield help to prevent bacteria from stick to and build up on cathet therefor prevent encrust infect and blockag antibiot also struggl to access bacteria within biofilm which are caus infect becaus uroshield break up biofilm antibiot and immun system now have access to kill bacteria and so if necessari shorter cours and lower dose of antibiot can be administ uroshield can also offer some peopl relief from cathet relat pain and bladder spasm uroshield is effect with all cathet type make size length or materi and it also doesn t matter whether your cathet is suprapub or urethr it doe not seem to impact uroshield efficaci if cathet is flip flow or free drainag to allow administr with all type of cathet', 'pressur sensor system support improv in bladder monitor and alarm bladder pressur is best indic of bladder function invivo bionic ha develop technolog with purpos of promot remot monitor of void problem such as urinari incontin and overact bladder sensor is link to wireless devic and allow for patient to follow their bladder condit real time person diseas follow up compani develop micro and nano pressur sensor system for continu monitor of human bladder sensor are implant directli into urinari bladder and refer sensor place outsid bladder wall compani also offer wireless devic for continu monitor of urinari pressur thi data is link to an alarm system that inform patient when bladder is get full', 'turn smart phone into medic devic veliv is tool for urinari infect diagnosi and is base on use of artifici intellig to analyz dipstick urin test ia technolog of veliv app transform smartphon camera into medic devic enabl analysi of color chang in dipstick urin test in comparison with color board urin test dipstick detect leukocyt nitrit and trace of blood clinic test result are review by doctor togeth with patient s answer to symptom questionnair avail in app after analysi of data doctor perform uti diagnosi veliv use artifici intellig ai to turn smartphon camera into medic devic enabl simpli and quickli urinari infect uti diagnosi at home system is form by singl wrap dipstick urin collect cup and colour board patient download veliv app which ha user friendli interfac and will provid guid for test to be perform in minut after follow instruct to collect urin sampl and submerg dipstick into it dipstick is place on color board for veliv app scan app use ai to normal and analyz dipstick imag regardless of light condit and camera type veliv app detect leukocyt nitrit and trace of blood in urin through comparison of dipstick color with color board patient also answer an in app questionnair regard their symptom which will be analyz by doctor togeth with clinic test result uti diagnosi is perform within minut after test complet veliev is as accur as standard lab equip and is author to be commerci at european union eu veliv app is also in accord with eu gener data protect regul in unit state veliv is limit to investig use and clinic trial to evalu veliv accuraci wa recent conduct healthi io is also use same ai technolog to develop at home system for earli detect of chronic kidney diseas and wound manag', 'eu lawmak call for target to reduc raw materi use lawmak in european parliament s environ committe will call for legal bind target to reduc raw materi use in report due to be vote on thi week vote on tuesday januari will shape parliament s respons to european commiss s circular economi action plan present in march last year tighter wast and recycl law are central to commiss s plan with new target due to be present thi year as part of broader revis of eu wast rule in their report mep call on european commiss to propos scienc base bind eu mid term and long term target for reduct in use of primari raw materi in manufactur industri to achiev thi they call for back cast approach to ensur that polici object are on credibl path to achiev carbon neutral and fulli circular economi within planetari boundari by at latest hollist is current in teh medic consum busi and could find itself in jeopardi if or when thi legisl will come into play', 'can human mortal be hack fring group of scientist and tech mogul think they re close in on fountain of youth', 'man with al couldn t feed himself anymor so built hi own feed robot when thi michigan man with al couldn t feed himself anymor he built hi own feed robot for technolog is becom cheaper and easier to code and build thi maker approach to person care could see user find and even distribut say under cc medic devic', 'wearabl circuit sinter at room temperatur directli on skin surfac for health monitor soft bodi area sensor network present promis direct in wearabl devic to integr on bodi sensor for physiolog signal monitor and flexibl print circuit board fpcb for signal condit readout and wireless transmiss thi could significantli contribut to more discreet and less obtrus monitor and perhap even prevent and cure condit', 'a new artifici eye mimic and may outperform human eye thi devic which mimic human eye s structur is about as sensit to light and ha faster reaction time than real eyebal it may not come with telescop or night vision capabl that steve austin had in six million dollar man televis show but thi electron eyepiec doe have potenti for sharper vision than human eye research report in may natur if bionic eye are possibl sure bionic bladder are there too', 'neuralink may start human implant later thi year neuralink could be way to bridg spinal cord injuri', 'covid vaccin site temporarili shut down after protest gather at entranc dodger stadium s mass covid vaccin site wa temporarili shut down saturday afternoon when about anti vax protest gather at entranc frustrat hundr of motorist who had been wait in line for hour scienc is under sieg from stupid we need to increas our effort to keep our messag relev clear and fact base', 'artifici intellig use in longev medicin develop recent advanc in deep learn enabl develop of ai system that outperform human in mani task and have start to empow scientist and physician with new tool sinc ai system have outperform human expert in multipl area includ imag recognit knowledg quizz video game languag translat and mani other task most of these achiev have been made possibl by variou advanc in deep neural network train on larg data set use high perform comput ai is blackbox that we have no access into matur market like one we are in are potenti ripe for ai disrupt', 'wirelessli recharg soft brain implant control brain cell research have invent smartphon control soft brain implant that can be recharg wirelessli from outsid bodi it enabl long term neural circuit manipul without need for period disrupt surgeri to replac batteri of implant scientist believ thi technolog can help uncov and treat psychiatr disord and neurodegen diseas such as addict depress and parkinson s thi type of technolog could map area of brain that control sphincter mictur activ', 'synthet nerv conduit bridg gap in arm nerv repair team of scientist ha creat biodegrad synthet conduit that repair larg gap in injur nerv which support recoveri and acceler neuron heal in macaqu model synthet nerv conduit could offer viabl altern to autograft current gold standard treatment for support regener of nerv in patient who have experienc trauma and sever injuri trauma or surgic procedur can damag bodi s peripher nerv result in gap between nerv that impair movement and daili life peripher nerv do have abil to slowli regener across small gap with some assist but larger gap from more sever injuri are more challeng to heal clinician treat larg nerv gap by transplant nerv tissu from elsewher in bodi call an autograft but thi approach doesn t work for all type of injuri and can caus pain or loss of sensat build on previou work in rat neil fadia and colleagu test synthet conduit that can bridg larg nerv gap by guid regrowth of neuron their devic is small tube shape object made of biodegrad polyest with microspher that releas gdnf protein that support surviv of neuron embed in wall of tube when implant into macaqu with larg nerv defect in their arm nerv guid boost nerv regener and nerv abil to conduct signal over cours of year anim that receiv conduit recov their motor skill as well as those treat with autograft and show superior recruit of cell that sheath neuron in myelin an import protein that insul nerv what if we could bridg break that caus sci', 'how we spend on healthcar last year america s total medic cost hit new record of trillion accord to feder govern that s about percent of countri s total gdp mean that one out of everi six dollar we spent in went to health care what if prevent is cure', 'medtech is ripe for vc takeov with nearli trillion in annual spend on healthcar in thi countri there are gross ineffici and unmet clinic need that must be address marriag between healthcar and technolog will impact everyth how patient interact with care provid how diagnost data is obtain and analyz how intervent is recommend and perform and how outcom are measur and quantifi vc approach to busi model disrupt coudl be catastroph to oper', 'amazon offer to assist biden administr with covid vaccin distribut and logist may give amazon privat compani valuabl new trove of health data as it is expand into pharmaci and digit health potenti suppli chain disrupt in futur amazon s bid come as biden offici say they re tri to repair vaccin distribut system they inherit could help compani boost it own ambit of expand into trillion health care marketplac amazon might use ani feder agreement to push it own corpor advantag becaus they re veri well known as compani to tri to liter domin market and forc out ani competit', 'coloplast acquir nine continent medic inc tibial nerv stimul for over activ bladder ound in nine contin medic inc is privat held compani that ha develop an innov solut for over activ bladder oab condit characteris by rang of symptom includ need to urin more frequent increas urgenc incontin or leakag and need to urin at night devic is an implant tibial nerv stimul itn miniaturis self power unit place in lower leg under local anaesthesia dure short minim invas procedur solut requir no patient activ recharg or recur doctor visit and build on clinic proven mode of action of percutan tibial nerv stimul which is an oab treatment avail on market today coloplast s ambit is that clinic studi will demonstr that patient receiv thi solut can live more normal life with significantli reduc symptom we expect to begin pivot studi in with ambit to obtain premarket approv for class iii devic in us and eu market approv in timefram today million peopl global suffer from oab symptom about of oab patient popul seek treatment and of those about million patient global are candid for rd line therapi like solut develop by nine contin acquisit of nine contin and entri into oab segment fit with coloplast s strategi to pursu organ and inorgan growth opportun in intervent urolog busi and align with coloplast s mission and strateg direct to bring innov solut to market i am excit about prospect of nine contin devic and pleas to confirm our commit to intervent urolog busi with thi acquisit in larg oab market there is larg group of patient in us and abroad suffer from oab and with nine contin innov minim invas devic we hope to help these peopl live better life say kristian villumsen presid ceo of coloplast acquisit is debt financ use exist credit facil and coloplast s dividend polici is unchang acquisit ha no impact on coloplast s long term guidanc of organ growth p and more than ebit margin in constant currenc oper cost until commercialis are includ in coloplast s annual increment commerci invest of up to of revenu', 'world s first d print rib eye steak creat in israel aleph farm and technion israel institut of technolog have unveil world s first slaughter free ribey steak d print is come mainstream so could be use everywher soon', 'januari ai launch consum glycem educ program non diabet can now use glycem predict for healthi live in their everyday live use it to decid on food time of meal durat of intermitt fast etc januari ai s telemedicin is abl to help peopl get tool and expert analysi that they need to guid their own health journey we believ that peopl own their health data and should have opportun to combin and integr it to benefit from more comprehens and action insight they are invest time and financi resourc in log their food track their heart rate and glucos undertak elimin and other diet order food sensit genet and microbiom test wouldn t it be wonder to be abl to combin these someday ask hashemi we are invest in help physician and coach to deliv best care that they can while empow user to know most about their bodi self advoc and becom their best self she continu', 'fitbit as covid sensor in space nasa is offer fitbit devic to mission critic employe includ astronaut to mitig risk of spread infecti diseas among astronaut flight crew in immedi preflight period program is base on premis that rest heart rate data and other key health indic from wearabl have potenti to identifi flu like ill such as covid befor symptom emerg fitbit readi for work daili check in featur allow user to view key health metric rest heart rate heart rate variabl and breath rate track by their fitbit devic alongsid self report symptom temperatur log and covid exposur base on user s daili check in solut will provid nasa employe with daili guidanc to help them decid whether to go to work or stay home', 'glow microneedl test could catalyz transit from blood base diagnost to stick on patch in paper publish in januari in natur biomed engin research from washington univers in st loui report catch isf biomark with dispos microneedl patch and measur them up to about time more sensit than compar biomark test these rectangular patch no wider than dime contain hundr of plastic needl each prick less than millimet long', 'associ of plasma biomark of fruit and veget intak with incid type diabet european prospect investig into cancer and nutrit epic conduct cohort studi in countri to determin if h igher level of plasma vitamin c were associ with lower hazard of type diabet', 'm gigaton scale carbon remov musk and xprize are provid prize for larg scale carbon remov innov', 'solv care and skale network announc partnership to give healthcar on blockchain boost solv care platform is design to remov barrier within healthcar system by run decentr patient centric care network connect peopl and coordin care benefit and payment patient and user can access these variou care network through singl interfac solv care s care coordin app care wallet block chain approach is util to safeguard transmit and share inform', 'botox approv for neurogen detrusor overact in pediatr patient fda ha approv botox for treatment of neurogen detrusor overact ndo in patient year of age and older', 'http medicaldialogu in urolog news hormon therapi reduc uti risk in postmenopaus women studi post menopaus women that are on estrogen therapi tend to have less uti thi is like attribut to mainten of healthi genitourinari microbiom which includ presenc of lactobacillu speci', 'an emerg link between urinari microbiom and urinari incontin some studi that suggest lactobacillu base probiot may be effect in prevent urinari tract infect', 'nosocomi infect due to medic devic could be thing of past there ha been lot of research late and long while ago about control nosocomi infect rate via special coat on medic devic one that keep surfac even as late as thi year is antimicrobi peptid antimicrobi peptid coat surfac amp could prevent infect peptid such as melimin and mel show broad spectrum antimicrobi activ those abov peptid are also biocompat amp have shown efficaci against gram neg and gram posit bacteria they ve been trial in implant with success of lower infect rate', 'garlic keep vampir and microb away there are mani plant and herb that can actual keep infect down due to their specif properti garlic ha well known histori of be abl to act as an antimicrobi garlic is from plant famili of allium it ha highest antimicrobi properti of that plant famili allicin is compound found in garlic that exhibit antimicrobi activ against both gram neg and gram posit bacteria there ha been data collect show that it can inhibit biofilm format allicin also act as an anti inflammatori garlic extract ha been known to show good biocompat and even promot cell growth', 'orang peel from garbag to antimicrobi tech savvi polyphenol in citru fruit have been known to have antimicrobi properti orang specif have been look at close in lab in order to test their antimicrobi efficaci peel of orang were made into powder and polyphenol were extract in mani of case of test peel for antimicrobi activ mani studi have often gone after dental pathogen dure dental studi it wa shown that polyphenol in orang peel do cut down on antimicrobi activ one studi in particular look at efficaci of polyphenol in orang peel against key pathogen often seen as complic uti pathogen staphylococcu aureu escherichia coli pseudomona aeruginosa and klebsiella pneumonia we work with pathogen uti caus strain of each of those microb', 'orang peel from garbag to antimicrobi environment savvi polyphenol in citru fruit have been known to have antimicrobi properti orang specif have been look at close in lab in order to test their antimicrobi efficaci not onli have they shown to have antimicrobi efficaci harvest garbag instead of put it into garbag could have an environment impact as well while peel are biodegrad when put into garbag bag and such it creat more wast on less technic aspect cost would be lower as it is from fruit on less technic aspect use part of fruit that aren t typic eaten can be seen as environment savvi', 'nih nutrit studi aim to learn which diet best suit your gene and gut in may nih director franci collin releas agenc s first ever year strateg plan for nutrit scienc acknowledg import of diet in chronic diseas such as heart diseas and diabet plan aim to fold in basic disciplin such as neurobiolog studi role of diet across life span consid how food can serv as medicin and elev precis nutrit concept recogn that how human bodi respond to food depend on factor from genet to sleep habit social environ and gut microb for exampl isra studi that found individu differ in respons to refin sugar versu fruit show microbiom wa larg respons', 'artifici finger can test how long covid will last research at defens scienc and technolog laboratori at porton down have creat silicon finger that can releas natur oil and secret that come from skin thi new technolog can help scientist studi how long covid can last on surfac and how it can be transmit through touch', 'gdpr gener data protect regul affect ai startup in eu pass gener data protect regul gdpr which wa design to regul ai busi and protect consum person data sinc then it ha been met with some prais as well as critic while some think it is as necessari step in order for consum and govern to trust ai technolog other think it hamper innov law state four right right against autom decis make right to erasur right to data portabl and right to explan some ai startup argu that these law limit them too much for exampl in survey conduct to find impact of gdpr on ai startup it found that in respons to gdpr respond have delet data slow abil for compani to innov', 'multipl cardiovascular read in singl devic french consum electron compani with ha releas with bpm core which integr bp ecg monitor and stethoscop all in one sleek arm cuff it can monitor and detect three differ highli preval heart diseas includ hypertens atrial fibril and valvular heart diseas read can be taken in second or less in comfort of your home and result are sent to connect app which can be conveni share with your doctor', 'horizon europ research fund programm to launch earli horizon europ is plan year european union scientif research initi meant to succeed current horizon programm european commiss propos billion for horizon europ due to launch in thi will allow both industri and academia to come togeth and submit propos to request fund for develop of new and innov technolog solut', 'horizon europ research fund programm to launch earli econom len horizon europ is plan year european union scientif research initi meant to succeed current horizon programm european commiss propos billion for horizon europ due to launch in thi will allow both industri and academia to come togeth and submit propos to request fund for develop of new and innov technolog solut', 'rpa take robot out of human what peopl spend lot of time and energi repeat same task over and over again like export from sap and report from salesforc thi take time and energi from associ and is non valu activ look at data and analys report is valu ad activ if person is sick or on leav or decid to find new job there is risk that job either isn t execut at all or is execut differ by use softwar robot rpa peopl can spend more time on their valu ad activ there is higher level of complianc as there is guarante for consit and job can be carri our regularli that are so bore that you would never ask human to do it', 'color chang kitti litter whether for their pet or for themselv peopl are look to be proactiv in regard to their health these kind of earli diagnost indic as commod item seem to be becom more and more common len social b c thi is driven by individu desir to keep tab on hi her health and health of their love one', 'woc nurs are use product compani more to send product sampl to patient becaus peopl stay home now and don t interact at offic physic go in to clinic may becom thing of past or reduc in frequenc to onli need base visit as result of pandem acceler peopl s comfort with telemedicin and hybrid pysio vitual health care model opportun for tele health remot monitor sensor system e g to help clinician monitor patient more accur intervent in patient journey with compani nurs e g or find way into patient life sinc they are now find themselv more separ physic mental from clinic care set', 'mail in medic test or subscript box perhap in part driven by covid pandem mail in medic kit are becom more and more common exampl everlywel i have person use thi for covid test but they offer other type of medic test e g allergi test lab test food sensit test etc modern fertil and me similarli i have alway been fan of subscript box but i see them becom more and more preval exampl book of month club book ipsi beauti stitchfix cloth fabfitfun mix allur beauti box beauti cureolog dermatolog barkbox dog toy len social becaus thi is driven by trend in market and push for conveni', 'woc nurs are use product compani more to send product sampl to patient becaus peopl stay home now and don t interact at offic emerg suppli chain burden for product compani like hollist industri may incur new hidden cost to deliv product sampl to patient previous these patient were like suppli with sampl on hand at clinic by nurs they built face to face relationship with previou product sampl market may have compassion layer to it s cost structur that is base on donat patient and sale rep and other irregular sourc trade show focu group', 'no code movement quiet revolut for non technic founder if you are design thinker with an idea for your busi no code give you opportun for advanc develop that most startup haven t explor we are not invest enough in digit technolog yet digit technolog are becom more and more preval and ubiquit by not be invest in digit we are lose in futur', 'no code movement quiet revolut for non technic founder digit tool are becom more and more access and younger gener becom more and more tech savvi our develop cycl is somehwhat stifl by lack of in hous digit skill by not be in know we are miss out on opportun that will keep us in busin', 'in next year we ll reinvent everi industri in next decad we ll experi more progress than in past year whi comput is foundat be it classic or quantum comput as it becom faster and cheaper lot of technolog that use it also becom more capabl for exampl commun network sensor robot augment and virtual realiti blockchain and ai are all exponenti improv but they are also be interweav and converg for exampl ai with robot and that s get even faster becaus number of peopl with access to technolog is increas so we are abl to solv more problem there s also more capit avail than ever befor which mean more crazi idea be fund which in turn lead to more breakthrough and cost of do thing is also get cheaper number of experi go on in silicon valley garag is explod', 'musk launch hunt for carbon neg not neutral technolog with m xprize vc s capit solv climat crisi could they do same to help startup with typic barrier to entri into medic devic develop', 'the new tech stack for virtual first care after record break year for digit health we re final enter into new golden era for tech enabl healthcar there ha been an explos of stand alon full stack digit health startup that take form of virtual clinic and compet directli with tradit provid for patient where do we fit in that stack', 'deep learn is go to be abl to do everyth kinda say it all if deep learn is go to be abel to do everyth then what do we end up do', 'china plan to instal signific pla capac follow singl use ban that exclud biodegrad plastic china plan to instal signific pla capac at t current world capac is t and similar effort for fossil base pbat and pb by could thi troubl other us and european pla produc with extrem low price or rather increas market accept for pla product while china can becom power leader in implement sever circular economi measur quickli it should be concern to see littl mention of complementari plan to ramp up improv recycl end of life scenario for such increas bioplast capac it is known for pla to take y to decompos in ocean with unclear effect along slow fragment and decomposit process prevent of environment leakag should be prioriti over make such leakag biodegrad especi for capabl industri nation', 'the next hack may be wors than stolen data triton is world s most murder malwar and it s spread rogu code can disabl safeti system design to prevent catastroph industri accid it wa discov in middl east but hacker behind it are now target compani in north america and other part of world too triton s discoveri rais question about how hacker were abl to get into these critic system it also come at time when industri facil are embed connect in all kind of equip phenomenon known as industri internet of thing thi connect let worker remot monitor equip and rapidli gather data so they can make oper more effici but it also give hacker more potenti target', 'despit record invest level firm struggl to deriv valu from their big data and ai invest in survey fortun compani report declin in lead metric which are use for measur success of their data and ai invest compani report struggl to make progress and in mani case even lose ground on manag data as busi asset forg data cultur compet on data and analyt and use data to drive innov onli report achiev transform busi outcom and just report have develop well articul data strategi perhap most tellingli just of respond said that they thought their organ wa data driven thi past year declin from year befor figur that suggest that effort to incorpor data into decis make process were not as success as leader had previous believ', 'major hospit form compani to capit on their trove of health data group of major hospit system is launch compani to pull togeth and sell access to anonym data on their million of patient for use includ research and drug develop among backer of truveta inc are hospit owner includ provid commonspirit health advoc aurora health triniti health and tenet healthcar corp', 'pandem driven drop in cancer screen may aid research on overdiagnosi it s counterintuit but catch cancer earli isn t alway for best and coronaviru pandem might leav lesson for futur cancer screen in it wake', 'noninvas sensor that measur hydrat for target dialysi treatment identifi fluid accumul in patient who need dialysi is import to ensur that fluid is remov at correct rate howev current method are all invas and are not veri accur research at mit have creat portabl sensor to solv thi problem devic use nmr and ha potenti to be use at home so patient can identifi fluid accumul earli and reduc hospit', 'high tech product method for drug deliveri microbot new product method call d lithographi can creat high precis micromachin that can be use to deliv drug method use electrochem deposit to fill templat with polym or metal onc materi is place within mold templat is dissolv away as proof of concept research have creat tini vehicl with magnet wheel that are power by magnet field besid drug deliveri research believ these devic also can act as stent that unfold base on magnet field', 'biden will sign execut order to push us semiconductor industri last year trump administr cut off suppli of us semiconductor to china s semiconductor compani huawei accus compani of spi on us custom some expert say thi ha stall semiconductor industri caus delay in u s manufactur in automobil and other industri ibm and nvidia are urg biden to sign an execut order to give more fund and incent for industri increas fund could give us competit edg in emerg technolog and could set secur preced for g and artifici intellig', 'diageo announc first plastic free paper base spirit bottl consum product compani have come under increas scrutini for amount of plastic they use in packag new trend ha emerg and will like continu for more eco consciou product packag', 'flexibl forc sensor for human health monitor n recent year health monitor system hm have arous great interest due to their broad prospect in prevent medicin as an import compon of hm flexibl forc sensor ff with high flexibl and stretch abil can monitor vital health paramet and detect physic movement', 'biofilm materi biofilm is bio base materi made from sugar cane it s process of photosynthesi as plant grow that make thi product carbon posit sugar cane activ captur co from atmospher while at same time releas oxygen make thi materi not just green but proactiv green benefit of biofilm polythen packag our biofilm materi can be chosen as an altern option to standard polythen for your plastic packag across our entir product rang it offer your compani opportun to improv your green credenti meet legisl requir and deliv improv environment solut', 'employ precis medicin new cure from bacteria that live in human bodi in life scienc we ll have greater understand of dynam of how our microbiom tini organ includ bacteria that live in human bodi influenc multipl system in our bodi includ our immun system metabol process and other area thi will result in semin discoveri relat to varieti of condit includ autoimmun diseas pre term birth and how our metabol is regul regen medicin approach to creat new tissu and organ from progenitor cell will expand significantli final long await abil to employ precis medicin provid specif treatment to specif patient will becom much more common mark fischer colbri ceo of labcyt inc', 'voic interfac voic is new mobil it took almost year for form factor and interact of smartphon and tablet to slowli eat their way through from content websit to e commerc and erp system just as disrupt but much faster voic as ui is now come to user experi amazon s alexa is classic exampl of innov s dilemma initi limit and come from consum sector voic interfac are develop so quickli that they will soon overtak certain user interact in busi sector even if it s irrelev now for artifici intellig whether it commun with peopl use natur languag or text natur languag find faster user accept thi will be further intensifi by corona relat demand for touchless ui text base chatbot continu to fall short of expect', 'algorithm will run machin not human underperform sensor commun and algorithm unintent cyber safeti or deliber manipul cyber secur are princip sourc of new risk in addit there is increas complex of softwar system multipli in uncertainti by machin learn and ai base system', 'coca cola put it first paper bottl to test their vision is to creat paper bottl that can be recycl like ani other type of paper new paper bottl still contain some plastic but firm is head toward complet plastic free version', 'us militari seek to build factori on moon us militari is look for way to build factori and variou other build on moon thi is be done to serv defens depart', 'appl watch detect covid day earlier than regular test thi new method could pave way for futur diagnost method and assist in track and improv manag of viru main focu that studi s research paid close attent to wa heart rate variabl hrv someth that detect when person s nervou system is strain what team notic wa that through thi method of wear an appl watch and close track particip health they could predict infect up to week befor tradit test confirm diagnos', 'mit research develop laserfactori one stop shop robot build d printer research at mit s have develop d print system that is abl to fabric complex devic that are readi to go right out of printer dub laserfactori system use three ingredi recip that let user creat structur geometri print trace and assembl electron compon like sensor and actuat', 'nasa veteran are build an orbit space hotel with artifici graviti nasa veteran are plan to build liveabl area resort in low earth orbit that spin quick enough to gener synthet graviti to prevent effect of micrograv for long term tourist', 'nanosensor in microfib to creat smart bandag to detect infect nanosensor in microfib are be incorper in bandag to creat smart bandag to detect infect singl wall carbon nanotub within bandag will be abl to identifi an infect in wound by detect concentr of hydrogen peroxid signal can then be transmit to smartphon type of devic that then automat alert patient or health care provid', 'global trend power forc govern global transform that start in earli s are reshap world ever more strongli and rapidli world is becom steadili more complex more challeng and also more insecur part one of thi report set out five global trend human race is grow older and richer with gr owe middl class and widen inequ econom weight and polit power is shift to asia sustain develop of world economi is becom more vulner to challeng and to weak in globalis process revolut in technolog and their applic transform societi in almost everi aspect digitis is invad and radic disrupt chang consequ manag scarciti of resourc becom an increas challeng with rise energi consumpt and shift pattern of product interdepend of countri now fa ct of global life is not match by strengthen global govern the', 'fabric fulli function drone csail s laserfactori system autom full process for make function devic in one system mit csail team s laserfactori system can manufactur function custom made devic and robot without human intervent potenti enabl rapid prototyp of item like wearabl robot and print electron', 'light power robot arm increas d print manipul research team at northwestern univers develop method that use light to improv speed and precis of d print method featur light activ robot arm pair with liquid photopolym system ensur free motion abil to rotat or dilat each individu print layer in d print process as structur is be built', 'nomin invit for kabil prize establish in kabil prize is world s largest monetari award for outstand achiev in nanomedicin it recogn research who have made signific career long contribut to field of nanotechnolog and it applic to medicin and biolog kabil young investig award is given to emerg research who have made recent groundbreak discoveri with potenti to make last impact in nanosci and nanomedicin nanotechnolog is revolution aspect of medicin but we re just begin to realiz potenti not onli for diagnosi and treatment of diseas but also for improv qualiti of life said kabil by recogn pioneer in field we re reach out to next gener of research with an invit to follow in their footstep', 'technolog innov may be threat multipli for doomsday clock advanc in travel energi consumpt and industri made these sector more effici and simpler but mani time they can also contribut to an increas in use of fossil fuel and pollut breakthrough in comput technolog and softwar enabl us to structur our live and work effici and manag busi and govern but unintent some technolog in cyberspac ha potenti to caus instabl latiff said', 'chicago think zocdoc can help solv it vaccin chao in earli februari depart of public health announc plan to help eas some of those technic problem partnership with zocdoc popular onlin health care schedul compani zocdoc is act as unifi portal for multipl provid so that peopl can sign up with singl more user friendli tool rather than wrestl with sever differ system at onc while chicago is first citi to make thi specif agreement with zocdoc other health agenc are launch similar partnership with privat startup it s ultim easier to provid harmon access to patient creat win win environ', 'in new step toward quantum tech scientist synthes bright quantum bit qubit work by har phenomenon call superposit while classic bit use by convent comput measur either or qubit can be both and at same time team want to find new bottom up approach to develop molecul whose spin state can be use as qubit and can be readili interfac with outsid world to do so they use organometal chromium molecul to creat spin state that they could control with light and microwav by excit molecul with precis control laser puls and measur light emit they could read molecul spin state after be place in superposit key requir for use them in quantum technolog', 'wearabl covid sensor receiv major award from u s depart of defens sit at base of throat northwestern devic use an electrocardiogram and motion sensor to measur subtl vibrat from bodi to continu captur heart rate breath cough and temperatur fever second pair devic wrap around finger to measur blood oxygen level and non invas continu blood pressur icu grade data output can be store on sensor or display on ani standard smartphon furthermor in time of covid we forget other killer xu ad these sensor and algorithm that we will develop could be appli to other seriou virus such as influenza and rsv that kill ten of thousand of peopl everi year', 'batteri free game boy run forev button press and solar energi power retro game devic batteri are costli environment hazard and they must eventu be replac to avoid that entir devic end up at landfil wherea game reduc peopl s stress and boredom intermitt comput help reduc game s environment impact', 'john hopkin research take inspir from parasit work for gi tract medicin deliveri john hopkin research have design tini star shape microdevic that can latch onto intestin mucosa and releas drug into bodi state that normal constrict and relax of gi tract muscl make it imposs for extend releas drug to stay in intestin long enough for patient to receiv full dose name theragripp these devic releas their payload and lose their hold on colon tissu and are clear from intestin via normal gastrointestin muscular function', 'medic devic use northwestern invent biomateri receiv fda clearanc anti inflammatori synthet biomateri aid tissu regener an innov orthoped medic devic fabric from novel biomateri pioneer in laboratori of northwestern univers professor guillermo ameer ha receiv clearanc from u s food and drug administr fda for use in surgeri to attach soft tissu graft to bone biomateri is first thermoset biodegrad synthet polym ever approv for use in an implant medic devic it s uniqu chemic and mechan properti enabl cut edg implant design that protect soft tissu graft dure insert and optim graft fixat to bone', 'antimicrobi packag there are few essenti oil that can actual possess antimicrobi properti one of these essenti oil is orang peel essenti oil it is use to produc antimicrobi film and coat orang juic process wast as powder can be an antimicrobi agent orang juic process wast is cost effect and less time consum as an agent for antimicrobi properti mix with plastic it show high efficaci against microorgan', 'helper t cell to save day more and more sar cov infect are becom more and more resist to antibodi there are more and more evid that t cell cd and cd are abl to help fight infect alison tark et al identifi mani sar cov deriv epitop thi give good insight to immun respons against infect t cell wont prevent ani type of infect but instead they becom activ after bodi is infect they can help control how sever ill will becom acut infect instead of seriou infect', 'unus rapid covid test are pile up at end of last year govern distribut million of rapid corona viru diagnost test but out of million binaxnow rapid covid test distribut at least million remain unus these unus diagnost cost govern an estim million pile number of unus test are due to myraid of reason that are mostli due to logist problem and skeptic on accuraci of rapid test last year there were argument on whether test should be use on peopl who had alreadi exhibit symptom or those who hadn t some state offici say they are reluct to use test regularli becaus they are unsur they will be abl to get continu suppli for school facililti don t want to use them becaus of amount of train staff need and regulatori waiver necessari other are concern about inaccur result and are more partial to lab base test', 'iphon can interrupt certain medic devic there are mani implant devic that help patient live one of those implant devic is known as an implant cardiovert defibril icd icd are use to treat cardiac tachyarrhythmia sensor within it can respond to extern appli magnet field iphon ha magnet within it that can actual interfer with icd it wa note that when iphon wa brought into proxim of icd it suspend all of icd therapi', 'antimicrobi ald coat via press releas on picosun talk about safer medic devic due to their antimicrobi ald atom layer deposit coat accord to thi press releas they claim to have shown reduct in microbi growth they even go as far to say that they had low instanc of bacteri endotoxin contamin not onli do they claim reduct in microbi growth and low instanc of bacteri endotoxin they also meition non cytotox of their ald coat these coat refer to both implant and extern medic devic', 'smart ultrasound technolog for incontin care demonstr interest in consum willing to wearabl tech to monitor health may open door for innov solut to releas bladder', 'us democrat s gain narrow margin of control of govern and need to heal nation by avoid extrem polar mean sweep chang to afford care act aca will be off tabl for at least next two to four year there will be particular momentum for program that have bipartisan support includ payment polici that move away from fee for servic reimburs and toward model that drive lower cost and higher qualiti outcom overal movement to valu will get shot in arm from two princip forc in biden administr s commit to build on aca s legaci by doubl down on altern payment model and mandatori payment chang and pandem', 'covid crisi increas appetit for chang across industri as sponsor contract research org and patient see benefit in decentr model clinic trial are chang for good payer and provid with big data custom metric may be abl to help pharmaceut and life scienc compani develop trial protocol that serv more divers popul these trial could decreas burden on trial particip for instanc reduc number of trip they have to make to hospit or physician s offic and make particip more attract for trial investig likewis decentr approach with more virtual element could make particip more attract too', 'smart urinari cathet compani formerli spinal singular announc new ceo and move to minneapoli chang it name to urodev mean that spinal singular smart cather devic might be more develop and difficult to acquir report mention that compani will be seek more capit so there may be in road', 'd system announc breakthrough in bioprint technolog and expans of regen medicin initi signific progress in develop of next gener addit manufactur platform solut for lung scaffold that is capabl of full size vascular rapid micron level print potenti to enabl novel laboratori test method to acceler develop of new drug therapi while reduc need for anim test', 'anti microbi coat for urinari cathet current market is domin by silveralloy and antibiot coat cathet as mention in eview silver alloy coat have been popular becaus of their wide studi character but they have been found to have less microbi efficaci than antibiot howev increas usag of antibiot caus antibiot resist and henc new method have been develop to combat these resist microb thi show greater need for understand biofilm structur and it mechan so that antimicrobi coat can be design more effici', 'superhydrophob coat for urinari cathet multilay superhydrophob coat for urinari cathet wa synthes by layer by layer deposit techniqu mussel inspir polydopamin coat wa util as platform for in situ anchor of silver nanoparticl follow by hydrophob modif with h h h h perfluorodecanethiol compar with commerci all silicon and silver alloy hydrogel cathet superhydrophob cathet exhibit signific antibiofilm activ in both static and dynam model in an in vitro bladder model bacteri migrat along outer cathet wa effect delay reduc biomass accumul by up to and compar with all silicon and silver alloy hydrogel cathet', 'smart medic devic medic devic use iot wireless technolog are revolution healthcar smart devic such as wearabl now link patient to doctor transmit critic medic data in real time from hospit bed and privat home as well as mobil equip use at emerg site and in transport vehicl wireless devic implant in bodi permit patient to be continu monitor to alert health care provid wearabl devic are capabl enough to transmit vital sign data from patient home to hospit staff it allow them to have real time monitor of patient s health these devic use wirelessli connect glucomet scale heart rate urinari cathet meter biosensor and blood pressur monitor', 'robot cathet robot cathet use two steerabl sheath incorpor an ablat cathet outer and inner sheath are both manipul via pull wire mechan by sheath carri robot arm', 'd print cathet addit manufactur may be use as form of person medicin in intervent radiolog by allow for creation of custom bioactiv construct such as cathet that can act as form of local drug deliveri purpos of present in vitro studi wa to use three dimension d print to construct bioactiv laden bioabsorb cathet impregn with antibiot and chemotherapeut', 'condom cathet condom cathet is use for effect manag of male urinari incontin option avail for sheath user particularli from sustain point of view steril sheath with lubric surfac are appli onto cathet tube and remov after use thi reduc plastic cathet tube and their packag devic', 'appli ai tool can make system such as ventil more robust and safer most modern ventil are control through standard algorithm known as pid for continu monitor and adjust devic hypothesi is that appli ai tool can improv on these older method', 'first biobas polyurethan hot melt adhes first biobas polyurethan hot melt adhes ha been approv by intertek and german institut of standardis din and is one of most sustain adhes coat on market as it is compos of renew raw materi thi is larg step in right direct for textil compani that use these coat to produc technic textil', 'specialti syring need to extract extra dose of covid vaccin in decemb pharmacist found that they could extract an extra th dose form each vial of covid vaccin in respons to thi news pfizer plan to decreas amount of dose roll out to unit state howev extra dose come with caveat they need specialti syring call low dead volum syring and there are concern on whether there is enough suppli of these syring to take advantag of extra th dose onli of pfizer vaccin kit contain these special syring and manufactur are be pressur to produc as mani as possibl', 'ikea s mission to go climat posit by in last year ikea ha tri to reduc it s climat footprint by decreas energi use in busi manufactur and even what they serv in restaur howev these chang onli reduc climat footprint per product by to reach there goal of they are tri to becom circular busi by as well as incorport more environment friendli materi they want their product to be reus refurbish recycl and remanufactur into new piec and have launch their first entir secondhand store in sweden last novemb new materi they are look into are lamin veneer lumber lvl product that is made of multipl thin layer of wood glu togeth it strength is compar to metal in some use case and it cut down on wood consumpt by other materi includ rice straw and textil sourc from wood cellulos', 'new wearabl that monitor chemic physic and electrophysiolog signal simultan uc san deigo s center for wearabl sensor have develop new flexibl sensor patch that can measur blood pressur deep within skin it also ha chemic sensor to measur lactat biomark for physic exert caffein and glucos in interstiti fluid in test it wa show read that close match gold standard medic devic like blood pressur cuff and glucos monitor', 'alginit creat biodegrad textil from kelp algiknit is biomateri compani that creat yarn from kelp kelp is one of fastest grow organ in world and product made from thi yarn is nontoxi and fulli biodegrad compani s goal is to creat textil industri with close loop cycl through use sustain and renew sourc', 'ibm and microsoft close gap to mainstream quantum comput recent develop from ibm and microsoft suggest that cloud base enterpris comput may becom mainstream in just few year develop from compani like ibm and microsoft illustr how industri will deliv quantum comput to enterpris softwar market but new short film quantum ethic highlight risk expert featur in film warn that societi need to think through implic of what it mean to solv problem that were previous insolubl and what regulatori framework need to be in place to prevent misus or exploit quantum comput for malici intent', 'quantum physic give brain sens meg scanner boost novel technolog in healthcar base on fundament physic save million of live everi year but while these machin have revolution medicin next gener must meet even greater challeng hannah coleman and matt brook are hope that univers of nottingham s new quantum enabl meg scanner will herald new dawn in studi of human brain function', 'isra tech start up special in quantum comput secur mln classiq work in realm of quantum comput which is use to solv complex problem in scienc medicin machin learn etc classiq solv issu in quantum softwar develop and creat it own way to develop new one it recent introduc way to automat translat human defin concept into valid quantum circuit provid fundament element need to produc quantum algorithm', 'm petrifilm plate reader advanc m ha come out with devic that can rapidli enumer plate with coloni on them it can imag count and document coloni on plate thi autom count enumer step of test in about second usual plate read can take hour depend on how mani plate there were per test they talk about it in term of food and safeti test but realist it could be use with other type of microbiolog', 'cleanroom cove cleanroom have to be design in specif way in order to cut down on ani type of contamin elimin corner and hard cut on wall will cut down possibl of biofilm form in room in those surfac that aren t easi to clean it also improv airflow cove need to be secur in order for it to be worthwhil anoth aspect to consid when cove cleanroom is type of materi use there are mani materi that can be use but it is import to note how well they stand up to chemic clean as well as how well they hold up to atmospher insid of cleanroom as whole', 'world microb forum thi wa form between feder of european microbiolog societi fem and american societi of microbiolog asm forum will be held in june and it will be digit meet bring togeth microbiologist from all over to discuss current topic with thi joint effort there will be more speaker as well as more topic to be cover as well as emerg topic event sinc they are digit can be view later as well', 'probiot in coronoaviru manag probiot have been wide use around world properti of probiot have now shown some promis in manag coronaviru infect bacteria in probiot have shown abil to bind to coronaviru befor it abl to enter cell if probiot bacteria bind to surfac of cell it can prevent coronaviru entri mani probiot bacteria have defens mechan that can help strengthen probiot bacteria protect it and promot growth of good bacteria insid bodi these defens mechan can also when mix with mucin from mucos cell inhibit coronaviru prolifer probiot often elicit respons from immun system to help attack virus as well', 'fer rebiotix and mybiot collabor to develop live microbiom base therapeut in reproduct medicin and matern health collabor aim to creat standardis stabilis live microbiota base formul address bacteri vaginosi bv common vagin infect among women of reproduct age link to increas risk of miscarriag problem dure pregnanc and fertil issu compani aim to leverag world lead microbiom technolog expertis to bring new therapeut to thi patient commun and help more peopl build famili', 'chang to gut microbiom help melanoma patient respond to immunotherapi statist model develop by oregon state univers research ha confirm that chang to melanoma patient gut microbiom led them to respond to type of treatment capabl of provid long term benefit', 'noninvas probe monitor health of friendli gut bacteria commun of bacteria that live in gut known as gut microbiota play pivot role in ill such as cancer diabet obes depress and inflammatori bowel diseas aim of probiot and prebiot supplement is to restor healthi balanc to microbiom but their effect are difficult to studi research have develop probe that can measur activ level of an enzym produc by bacteria that is key to their health promot effect femal volunt swallow two capsul contain probe which monitor microbi health of entir length of her digest system', 'gut microbiom makeup could impact sever of covid studi publish earlier thi year in journal gut build upon previou inquiri into what role gut may play in patient with covid earlier studi have identifi measur differ between microbi composit of gut of those patient and of peopl who were sick with cold or flu', 'explor relationship between microbiom and covid our hypothesi is that health of microbiom prior to covid infect is predictor of sever of covid dr blaser said there s alreadi evid that microbiom can make differ we understand how viru that caus covid sar cov enter cell and mucosa and gastrointestin tract and ha to bind to ace receptor molecul on surfac of these cell can inhibit bind bacteria in mucosa can have enzym that cleav these molecul and thu affect suscept to invas by viru', 'at cagr of human microbiom market size share growth trend and forecast by top manufactur human microbiom market report is segment on basi of product type diseas applic and region countri level base on product type global human microbiom market is classifi as probiot prebiot symbiot and other base upon diseas global human microbiom market is classifi into obes diabet autoimmun disord cancer gastrointestin disord central nervou system disord and other base upon applic global human microbiom market is classifi as therapeut and diagnost human microbiom market is valu at usd million in and expect to reach usd million by with cagr of over forecast period', 'microbiom to be game changer in immunotherapi one of most rapidli grow sector in biopharmaceut industri is microbiom medicin big name tycoon includ bill gate and mark zuckerberg have alreadi notic potenti of microbiom and either invest or donat money to busi and research in thi field which is quickli evolv into new money magnet', 'intim link between diet gut microb and health identifi an intern team of scientist found associ between particular bacteri speci and metabol risk factor for condit such as diabet heart diseas and obes they were surpris to discov that gut microbiota commun of microorgan live in our intestin wa more strongli associ with person s risk of certain ill than their genet research suggest that it could be possibl to creat an individu diet that adjust commun of organ live in person s gut to optim person s health', 'studi infecti gut bacteria may predict uti risk urinari tract infect uti in kidney transplant patient may be caus by bacteria that origin in digest tract accord to investig at weill cornel medicin cornel univers and newyork presbyterian', 'aua state of art lectur probiot and microbiota in urolog begin of end or end of begin microbiom and urolog consist of direct contact urinari microbiota includ urethra bladder kidney and stone semen and more it is rel new concept that thi system is not steril indirect role gut includ metabol immun regul and act as uti reservoir', 'mechano bactericid action of nanostructur surfac as we all know antibiot resist is huge problem we are all face instead of focus on use chemic to attack microb mayb focus on physic properti could help too surfac rough on nanoscal might help stretch slice or tear microb apart insect wing were an inspir to thi concept nanopattern on insect wing can have those stretch slice and tear properti that protect wing thi could be appli to medic devic to help stop need for antimicrobi in futur', 'antimicrobi jacket gray state apparel ha come out with jacket that help control microb you come into contact with while out and about it is inlay with silver that act as surfac antimicrobi agent elast cuff pocket to hold other item like mask and such plastic zipper anti microbi heiq v block coat silver technolog antimicrobi aspect of it', 'blockchain technolog and healthcar blockchain technolog allow patient to assign access rule for their medic data for exampl permit specif research to access part of their data for fix period of time with blockchain technolog patient can connect to other hospit and collect their medic data automat', 'blockchain vehicl for effici medic record manag increas number of healthcar system are develop blockchain base system to manag medic data blockchain is decentralis continu grow onlin ledger of record valid by member of network tradit use to manag cryptocurr record distribut ledger technolog can be appli to variou aspect of healthcar in thi manuscript we focu on how electron medic record in particular can be manag by blockchain and how introduct of thi novel technolog can creat more effici and interoper infrastructur to manag record that lead to improv healthcar outcom while maintain patient data ownership and without compromis privaci or secur of sensit data', 'whi effort to curb plastic wast are fail covid pandem econom declin inequ and race relat and climat chang have collect move grow plastic wast crisi out of prioriti inbox to degre thi is inevit consequ of limit polit bandwidth to address multipl crise beyond polit realm there are deep fault line in how busi govern and non govern organ have conceptu and organ plastic wast solut', 'can microbiom predict parkinson s studi find that parkinson s diseas is associ with chang in composit of gut microbiom in parkinson s diseas gut bacteria s abil to break down fat is alter make it harder to regul bile acid product disrupt in bile acid product could be potenti indic of condit treatment target microbiom and bile acid may help delay progress of parkinson s diseas', 'breakthrough studi find age relat cognit declin may be revers breakthrough studi from team of neurologist at stanford univers claim to have discov one way immun cell becom dysfunct as we age lead to inflammatori hyperdr that play role in most age relat diseas from cancer to cognit declin preliminari studi suggest thi immun dysfunct can be revers point to compel futur anti age therapi', 'studi offer indisput link between alzheim s and gut microbiom research into relationship between brain and bacteria in our belli is uncov link to an increas number of neurolog condit with alzheim s among them new studi is throw further weight behind theori that an imbal in gut microbiom may be relat to onset of diseas show how shift in bacteri divers are associ with inflamm and heighten number of amyloid plaqu in brain one of hallmark of condit', 'studi find link between children s gut microbiom and household chemic team of research for first time ha found correl between level of bacteria and fungi in gastrointestin tract of children and amount of common chemic found in their home environ work publish thi month in environment scienc and technolog letter could lead to better understand of how these semi volatil organ compound may affect human health', 'new skin patch bring us closer to wearabl all in one health monitor new type of wearabl health monitor that can be use to continu track blood pressur and heart rate along with glucos lactat alcohol and caffein level thi devic is much smaller and more flexibl than previou monitor and is still be develop to includ more sensor for monitor other biomark', 'fda appoint first medic devic cybersecur chief fda ha name kevin fu univers of michigan associ professor to serv one year term as act director of medic devic cybersecur at agenc s center for devic and radiolog health longtim secur advoc and research will serv as an expert in resid and fda s first medic devic cyber chief in cdrh s offic of strateg partnership and technolog innov hi role also includ an appoint with digit health center of excel which wa launch in septemb to better coordin polici and regulatori approach tailor for fast grow technolog', 'self heal devic could power wearabl devic with bodi heat recharg batteri in activ tracker wearabl heart monitor and smart watch can be annoy thermoelectr gener teg which convert heat into electr could be way to power such wearabl devic continu by use person s own bodi heat with clever combin of materi and design research have now made highli stretchabl thermoelectr devic that produc enough power for wearabl it could be worn as ring or armband scienc advanc doi sciadv abe and unlik previous report gener thi one can heal itself if damag and is easi to recycl', 'amazon program let consum decid which devic compani build next amazon is readi to make it next gadget and it s let consum help choos tech giant introduc new program wednesday call build it where amazon will present concept for devic and leav it to shopper to choos whether they want it built by preorder when concept hit set preorder goal within day amazon will creat devic and consum will receiv it at special price if it doesn t make goal product won t get built and shopper won t be charg for pre order', 'it s rain biotech spac spac are all rage today with ipo market boom and public investor seek better return blank check compani call special purpos acquisit compani spac have been fuel up their tank and chase down their merger target new one are get announc everi day includ in biotech so much so that serial entrepreneur mike gilman tweet that it s rain spac sentiment that captur frenzi downpour of activ', 'instant replay power tool for surgeon one of problem is that surgeon are train much way skill craftsmen have been for gener in intens apprenticeship via hand on educ but shortcom of that system are profound reli on one on one train to effect knowledg transfer mean techniqu and procedur tend to be taught inconsist and without benefit of survey of best practic surgeon likewis tend to be poorli distribut further knowledg tend to be silo within subspecialti with littl opportun for crossov educ video ha emerg as key train tool to address some of these dispar and newer possibl of ai base video analysi ha ad layer of util to train regiment increasingli base in studi video intraop video footag and by extens video base analys is at core of surgic innov explain dr tamir wolf ceo and co founder of theator surgeon medic system and forward think profession societi have all come to realiz it potenti valu in enhanc surgic care and patient safeti theator s ai power platform is base on smart annot and video analyt technolog which extract and annot key moment from surgic procedur enabl surgeon to review oper and glean detail insight by identifi most pivot surgic step event mileston and ultim decis theator s technolog streamlin pre oper prepar and post oper review and assess process significantli increas surgeon perform effici and product', 'mix realiti surgeri new step forward in medic innov hololen is wireless holograph mix realiti headset that connect with app and solut help surgeon to oper with greater precis after seven such surgeri done through mix realiti method dr babhulkar founder and presid of shoulder and elbow societi of india is confid of take on two everi month surgeon howev add that it is challeng as there is need to remain still without shake one s head while oper technolog is fantast even if i so much as shift my gaze or just briefli turn my head i have expert tap my shoulder remot remind me to stay fix not just that but adapt to new technolog can be challeng say dr babhulkar who wa train in thi techniqu and had dri run last year from juli to octob befor he took on hi first case of year old woman from goa with rotat cuff tear', 'senior are be left behind in digit health revolut even though telemedicin servic among senior ha risen and number of senior is project to doubl to billion in senior are feel left out of digit health revolut senior popul definit ha most to gain from emerg health app and wearabl but most do not know how to navig new gadget and smart phone problem such as bad eyesight and low dexter can make use small devic veri difficult other barrier includ afford and lack of tech support', 'invest compani are market climat consciou invest portfolio so what if financi institut recogn impact of climat chang they are predict valu and import in invest in compani that recogn impact of climat chang as well they see they can move social needl and rais awar', 'how use is recycl realli so what give context and clue on how paradigm for circular economi are still be built and how we want to posit ourselv in valu stream', 'rethink rna hypothesi chimer model for rna to overcom sticki problem so what veri far into futur but thi articl tell about how it could be easier to synthes rna without enzym which could have veri larg impact into differ therapeut modal', 'clubhous anoth social media app bring more dialogu regul social media platform so what it is appar in that in today s world peopl are desper to connect as compani focus on custom intimaci and connect it rais awar of what thi intimaci and connect mean and how we put that into action where user experi and acknowledg that intimaci and connect', 'just percent of vaccin have gone to black american despit equiti effort so what if there is difficulti in provid one of most import mass vaccin to disenfranchis such that thi is high prioriti are we abl to provid custom intimaci equal amongst all user', 'mass startup metalenz inc to bring flat optic to consum electron and more so what flat optic with impecc control light behavior in compact system could disrupt digit imagin and sensor technolog incorpor of these new technolog into wearabl could catapult market due to it ultracompact', 'wield laser beam deep insid bodi devic abl to steer laser beam with high speed and larg rang of motion could enhanc possibl of minim invas surgeri so what possibl disrupt technolog in healthcar to aid in minim invast surgeri', 'new social media app club hous is new hype in silicon valley club hous is an invit onli app where friend and stranger hold convers through audio onli user can look through hallway which allow them to drop into room to hear moder and guest talk allow them to eavesdrop on other user tech analyst say that draw of app is serendip you never know who you will stumbl upon million peopl in us have download app sinc march and celebr like oprah winfrey drake and elon musk are are on board', 'drizli ha join uber famili for alcohol deliveri uber ha chang it s tactic as pandem ha decreas ride share book by instead of deliv peopl they have pivot to deliv thing drizli alcohol deliveri servic ha recent join uber alcohol deliveri provid higher profit margin for driver but mani are reluct to take on these request thi is becaus alcohol deliveri is major liabil for driver becaus of concern over underag drinker in respons to these concern uber is plan on ad age verif technolog onto custom buy alcohol', 'gut bacteria boost cancer immunotherapi immunotherapi is form of cancer treatment util individu s own immun system to fight cancer cell howev respons to thi therapi is vari and studi suggest some variat may be result of certain bacteria found in gut research were abl to studi sever type of bacteria and their impact on treatment of tumor leverag their find scientist hope to increas efficaci of immunotherapi', 'big tech build despit work from home massiv growth in employe headcount mean big tech compani can not afford to loos out on physic space in facebook ad new employe and alphabet ad even though worker are home right now mani are eager to return back to in person offic mark zuckerberg say that transit to remot work will take year for now big tech compani still valu face to face collabor and expect to return to normal', 'cancer microbiom atla research have creat databas to log presenc of microb found in intern organ thi help identifi possibl contamin found in sampl as it ha been difficult to determin microb found in small amount as contamin or sign of cancer', 'scribe ai want to help user rememb better by augment memori compani new product is an zoom add on which will act as scribe for meet take note and log of what peopl say and what they look like when they say it these data will be avail for user to find relev clip of convers or part of document accord to founder thi add on is suppos to act like person staff member whisper in your ear of cours as will all record technolog there are alway privaci concern and it give user layer of vulner against hacker there are also concern that user would be abl to edit their memori therefor potenti to alter histori and record to support deep fake despit these concern scribe ha strong list of investor from leader at facebook googl and y combin', 'microbiom and male infertil studi wa conduct to compar presenc of differ bacteria taken from gut semen and urin of men who are infertil and men with proven patern while thi research is still ongo result indic distinct profil for each respect group thi develop knowledg will hope be use for diagnosi and treatment of infertil', 'some onlin food shopper s can be nudg to make healthier choic in uk studi onlin shopper were present with lower calori altern when high calori item wa put in basket these altern were healthier and rel same cost averag shopper wa offer three swap and of those swap were accept how swap were present whether they underscor health benefit or cost benefit didn t affect outcom', 'new ball point pen to draw circuit on skin flexibl electron have been use print electron ink to print onto surfac howev thi ink is expens and doesn t work on all surfac new clog free ball point pen will allow user potenti to draw on circuit directli onto skin', 'development origin of eczem and psoriasi discov skin cell atla reveal specif molecular signal sent by healthi develop skin to summon immun cell and form protect layer we were amaz to see that eczema and psoriasi skin cell were send same molecular signal which could over activ immun cell and caus diseas thi had never been seen befor discov that develop cell pathway re emerg is huge leap in our understand of inflammatori skin diseas and offer new rout for find treatment', 'eth crypto hit high number of coin held on exchang declin by to million in past three month it show investor are either take direct custodi of coin or stake them into decentr financ protocol creat sell side liquid shortag in long run eth ralli would keep go as long as eth hold in all exchang are decreas ki young ju ceo of cryptoqu told coindesk', 'gener q as wildcard mesko state child who is now year old ha spent one tenth of hi her life in quarantin away from grandpar friend school sport and other activ fear implant by viru are go to be so embed into thi young gener we can t even begin to think about how it will turn out when they grow up will they be more fear less independ less brave or right opposit will they becom more resili studi are in make but what is certain is that thi gener ha way too much on their shoulder or doe thi gener q display less relianc on government safeti net drive independ in food sourc live off grid and abandon norm like tradit higher educ']\n"
          ]
        }
      ],
      "source": [
        "stemmer = PorterStemmer()\n",
        "stemmed_text = []\n",
        "for string in full_text_ls:\n",
        "  new_string = ' '.join(stemmer.stem(token) for token in nltk.word_tokenize(string))\n",
        "  stemmed_text.append(new_string)\n",
        "\n",
        "print(stemmed_text)\n"
      ]
    },
    {
      "cell_type": "code",
      "execution_count": null,
      "metadata": {
        "id": "zn78vO0ZoUHu"
      },
      "outputs": [],
      "source": [
        "df['cleaned_text'] = full_text_ls\n",
        "df['stemmed_text'] = stemmed_text"
      ]
    },
    {
      "cell_type": "markdown",
      "metadata": {
        "id": "5WDoaNQamvow"
      },
      "source": [
        "### create dependent variable"
      ]
    },
    {
      "cell_type": "code",
      "execution_count": null,
      "metadata": {
        "id": "mPYoeRchmy1r"
      },
      "outputs": [],
      "source": [
        "# load hunch data and count clue frequency\n",
        "hunch = pd.read_excel('drive/MyDrive/Hollister Confidential-Futurism 2021 - DeDuplication Tool v01c (1).xlsx', sheet_name='Hunches')\n",
        "hunch[['Clue1', 'Clue2','Clue3', 'Clue4','Clue5']] = hunch[['Clue1', 'Clue2','Clue3', 'Clue4','Clue5']].fillna(0).astype(int)\n",
        "all_clue = pd.concat([hunch['Clue1'],hunch['Clue2'], hunch['Clue3'], hunch['Clue4'], hunch['Clue5']], ignore_index=True)\n",
        "clue_frequency = all_clue.value_counts()"
      ]
    },
    {
      "cell_type": "code",
      "execution_count": null,
      "metadata": {
        "id": "rF0TffSqnCgz"
      },
      "outputs": [],
      "source": [
        "del clue_frequency[0]\n",
        "clue_frequency = pd.DataFrame(clue_frequency, columns= ['frequency'])\n",
        "clue_frequency['id'] = clue_frequency.index"
      ]
    },
    {
      "cell_type": "code",
      "execution_count": null,
      "metadata": {
        "id": "qh_QMJT1nILR"
      },
      "outputs": [],
      "source": [
        "# fill un-used clue with 0\n",
        "df = df.merge(clue_frequency, how = 'left', on = 'id')\n",
        "df['frequency'] = df['frequency'].fillna(0).astype(int)"
      ]
    },
    {
      "cell_type": "code",
      "execution_count": null,
      "metadata": {
        "colab": {
          "base_uri": "https://localhost:8080/",
          "height": 364
        },
        "id": "aCJPDtCPnPdK",
        "outputId": "ff6bac7b-c161-4a3d-f248-d7a45d8740cd"
      },
      "outputs": [
        {
          "ename": "KeyError",
          "evalue": "ignored",
          "output_type": "error",
          "traceback": [
            "\u001b[0;31m---------------------------------------------------------------------------\u001b[0m",
            "\u001b[0;31mKeyError\u001b[0m                                  Traceback (most recent call last)",
            "\u001b[0;32m<ipython-input-13-52b580e7ce84>\u001b[0m in \u001b[0;36m<module>\u001b[0;34m()\u001b[0m\n\u001b[1;32m      1\u001b[0m \u001b[0mpd\u001b[0m\u001b[0;34m.\u001b[0m\u001b[0moptions\u001b[0m\u001b[0;34m.\u001b[0m\u001b[0mdisplay\u001b[0m\u001b[0;34m.\u001b[0m\u001b[0mmax_colwidth\u001b[0m \u001b[0;34m=\u001b[0m \u001b[0;36m2000\u001b[0m\u001b[0;34m\u001b[0m\u001b[0;34m\u001b[0m\u001b[0m\n\u001b[1;32m      2\u001b[0m \u001b[0;31m# take a look at the most used clues\u001b[0m\u001b[0;34m\u001b[0m\u001b[0;34m\u001b[0m\u001b[0;34m\u001b[0m\u001b[0m\n\u001b[0;32m----> 3\u001b[0;31m \u001b[0mmost_clue\u001b[0m \u001b[0;34m=\u001b[0m \u001b[0mdf\u001b[0m\u001b[0;34m[\u001b[0m\u001b[0;34m[\u001b[0m\u001b[0;34m'cleaned_text'\u001b[0m\u001b[0;34m,\u001b[0m\u001b[0;34m'frequency'\u001b[0m\u001b[0;34m,\u001b[0m\u001b[0;34m'Lens'\u001b[0m\u001b[0;34m]\u001b[0m\u001b[0;34m]\u001b[0m\u001b[0;34m[\u001b[0m\u001b[0mdf\u001b[0m\u001b[0;34m[\u001b[0m\u001b[0;34m'frequency'\u001b[0m\u001b[0;34m]\u001b[0m \u001b[0;34m>=\u001b[0m \u001b[0;36m5\u001b[0m\u001b[0;34m]\u001b[0m\u001b[0;34m\u001b[0m\u001b[0;34m\u001b[0m\u001b[0m\n\u001b[0m\u001b[1;32m      4\u001b[0m \u001b[0mmost_clue\u001b[0m\u001b[0;34m\u001b[0m\u001b[0;34m\u001b[0m\u001b[0m\n",
            "\u001b[0;32m/usr/local/lib/python3.7/dist-packages/pandas/core/frame.py\u001b[0m in \u001b[0;36m__getitem__\u001b[0;34m(self, key)\u001b[0m\n\u001b[1;32m   2910\u001b[0m             \u001b[0;32mif\u001b[0m \u001b[0mis_iterator\u001b[0m\u001b[0;34m(\u001b[0m\u001b[0mkey\u001b[0m\u001b[0;34m)\u001b[0m\u001b[0;34m:\u001b[0m\u001b[0;34m\u001b[0m\u001b[0;34m\u001b[0m\u001b[0m\n\u001b[1;32m   2911\u001b[0m                 \u001b[0mkey\u001b[0m \u001b[0;34m=\u001b[0m \u001b[0mlist\u001b[0m\u001b[0;34m(\u001b[0m\u001b[0mkey\u001b[0m\u001b[0;34m)\u001b[0m\u001b[0;34m\u001b[0m\u001b[0;34m\u001b[0m\u001b[0m\n\u001b[0;32m-> 2912\u001b[0;31m             \u001b[0mindexer\u001b[0m \u001b[0;34m=\u001b[0m \u001b[0mself\u001b[0m\u001b[0;34m.\u001b[0m\u001b[0mloc\u001b[0m\u001b[0;34m.\u001b[0m\u001b[0m_get_listlike_indexer\u001b[0m\u001b[0;34m(\u001b[0m\u001b[0mkey\u001b[0m\u001b[0;34m,\u001b[0m \u001b[0maxis\u001b[0m\u001b[0;34m=\u001b[0m\u001b[0;36m1\u001b[0m\u001b[0;34m,\u001b[0m \u001b[0mraise_missing\u001b[0m\u001b[0;34m=\u001b[0m\u001b[0;32mTrue\u001b[0m\u001b[0;34m)\u001b[0m\u001b[0;34m[\u001b[0m\u001b[0;36m1\u001b[0m\u001b[0;34m]\u001b[0m\u001b[0;34m\u001b[0m\u001b[0;34m\u001b[0m\u001b[0m\n\u001b[0m\u001b[1;32m   2913\u001b[0m \u001b[0;34m\u001b[0m\u001b[0m\n\u001b[1;32m   2914\u001b[0m         \u001b[0;31m# take() does not accept boolean indexers\u001b[0m\u001b[0;34m\u001b[0m\u001b[0;34m\u001b[0m\u001b[0;34m\u001b[0m\u001b[0m\n",
            "\u001b[0;32m/usr/local/lib/python3.7/dist-packages/pandas/core/indexing.py\u001b[0m in \u001b[0;36m_get_listlike_indexer\u001b[0;34m(self, key, axis, raise_missing)\u001b[0m\n\u001b[1;32m   1252\u001b[0m             \u001b[0mkeyarr\u001b[0m\u001b[0;34m,\u001b[0m \u001b[0mindexer\u001b[0m\u001b[0;34m,\u001b[0m \u001b[0mnew_indexer\u001b[0m \u001b[0;34m=\u001b[0m \u001b[0max\u001b[0m\u001b[0;34m.\u001b[0m\u001b[0m_reindex_non_unique\u001b[0m\u001b[0;34m(\u001b[0m\u001b[0mkeyarr\u001b[0m\u001b[0;34m)\u001b[0m\u001b[0;34m\u001b[0m\u001b[0;34m\u001b[0m\u001b[0m\n\u001b[1;32m   1253\u001b[0m \u001b[0;34m\u001b[0m\u001b[0m\n\u001b[0;32m-> 1254\u001b[0;31m         \u001b[0mself\u001b[0m\u001b[0;34m.\u001b[0m\u001b[0m_validate_read_indexer\u001b[0m\u001b[0;34m(\u001b[0m\u001b[0mkeyarr\u001b[0m\u001b[0;34m,\u001b[0m \u001b[0mindexer\u001b[0m\u001b[0;34m,\u001b[0m \u001b[0maxis\u001b[0m\u001b[0;34m,\u001b[0m \u001b[0mraise_missing\u001b[0m\u001b[0;34m=\u001b[0m\u001b[0mraise_missing\u001b[0m\u001b[0;34m)\u001b[0m\u001b[0;34m\u001b[0m\u001b[0;34m\u001b[0m\u001b[0m\n\u001b[0m\u001b[1;32m   1255\u001b[0m         \u001b[0;32mreturn\u001b[0m \u001b[0mkeyarr\u001b[0m\u001b[0;34m,\u001b[0m \u001b[0mindexer\u001b[0m\u001b[0;34m\u001b[0m\u001b[0;34m\u001b[0m\u001b[0m\n\u001b[1;32m   1256\u001b[0m \u001b[0;34m\u001b[0m\u001b[0m\n",
            "\u001b[0;32m/usr/local/lib/python3.7/dist-packages/pandas/core/indexing.py\u001b[0m in \u001b[0;36m_validate_read_indexer\u001b[0;34m(self, key, indexer, axis, raise_missing)\u001b[0m\n\u001b[1;32m   1302\u001b[0m             \u001b[0;32mif\u001b[0m \u001b[0mraise_missing\u001b[0m\u001b[0;34m:\u001b[0m\u001b[0;34m\u001b[0m\u001b[0;34m\u001b[0m\u001b[0m\n\u001b[1;32m   1303\u001b[0m                 \u001b[0mnot_found\u001b[0m \u001b[0;34m=\u001b[0m \u001b[0mlist\u001b[0m\u001b[0;34m(\u001b[0m\u001b[0mset\u001b[0m\u001b[0;34m(\u001b[0m\u001b[0mkey\u001b[0m\u001b[0;34m)\u001b[0m \u001b[0;34m-\u001b[0m \u001b[0mset\u001b[0m\u001b[0;34m(\u001b[0m\u001b[0max\u001b[0m\u001b[0;34m)\u001b[0m\u001b[0;34m)\u001b[0m\u001b[0;34m\u001b[0m\u001b[0;34m\u001b[0m\u001b[0m\n\u001b[0;32m-> 1304\u001b[0;31m                 \u001b[0;32mraise\u001b[0m \u001b[0mKeyError\u001b[0m\u001b[0;34m(\u001b[0m\u001b[0;34mf\"{not_found} not in index\"\u001b[0m\u001b[0;34m)\u001b[0m\u001b[0;34m\u001b[0m\u001b[0;34m\u001b[0m\u001b[0m\n\u001b[0m\u001b[1;32m   1305\u001b[0m \u001b[0;34m\u001b[0m\u001b[0m\n\u001b[1;32m   1306\u001b[0m             \u001b[0;31m# we skip the warning on Categorical\u001b[0m\u001b[0;34m\u001b[0m\u001b[0;34m\u001b[0m\u001b[0;34m\u001b[0m\u001b[0m\n",
            "\u001b[0;31mKeyError\u001b[0m: \"['cleaned_text'] not in index\""
          ]
        }
      ],
      "source": [
        "pd.options.display.max_colwidth = 2000\n",
        "# take a look at the most used clues\n",
        "most_clue = df[['cleaned_text','frequency','Lens']][df['frequency'] >= 5]\n",
        "most_clue"
      ]
    },
    {
      "cell_type": "code",
      "execution_count": null,
      "metadata": {
        "id": "bOZ9mIvLyPqJ"
      },
      "outputs": [],
      "source": [
        "df['multi_frequency'] = df['frequency'].copy()\n",
        "df['binary_frequency'] = np.where(df['frequency'] > 0, 1, 0)"
      ]
    },
    {
      "cell_type": "code",
      "execution_count": null,
      "metadata": {
        "colab": {
          "base_uri": "https://localhost:8080/"
        },
        "id": "eShJfVx0opl8",
        "outputId": "1820001f-fe45-4371-b780-e438a87388ca"
      },
      "outputs": [
        {
          "data": {
            "text/plain": [
              "1    153\n",
              "0     79\n",
              "Name: binary_frequency, dtype: int64"
            ]
          },
          "execution_count": 16,
          "metadata": {},
          "output_type": "execute_result"
        }
      ],
      "source": [
        "df['binary_frequency'].value_counts()"
      ]
    },
    {
      "cell_type": "code",
      "execution_count": null,
      "metadata": {
        "id": "iBkclxE18u1O"
      },
      "outputs": [],
      "source": [
        "df.to_csv('hollister_cleaned.csv')\n",
        "!cp hollister_cleaned.csv \"drive/My Drive/hollister_nlp/\""
      ]
    },
    {
      "cell_type": "markdown",
      "metadata": {
        "id": "J6qe7msB9lrl"
      },
      "source": [
        "### "
      ]
    },
    {
      "cell_type": "markdown",
      "metadata": {
        "id": "K2WEyazTp27c"
      },
      "source": [
        "### train test split"
      ]
    },
    {
      "cell_type": "code",
      "execution_count": null,
      "metadata": {
        "colab": {
          "background_save": true
        },
        "id": "ujCGXaYrp5T8"
      },
      "outputs": [],
      "source": [
        "X_train, X_test, y_train, y_test = train_test_split(df['cleaned_text'], df['binary_frequency'],\n",
        "                                                    stratify=df['binary_frequency'], \n",
        "                                                    test_size=0.30, random_state = 0)\n",
        "\n",
        "df_train = pd.concat([pd.DataFrame({'cleaned_text': X_train.values}),pd.DataFrame({'binary_frequency': y_train.values})], axis = 1)\n",
        "df_test = pd.concat([pd.DataFrame({'cleaned_text': X_test.values}),pd.DataFrame({'binary_frequency': y_test.values})], axis = 1)\n",
        "over_sample = df_train[df_train['binary_frequency'] == 0]"
      ]
    },
    {
      "cell_type": "code",
      "execution_count": null,
      "metadata": {
        "colab": {
          "base_uri": "https://localhost:8080/"
        },
        "id": "sdDCTi3dKWhI",
        "outputId": "6bf0ae71-23f0-4de5-edd5-72b7d1ad29e6"
      },
      "outputs": [
        {
          "data": {
            "text/plain": [
              "55"
            ]
          },
          "execution_count": 18,
          "metadata": {},
          "output_type": "execute_result"
        }
      ],
      "source": [
        "df_train['binary_frequency'].value_counts()[0]"
      ]
    },
    {
      "cell_type": "code",
      "execution_count": null,
      "metadata": {
        "id": "-qG7O8oBDNq-"
      },
      "outputs": [],
      "source": [
        "# manually create 3-fold cross validation data\n",
        "import random\n",
        "for i in range(52):\n",
        "  kk = random.randrange(54)\n",
        "  row = over_sample.iloc[[kk]]\n",
        "  df_train = df_train.append(row)"
      ]
    },
    {
      "cell_type": "code",
      "execution_count": null,
      "metadata": {
        "id": "JdUFLtoHKHRK"
      },
      "outputs": [],
      "source": [
        "df_train['binary_frequency'].value_counts()\n",
        "X_train = df_train['cleaned_text']\n",
        "y_train = df_train['binary_frequency']"
      ]
    },
    {
      "cell_type": "code",
      "execution_count": null,
      "metadata": {
        "colab": {
          "base_uri": "https://localhost:8080/"
        },
        "id": "z5B0Au14JAa8",
        "outputId": "8ec91dc3-783d-4d0b-dedf-4f6108d13c65"
      },
      "outputs": [
        {
          "data": {
            "text/plain": [
              "2410"
            ]
          },
          "execution_count": 22,
          "metadata": {},
          "output_type": "execute_result"
        }
      ],
      "source": [
        "sum(df['cleaned_text'].str.split(expand=True).stack().value_counts() == 1)"
      ]
    },
    {
      "cell_type": "markdown",
      "metadata": {
        "id": "MkKXEDb9ql9C"
      },
      "source": [
        "### text classification\n",
        "\n",
        "Here we try out three methods for the bi-frequency output:    \n",
        "1. Bag of words\n",
        "2. Word2vec\n",
        "3. BERT/XLNet/RoBERTa"
      ]
    },
    {
      "cell_type": "markdown",
      "metadata": {
        "id": "EO_CbrZieE5j"
      },
      "source": [
        "1. Bag of words"
      ]
    },
    {
      "cell_type": "code",
      "execution_count": null,
      "metadata": {
        "id": "w3GNibG4tVc0"
      },
      "outputs": [],
      "source": [
        "def bow_model(x_train, x_test, y_train, y_test, n1, n2, analyzer = 'word', norm = 'l2',cutoff = 0.5, use_idf=True, model = 'MultinomialNB', multi_class = False):\n",
        "  count_vec = CountVectorizer(ngram_range=(n1, n2), stop_words='english', analyzer= analyzer)\n",
        "  bow_count = count_vec.fit_transform(x_train)\n",
        "  tf_transformer = TfidfTransformer(norm = norm, use_idf = use_idf).fit(bow_count)\n",
        "  bow = tf_transformer.transform(bow_count)\n",
        "  \n",
        "  if model == 'MultinomialNB' and multi_class == False:\n",
        "    clf = MultinomialNB().fit(bow, y_train)\n",
        "    X_new_counts = count_vec.transform(x_test)\n",
        "    X_new_tfidf = tf_transformer.transform(X_new_counts)\n",
        "    confidence = clf.predict_proba(X_new_tfidf)\n",
        "    predicted = [item[0] for item in np.where(confidence>cutoff,0,1)]\n",
        "    #return y_test, predicted, confidence\n",
        "\n",
        "  if model == 'LogisticRegression' and multi_class == False:\n",
        "    clf = LogisticRegression().fit(bow, y_train)\n",
        "    X_new_counts = count_vec.transform(x_test)\n",
        "    X_new_tfidf = tf_transformer.transform(X_new_counts)\n",
        "    confidence = clf.predict_proba(X_new_tfidf)\n",
        "    predicted = [item[0] for item in np.where(confidence>cutoff,0,1)]\n",
        "   # return y_test, predicted, confidence\n",
        "\n",
        "  if model == 'SGDClassifier' and multi_class == False:\n",
        "    clf = SGDClassifier(loss='modified_huber', penalty='l2', alpha=1e-3, random_state=42, max_iter=5, tol=None).fit(bow, y_train)\n",
        "    X_new_counts = count_vec.transform(x_test)\n",
        "    X_new_tfidf = tf_transformer.transform(X_new_counts)\n",
        "    confidence = clf.predict_proba(X_new_tfidf)\n",
        "    predicted = clf.predict(X_new_tfidf)\n",
        "  #  return y_test, predicted, confidence\n",
        "\n",
        "  micro_precision, micro_recall, micro_f1, support1 = precision_recall_fscore_support(y_test, predicted, average='micro')\n",
        "  macro_precision, macro_recall, macro_f1, support2 = precision_recall_fscore_support(y_test, predicted, average='macro')\n",
        "\n",
        "  return micro_precision, macro_precision, micro_recall, macro_recall, micro_f1, macro_f1, predicted, confidence"
      ]
    },
    {
      "cell_type": "code",
      "execution_count": null,
      "metadata": {
        "colab": {
          "base_uri": "https://localhost:8080/"
        },
        "id": "7Q7ojBnbr3RD",
        "outputId": "b73342cd-e124-4d7e-ff52-aec1f315e3a8"
      },
      "outputs": [
        {
          "name": "stderr",
          "output_type": "stream",
          "text": [
            "/usr/local/lib/python3.7/dist-packages/sklearn/metrics/_classification.py:1308: UndefinedMetricWarning: Precision and F-score are ill-defined and being set to 0.0 in labels with no predicted samples. Use `zero_division` parameter to control this behavior.\n",
            "  _warn_prf(average, modifier, msg_start, len(result))\n",
            "/usr/local/lib/python3.7/dist-packages/sklearn/metrics/_classification.py:1308: UndefinedMetricWarning: Precision and F-score are ill-defined and being set to 0.0 in labels with no predicted samples. Use `zero_division` parameter to control this behavior.\n",
            "  _warn_prf(average, modifier, msg_start, len(result))\n",
            "/usr/local/lib/python3.7/dist-packages/sklearn/metrics/_classification.py:1308: UndefinedMetricWarning: Precision and F-score are ill-defined and being set to 0.0 in labels with no predicted samples. Use `zero_division` parameter to control this behavior.\n",
            "  _warn_prf(average, modifier, msg_start, len(result))\n",
            "/usr/local/lib/python3.7/dist-packages/sklearn/metrics/_classification.py:1308: UndefinedMetricWarning: Precision and F-score are ill-defined and being set to 0.0 in labels with no predicted samples. Use `zero_division` parameter to control this behavior.\n",
            "  _warn_prf(average, modifier, msg_start, len(result))\n",
            "/usr/local/lib/python3.7/dist-packages/sklearn/metrics/_classification.py:1308: UndefinedMetricWarning: Precision and F-score are ill-defined and being set to 0.0 in labels with no predicted samples. Use `zero_division` parameter to control this behavior.\n",
            "  _warn_prf(average, modifier, msg_start, len(result))\n",
            "/usr/local/lib/python3.7/dist-packages/sklearn/metrics/_classification.py:1308: UndefinedMetricWarning: Precision and F-score are ill-defined and being set to 0.0 in labels with no predicted samples. Use `zero_division` parameter to control this behavior.\n",
            "  _warn_prf(average, modifier, msg_start, len(result))\n",
            "/usr/local/lib/python3.7/dist-packages/sklearn/metrics/_classification.py:1308: UndefinedMetricWarning: Precision and F-score are ill-defined and being set to 0.0 in labels with no predicted samples. Use `zero_division` parameter to control this behavior.\n",
            "  _warn_prf(average, modifier, msg_start, len(result))\n",
            "/usr/local/lib/python3.7/dist-packages/sklearn/metrics/_classification.py:1308: UndefinedMetricWarning: Precision and F-score are ill-defined and being set to 0.0 in labels with no predicted samples. Use `zero_division` parameter to control this behavior.\n",
            "  _warn_prf(average, modifier, msg_start, len(result))\n",
            "/usr/local/lib/python3.7/dist-packages/sklearn/metrics/_classification.py:1308: UndefinedMetricWarning: Precision and F-score are ill-defined and being set to 0.0 in labels with no predicted samples. Use `zero_division` parameter to control this behavior.\n",
            "  _warn_prf(average, modifier, msg_start, len(result))\n",
            "/usr/local/lib/python3.7/dist-packages/sklearn/metrics/_classification.py:1308: UndefinedMetricWarning: Precision and F-score are ill-defined and being set to 0.0 in labels with no predicted samples. Use `zero_division` parameter to control this behavior.\n",
            "  _warn_prf(average, modifier, msg_start, len(result))\n",
            "/usr/local/lib/python3.7/dist-packages/sklearn/metrics/_classification.py:1308: UndefinedMetricWarning: Precision and F-score are ill-defined and being set to 0.0 in labels with no predicted samples. Use `zero_division` parameter to control this behavior.\n",
            "  _warn_prf(average, modifier, msg_start, len(result))\n",
            "/usr/local/lib/python3.7/dist-packages/sklearn/metrics/_classification.py:1308: UndefinedMetricWarning: Precision and F-score are ill-defined and being set to 0.0 in labels with no predicted samples. Use `zero_division` parameter to control this behavior.\n",
            "  _warn_prf(average, modifier, msg_start, len(result))\n",
            "/usr/local/lib/python3.7/dist-packages/sklearn/metrics/_classification.py:1308: UndefinedMetricWarning: Precision and F-score are ill-defined and being set to 0.0 in labels with no predicted samples. Use `zero_division` parameter to control this behavior.\n",
            "  _warn_prf(average, modifier, msg_start, len(result))\n",
            "/usr/local/lib/python3.7/dist-packages/sklearn/metrics/_classification.py:1308: UndefinedMetricWarning: Precision and F-score are ill-defined and being set to 0.0 in labels with no predicted samples. Use `zero_division` parameter to control this behavior.\n",
            "  _warn_prf(average, modifier, msg_start, len(result))\n",
            "/usr/local/lib/python3.7/dist-packages/sklearn/metrics/_classification.py:1308: UndefinedMetricWarning: Precision and F-score are ill-defined and being set to 0.0 in labels with no predicted samples. Use `zero_division` parameter to control this behavior.\n",
            "  _warn_prf(average, modifier, msg_start, len(result))\n"
          ]
        }
      ],
      "source": [
        "bow_summary_table = pd.DataFrame(index=['model', 'norm', 'analyzer', 'ngram1', 'ngram2', 'micro_precision', 'macro_precision', 'micro_recall', 'macro_recall', 'micro_f1', 'macro_f1'])\n",
        "i = 0\n",
        "#prediction example\n",
        "for n2 in (1,2):\n",
        "  for analyzer in ['word', 'char']:\n",
        "    for norm in ['l1', 'l2']:\n",
        "      for model in ['MultinomialNB', 'LogisticRegression', 'SGDClassifier']:\n",
        "        i = i + 1\n",
        "        model_name = 'model' + str(i)\n",
        "        micro_precision, macro_precision, micro_recall, macro_recall, micro_f1, macro_f1, predicted, confidence = bow_model(X_train, X_test, y_train, y_test, model = model, n1 = 1, n2 = n2, analyzer = analyzer, norm = norm, cutoff = 0.33)\n",
        "        bow_summary_table[model_name] = [model, norm, analyzer, '1', n2,micro_precision, macro_precision, micro_recall, macro_recall, micro_f1, macro_f1]\n",
        "\n",
        "    #   micro_precision2, macro_precision2, micro_recall2, macro_recall2, micro_f12, macro_f12, predicted, confidence = bow_model(X_train2, X_test2, Y_train2, Y_test2, model = model, n1 = 1, n2 = n2, analyzer = analyzer, norm = norm, cutoff = 0.33)\n",
        "      #  micro_precision3, macro_precision3, micro_recall3, macro_recall3, micro_f13, macro_f13, predicted, confidence = bow_model(X_train1, X_test1, Y_train1, Y_test1, model = model, n1 = 1, n2 = n2, analyzer = analyzer, norm = norm, cutoff = 0.33)\n",
        "       \n",
        "     # bow_summary_table[model_name] = [model, norm, analyzer, '1', n2,(micro_precision1+micro_precision2+micro_precision3)/3, (macro_precision1+macro_precision2+macro_precision3)/3, (micro_recall1+micro_recall2+micro_recall3)/3 , (macro_recall1+macro_recall2+macro_recall3)/3, (micro_f11+micro_f12+micro_f13)/3 , (macro_f11+macro_f12+macro_f13)/3]\n"
      ]
    },
    {
      "cell_type": "code",
      "execution_count": null,
      "metadata": {
        "colab": {
          "base_uri": "https://localhost:8080/",
          "height": 394
        },
        "id": "WjHWppC--BmU",
        "outputId": "6cf39660-b034-4699-9cf7-20949919b257"
      },
      "outputs": [
        {
          "data": {
            "text/html": [
              "<div>\n",
              "<style scoped>\n",
              "    .dataframe tbody tr th:only-of-type {\n",
              "        vertical-align: middle;\n",
              "    }\n",
              "\n",
              "    .dataframe tbody tr th {\n",
              "        vertical-align: top;\n",
              "    }\n",
              "\n",
              "    .dataframe thead th {\n",
              "        text-align: right;\n",
              "    }\n",
              "</style>\n",
              "<table border=\"1\" class=\"dataframe\">\n",
              "  <thead>\n",
              "    <tr style=\"text-align: right;\">\n",
              "      <th></th>\n",
              "      <th>model9</th>\n",
              "      <th>model24</th>\n",
              "    </tr>\n",
              "  </thead>\n",
              "  <tbody>\n",
              "    <tr>\n",
              "      <th>model</th>\n",
              "      <td>SGDClassifier</td>\n",
              "      <td>SGDClassifier</td>\n",
              "    </tr>\n",
              "    <tr>\n",
              "      <th>norm</th>\n",
              "      <td>l1</td>\n",
              "      <td>l2</td>\n",
              "    </tr>\n",
              "    <tr>\n",
              "      <th>analyzer</th>\n",
              "      <td>char</td>\n",
              "      <td>char</td>\n",
              "    </tr>\n",
              "    <tr>\n",
              "      <th>ngram1</th>\n",
              "      <td>1</td>\n",
              "      <td>1</td>\n",
              "    </tr>\n",
              "    <tr>\n",
              "      <th>ngram2</th>\n",
              "      <td>1</td>\n",
              "      <td>2</td>\n",
              "    </tr>\n",
              "    <tr>\n",
              "      <th>micro_precision</th>\n",
              "      <td>0.657143</td>\n",
              "      <td>0.657143</td>\n",
              "    </tr>\n",
              "    <tr>\n",
              "      <th>macro_precision</th>\n",
              "      <td>0.585938</td>\n",
              "      <td>0.328571</td>\n",
              "    </tr>\n",
              "    <tr>\n",
              "      <th>micro_recall</th>\n",
              "      <td>0.657143</td>\n",
              "      <td>0.657143</td>\n",
              "    </tr>\n",
              "    <tr>\n",
              "      <th>macro_recall</th>\n",
              "      <td>0.529891</td>\n",
              "      <td>0.5</td>\n",
              "    </tr>\n",
              "    <tr>\n",
              "      <th>micro_f1</th>\n",
              "      <td>0.657143</td>\n",
              "      <td>0.657143</td>\n",
              "    </tr>\n",
              "    <tr>\n",
              "      <th>macro_f1</th>\n",
              "      <td>0.490909</td>\n",
              "      <td>0.396552</td>\n",
              "    </tr>\n",
              "  </tbody>\n",
              "</table>\n",
              "</div>"
            ],
            "text/plain": [
              "                        model9        model24\n",
              "model            SGDClassifier  SGDClassifier\n",
              "norm                        l1             l2\n",
              "analyzer                  char           char\n",
              "ngram1                       1              1\n",
              "ngram2                       1              2\n",
              "micro_precision       0.657143       0.657143\n",
              "macro_precision       0.585938       0.328571\n",
              "micro_recall          0.657143       0.657143\n",
              "macro_recall          0.529891            0.5\n",
              "micro_f1              0.657143       0.657143\n",
              "macro_f1              0.490909       0.396552"
            ]
          },
          "execution_count": 24,
          "metadata": {},
          "output_type": "execute_result"
        }
      ],
      "source": [
        "bow_summary_table[['model9', 'model24']]\n",
        "#micro_precision24, macro_precision24, micro_recall24, macro_recall24, micro_f124, macro_f124, predicted24, confidence24 = bow_model(X_train, X_test, y_train, y_test, 1,2, analyzer = 'char', norm = 'l2')"
      ]
    },
    {
      "cell_type": "markdown",
      "metadata": {
        "id": "aSZmwr2I6P5P"
      },
      "source": [
        "2. word embedding"
      ]
    },
    {
      "cell_type": "code",
      "execution_count": null,
      "metadata": {
        "id": "eQBcECLC9c-u"
      },
      "outputs": [],
      "source": [
        "# all below are test codes"
      ]
    },
    {
      "cell_type": "code",
      "execution_count": null,
      "metadata": {
        "id": "nv3fNy7Y7meH"
      },
      "outputs": [],
      "source": [
        "def w2v_model(data, min_count, size, negative, iter, window, sg):\n",
        "  df_tokenize = []\n",
        "  for text in data:\n",
        "    tokenized = word_tokenize(text)\n",
        "    df_tokenize.append(tokenized)\n",
        "  \n",
        "  model = gensim.models.Word2Vec(sentences = df_tokenize, min_count = min_count, size = size, negative = negative, iter = iter, window = window, sg = sg)\n",
        "  model.wv.save_word2vec_format('trial.txt', binary=False)\n",
        "  return model\n",
        "\n",
        "# word2vec trial1\n",
        "w2v1 = w2v_model(X_train, 1, 100, 5, 5, 5, 0)\n",
        "\n",
        "kk = w2v1.wv.vocab.keys()\n",
        "kk = set(kk)"
      ]
    },
    {
      "cell_type": "code",
      "execution_count": null,
      "metadata": {
        "id": "YWGl5W3rVJHY"
      },
      "outputs": [],
      "source": [
        "def get_weight_matrix(embedding, vocab):\n",
        "\t# total vocabulary size plus 0 for unknown words\n",
        "\tvocab_size = len(vocab) + 1\n",
        "\t# define weight matrix dimensions with all 0\n",
        "\tweight_matrix = zeros((vocab_size, 100))\n",
        "\t# step vocab, store vectors using the Tokenizer's integer mapping\n",
        "\tfor word, i in vocab.items():\n",
        "\t\tweight_matrix[i] = embedding.get(word)\n",
        "\treturn weight_matrix"
      ]
    },
    {
      "cell_type": "code",
      "execution_count": null,
      "metadata": {
        "id": "kVwmFlQEtC3s"
      },
      "outputs": [],
      "source": [
        "# load embedding as a dict\n",
        "def load_embedding(filename):\n",
        "\t# load embedding into memory, skip first line\n",
        "\tfile = open(filename,'r')\n",
        "\tlines = file.readlines()[1:]\n",
        "\tfile.close()\n",
        "\t# create a map of words to vectors\n",
        "\tembedding = dict()\n",
        "\tfor line in lines:\n",
        "\t\tparts = line.split()\n",
        "\t\t# key is string word, value is numpy array for vector\n",
        "\t\tembedding[parts[0]] = asarray(parts[1:], dtype='float32')\n",
        "\treturn embedding"
      ]
    },
    {
      "cell_type": "code",
      "execution_count": null,
      "metadata": {
        "id": "eB8tfiWU9F4n"
      },
      "outputs": [],
      "source": [
        "train_docs = X_train.tolist()"
      ]
    },
    {
      "cell_type": "code",
      "execution_count": null,
      "metadata": {
        "id": "nhrwVB5l90wy"
      },
      "outputs": [],
      "source": [
        "# create the tokenizer\n",
        "tokenizer = Tokenizer()\n",
        "# fit the tokenizer on the documents\n",
        "tokenizer.fit_on_texts(train_docs)\n",
        " \n",
        "# sequence encode\n",
        "encoded_docs = tokenizer.texts_to_sequences(train_docs)\n",
        "# pad sequences\n",
        "max_length = max([len(s.split()) for s in train_docs])"
      ]
    },
    {
      "cell_type": "code",
      "execution_count": null,
      "metadata": {
        "id": "IVRPi7It-G4V"
      },
      "outputs": [],
      "source": [
        "Xtrain_array = pad_sequences(encoded_docs, maxlen=max_length, padding='post')\n",
        "# define training labels\n",
        "ytrain_array = np.array(y_train.to_list())"
      ]
    },
    {
      "cell_type": "code",
      "execution_count": null,
      "metadata": {
        "id": "Qms4szVD-G_y"
      },
      "outputs": [],
      "source": [
        "test_docs = X_test.to_list()\n",
        "encoded_docs2 = tokenizer.texts_to_sequences(test_docs)\n",
        "Xtest_array = pad_sequences(encoded_docs2, maxlen=max_length, padding='post')\n",
        "Ytest_array = np.array(y_test.to_list())"
      ]
    },
    {
      "cell_type": "code",
      "execution_count": null,
      "metadata": {
        "colab": {
          "base_uri": "https://localhost:8080/"
        },
        "id": "HBOqh8Os-HGP",
        "outputId": "c813c431-574e-4f7d-afdb-14d494ab728f"
      },
      "outputs": [
        {
          "data": {
            "text/plain": [
              "3923"
            ]
          },
          "execution_count": 33,
          "metadata": {},
          "output_type": "execute_result"
        }
      ],
      "source": [
        "# define vocabulary size (largest integer value)\n",
        "vocab_size = len(tokenizer.word_index) + 1\n",
        "vocab_size"
      ]
    },
    {
      "cell_type": "code",
      "execution_count": null,
      "metadata": {
        "id": "NfEcgoGc-HM_"
      },
      "outputs": [],
      "source": [
        "vocab_size = len(tokenizer.word_index) + 1\n",
        "raw_embedding = load_embedding('trial.txt')"
      ]
    },
    {
      "cell_type": "code",
      "execution_count": null,
      "metadata": {
        "id": "5oBwt7JFAYqj"
      },
      "outputs": [],
      "source": [
        "\n",
        "# get vectors in the right order\n",
        "embedding_vectors = get_weight_matrix(raw_embedding, tokenizer.word_index)\n",
        "# create the embedding layer\n",
        "embedding_layer = Embedding(vocab_size, 100, weights=[embedding_vectors], input_length=max_length, trainable=False)"
      ]
    },
    {
      "cell_type": "code",
      "execution_count": null,
      "metadata": {
        "colab": {
          "base_uri": "https://localhost:8080/"
        },
        "id": "mf_2oJa-WTqO",
        "outputId": "7d5ddd24-5aef-485c-fbb9-705b2c13fc14"
      },
      "outputs": [
        {
          "data": {
            "text/plain": [
              "['fast', 'pharmacy', 'text']"
            ]
          },
          "execution_count": 36,
          "metadata": {},
          "output_type": "execute_result"
        }
      ],
      "source": [
        "list(tokenizer.word_index.keys())[1465:1468]"
      ]
    },
    {
      "cell_type": "code",
      "execution_count": null,
      "metadata": {
        "colab": {
          "base_uri": "https://localhost:8080/"
        },
        "id": "tjE0y0qzWSJP",
        "outputId": "c7779a09-b8a5-485e-bd9f-22e144b7f703"
      },
      "outputs": [
        {
          "data": {
            "text/plain": [
              "False"
            ]
          },
          "execution_count": 37,
          "metadata": {},
          "output_type": "execute_result"
        }
      ],
      "source": [
        "#######debug\n",
        "array_sum = np.sum(embedding_vectors)\n",
        "np.isnan(array_sum)"
      ]
    },
    {
      "cell_type": "code",
      "execution_count": null,
      "metadata": {
        "colab": {
          "base_uri": "https://localhost:8080/"
        },
        "id": "Ha1TTo24AYtu",
        "outputId": "216d50b9-ded2-461e-f29b-c350194a484e"
      },
      "outputs": [
        {
          "name": "stdout",
          "output_type": "stream",
          "text": [
            "Model: \"sequential\"\n",
            "_________________________________________________________________\n",
            " Layer (type)                Output Shape              Param #   \n",
            "=================================================================\n",
            " embedding (Embedding)       (None, 353, 100)          392300    \n",
            "                                                                 \n",
            " conv1d (Conv1D)             (None, 349, 32)           16032     \n",
            "                                                                 \n",
            " max_pooling1d (MaxPooling1D  (None, 174, 32)          0         \n",
            " )                                                               \n",
            "                                                                 \n",
            " flatten (Flatten)           (None, 5568)              0         \n",
            "                                                                 \n",
            " dense (Dense)               (None, 1)                 5569      \n",
            "                                                                 \n",
            "=================================================================\n",
            "Total params: 413,901\n",
            "Trainable params: 21,601\n",
            "Non-trainable params: 392,300\n",
            "_________________________________________________________________\n",
            "None\n",
            "Epoch 1/10\n"
          ]
        },
        {
          "name": "stderr",
          "output_type": "stream",
          "text": [
            "/usr/local/lib/python3.7/dist-packages/tensorflow/python/util/dispatch.py:1096: UserWarning: \"`binary_crossentropy` received `from_logits=True`, but the `output` argument was produced by a sigmoid or softmax activation and thus does not represent logits. Was this intended?\"\n",
            "  return dispatch_target(*args, **kwargs)\n"
          ]
        },
        {
          "name": "stdout",
          "output_type": "stream",
          "text": [
            "4/4 - 1s - loss: 0.6964 - accuracy: 0.4953 - 1s/epoch - 319ms/step\n",
            "Epoch 2/10\n",
            "4/4 - 0s - loss: 0.6930 - accuracy: 0.5093 - 247ms/epoch - 62ms/step\n",
            "Epoch 3/10\n",
            "4/4 - 0s - loss: 0.6898 - accuracy: 0.5140 - 253ms/epoch - 63ms/step\n",
            "Epoch 4/10\n",
            "4/4 - 0s - loss: 0.6874 - accuracy: 0.5234 - 252ms/epoch - 63ms/step\n",
            "Epoch 5/10\n",
            "4/4 - 0s - loss: 0.6847 - accuracy: 0.5794 - 248ms/epoch - 62ms/step\n",
            "Epoch 6/10\n",
            "4/4 - 0s - loss: 0.6822 - accuracy: 0.5888 - 244ms/epoch - 61ms/step\n",
            "Epoch 7/10\n",
            "4/4 - 0s - loss: 0.6797 - accuracy: 0.6168 - 253ms/epoch - 63ms/step\n",
            "Epoch 8/10\n",
            "4/4 - 0s - loss: 0.6775 - accuracy: 0.6075 - 254ms/epoch - 63ms/step\n",
            "Epoch 9/10\n",
            "4/4 - 0s - loss: 0.6748 - accuracy: 0.6542 - 240ms/epoch - 60ms/step\n",
            "Epoch 10/10\n",
            "4/4 - 0s - loss: 0.6724 - accuracy: 0.6542 - 241ms/epoch - 60ms/step\n",
            "Test Accuracy: 57.142860\n"
          ]
        }
      ],
      "source": [
        "opt = keras.optimizers.Adam(learning_rate=0.0001)\n",
        "\n",
        "# define model\n",
        "model = Sequential()\n",
        "model.add(embedding_layer)\n",
        "model.add(Conv1D(filters=32, kernel_size=5, activation='relu'))\n",
        "model.add(MaxPooling1D(pool_size=2))\n",
        "model.add(Flatten())\n",
        "model.add(Dense(1, activation='sigmoid'))\n",
        "print(model.summary())\n",
        "# compile network\n",
        "model.compile(loss=keras.losses.BinaryCrossentropy(from_logits=True), optimizer= opt, metrics=['accuracy'])\n",
        "# fit network\n",
        "model.fit(Xtrain_array, ytrain_array, epochs=10, batch_size=64, verbose=2)\n",
        "# evaluate\n",
        "loss, acc = model.evaluate(Xtest_array, Ytest_array, verbose=0)\n",
        "preds = model.predict(Xtest_array)\n",
        "print('Test Accuracy: %f' % (acc*100))"
      ]
    },
    {
      "cell_type": "code",
      "execution_count": null,
      "metadata": {
        "colab": {
          "base_uri": "https://localhost:8080/"
        },
        "id": "NQsT6-pExktR",
        "outputId": "ac8e456f-5c3e-439f-e6a9-ee9de3dd322b"
      },
      "outputs": [
        {
          "name": "stdout",
          "output_type": "stream",
          "text": [
            "0.5714285714285714\n",
            "0.5714285714285714\n",
            "0.5714285714285714\n"
          ]
        }
      ],
      "source": [
        "prediction_cnn = np.where(preds>0.5, 1, 0)\n",
        "micro_precision2, micro_recall2, micro_f12, support12 = precision_recall_fscore_support(np.array(y_test), prediction_cnn, average='micro')\n",
        "print(micro_precision2)\n",
        "print(micro_recall2)\n",
        "print(micro_f12)"
      ]
    },
    {
      "cell_type": "code",
      "execution_count": null,
      "metadata": {
        "colab": {
          "base_uri": "https://localhost:8080/"
        },
        "id": "EyH5M1M5RW4p",
        "outputId": "6cd4767a-7728-418a-b39e-e522ab0813a7"
      },
      "outputs": [
        {
          "data": {
            "text/plain": [
              "array([[1],\n",
              "       [1],\n",
              "       [0],\n",
              "       [1],\n",
              "       [1],\n",
              "       [1],\n",
              "       [1],\n",
              "       [1],\n",
              "       [1],\n",
              "       [1],\n",
              "       [1],\n",
              "       [1],\n",
              "       [1],\n",
              "       [1],\n",
              "       [0],\n",
              "       [1],\n",
              "       [1],\n",
              "       [0],\n",
              "       [1],\n",
              "       [1],\n",
              "       [1],\n",
              "       [1],\n",
              "       [1],\n",
              "       [1],\n",
              "       [1],\n",
              "       [1],\n",
              "       [0],\n",
              "       [0],\n",
              "       [0],\n",
              "       [1],\n",
              "       [0],\n",
              "       [1],\n",
              "       [1],\n",
              "       [1],\n",
              "       [1],\n",
              "       [1],\n",
              "       [0],\n",
              "       [1],\n",
              "       [1],\n",
              "       [1],\n",
              "       [1],\n",
              "       [1],\n",
              "       [0],\n",
              "       [1],\n",
              "       [1],\n",
              "       [1],\n",
              "       [1],\n",
              "       [1],\n",
              "       [0],\n",
              "       [1],\n",
              "       [1],\n",
              "       [1],\n",
              "       [1],\n",
              "       [0],\n",
              "       [0],\n",
              "       [1],\n",
              "       [1],\n",
              "       [0],\n",
              "       [1],\n",
              "       [1],\n",
              "       [1],\n",
              "       [1],\n",
              "       [0],\n",
              "       [1],\n",
              "       [1],\n",
              "       [1],\n",
              "       [0],\n",
              "       [1],\n",
              "       [1],\n",
              "       [0]])"
            ]
          },
          "execution_count": 40,
          "metadata": {},
          "output_type": "execute_result"
        }
      ],
      "source": [
        "prediction_cnn"
      ]
    },
    {
      "cell_type": "markdown",
      "metadata": {
        "id": "VTCMuZLrngfd"
      },
      "source": [
        "3. BERT\n"
      ]
    },
    {
      "cell_type": "code",
      "execution_count": null,
      "metadata": {
        "colab": {
          "base_uri": "https://localhost:8080/",
          "height": 858
        },
        "id": "NPJYgkVjScJ-",
        "outputId": "fef69b4e-0da3-4ec6-a5b7-f6b9399b741d"
      },
      "outputs": [
        {
          "data": {
            "text/html": [
              "<div>\n",
              "<style scoped>\n",
              "    .dataframe tbody tr th:only-of-type {\n",
              "        vertical-align: middle;\n",
              "    }\n",
              "\n",
              "    .dataframe tbody tr th {\n",
              "        vertical-align: top;\n",
              "    }\n",
              "\n",
              "    .dataframe thead th {\n",
              "        text-align: right;\n",
              "    }\n",
              "</style>\n",
              "<table border=\"1\" class=\"dataframe\">\n",
              "  <thead>\n",
              "    <tr style=\"text-align: right;\">\n",
              "      <th></th>\n",
              "      <th>cleaned_text</th>\n",
              "      <th>binary_frequency</th>\n",
              "    </tr>\n",
              "  </thead>\n",
              "  <tbody>\n",
              "    <tr>\n",
              "      <th>0</th>\n",
              "      <td>implantable bladder wrap for improved urinary control researchers at penn state have developed an implantable device that coils around bladder to detect when bladder is full and assist with emptying it by contracting on demand device is intended to treat underactive bladder condition in which incomplete bladder emptying leads to irregular and uncomfortable urination there is an increasing number of treatments coming available which could reduce demand for continence care products</td>\n",
              "      <td>0</td>\n",
              "    </tr>\n",
              "    <tr>\n",
              "      <th>1</th>\n",
              "      <td>tik tok influences skin care tiktok users have been promoting hydrocolloid dressings to treat acne as new social media giant which holds great deal of influence on gen z population tiktok has potential to start affecting how we treat our health hydrocolloid acne treatment video went so viral it prompted dermatologist to come out and debunk misconceptions that wrapping your whole face in hydrocolloid bandages might not be best idea whether or not tiktok videos are best method to get medical information this article shows how pervasive social media platforms have become in our lives they might even become new avenue for dispensing information on medical and treatment options</td>\n",
              "      <td>1</td>\n",
              "    </tr>\n",
              "    <tr>\n",
              "      <th>2</th>\n",
              "      <td>diageo announces first plastic free paper based spirits bottle consumer product companies have come under increased scrutiny for amount of plastic they use in packaging new trend has emerged and will likely continue for more eco conscious products packaging</td>\n",
              "      <td>1</td>\n",
              "    </tr>\n",
              "    <tr>\n",
              "      <th>3</th>\n",
              "      <td>microbiome to be game changer in immunotherapy one of most rapidly growing sectors in biopharmaceutical industry is microbiome medicine big name tycoons including bill gates and mark zuckerberg have already noticed potential of microbiomes and either invested or donated money to businesses and research in this field which is quickly evolving into new money magnet</td>\n",
              "      <td>1</td>\n",
              "    </tr>\n",
              "    <tr>\n",
              "      <th>4</th>\n",
              "      <td>plant based plastic biodegrades in ocean osaka university has developed an alternative type of transparent plastic consisting mainly of cellulose nanofibers and starch both of which were obtained from plants according to researchers this biodegradable plastic avoids certain drawbacks of other such plastics such as inferior quality to conventional plastics high production costs and manufacturing in small quantities thanks to proprietary production process finished product is claimed to exhibit excellent water resistance and high strength while also being very biodegradable when left floating in seawater over time and as an added bonus because plastic isn t petroleum based its production shouldn t produce any greenhouse gases</td>\n",
              "      <td>0</td>\n",
              "    </tr>\n",
              "    <tr>\n",
              "      <th>...</th>\n",
              "      <td>...</td>\n",
              "      <td>...</td>\n",
              "    </tr>\n",
              "    <tr>\n",
              "      <th>155</th>\n",
              "      <td>medical futurist mesk broadly covers wearables microbiome and ai in recent podcast mesk believes that patient will increasingly be part of medical team for another example of this trend see stanford medicinex which actively recruits patients as members of innovator teams interesting perspective when asked about future of medicine he describes desires of cohort of empowered patients their top desired deliverables from healthcare are empathy attention and time note that there is no mention of how ai diagnostic technologies reimbursement space where most medtech innovators spend their most of their time</td>\n",
              "      <td>0</td>\n",
              "    </tr>\n",
              "    <tr>\n",
              "      <th>96</th>\n",
              "      <td>a little bit of positivity goes long way paper emotional attributes social connectivity and quality of life associated with intermittent catheterization talked about quality of life of patients who had to start using ic social connectivity is key surveys were sent out about how patients felt about ic attributes of depression anxiety feeling bad about one s self empowerment independence and confidence associated with ic were looked at many suffered emotional distress due to lack of positive attributes in association with ic if caregiver nurse shows positive attributes toward ic patients felt better</td>\n",
              "      <td>0</td>\n",
              "    </tr>\n",
              "    <tr>\n",
              "      <th>88</th>\n",
              "      <td>test test</td>\n",
              "      <td>0</td>\n",
              "    </tr>\n",
              "    <tr>\n",
              "      <th>63</th>\n",
              "      <td>fabricating fully functional drones csail s laserfactory system automates full process for making functional devices in one system mit csail team s laserfactory system can manufacture functional custom made devices and robots without human intervention potentially enabling rapid prototyping of items like wearables robots and printed electronics</td>\n",
              "      <td>0</td>\n",
              "    </tr>\n",
              "    <tr>\n",
              "      <th>42</th>\n",
              "      <td>battery free game boy runs forever button pressing and solar energy power retro gaming device batteries are costly environmentally hazardous and they must eventually be replaced to avoid that entire device ends up at landfill whereas gaming reduces people s stress and boredom intermittent computing helps reduce gaming s environmental impact</td>\n",
              "      <td>0</td>\n",
              "    </tr>\n",
              "  </tbody>\n",
              "</table>\n",
              "<p>214 rows × 2 columns</p>\n",
              "</div>"
            ],
            "text/plain": [
              "                                                                                                                                                                                                                                                                                                                                                                                                                                                                                                                                                                                                                                                                                                                                                      cleaned_text  binary_frequency\n",
              "0                                                                                                                                                                                                                                                             implantable bladder wrap for improved urinary control researchers at penn state have developed an implantable device that coils around bladder to detect when bladder is full and assist with emptying it by contracting on demand device is intended to treat underactive bladder condition in which incomplete bladder emptying leads to irregular and uncomfortable urination there is an increasing number of treatments coming available which could reduce demand for continence care products                 0\n",
              "1                                                        tik tok influences skin care tiktok users have been promoting hydrocolloid dressings to treat acne as new social media giant which holds great deal of influence on gen z population tiktok has potential to start affecting how we treat our health hydrocolloid acne treatment video went so viral it prompted dermatologist to come out and debunk misconceptions that wrapping your whole face in hydrocolloid bandages might not be best idea whether or not tiktok videos are best method to get medical information this article shows how pervasive social media platforms have become in our lives they might even become new avenue for dispensing information on medical and treatment options                 1\n",
              "2                                                                                                                                                                                                                                                                                                                                                                                                                                                                                                diageo announces first plastic free paper based spirits bottle consumer product companies have come under increased scrutiny for amount of plastic they use in packaging new trend has emerged and will likely continue for more eco conscious products packaging                 1\n",
              "3                                                                                                                                                                                                                                                                                                                                                                                    microbiome to be game changer in immunotherapy one of most rapidly growing sectors in biopharmaceutical industry is microbiome medicine big name tycoons including bill gates and mark zuckerberg have already noticed potential of microbiomes and either invested or donated money to businesses and research in this field which is quickly evolving into new money magnet                 1\n",
              "4    plant based plastic biodegrades in ocean osaka university has developed an alternative type of transparent plastic consisting mainly of cellulose nanofibers and starch both of which were obtained from plants according to researchers this biodegradable plastic avoids certain drawbacks of other such plastics such as inferior quality to conventional plastics high production costs and manufacturing in small quantities thanks to proprietary production process finished product is claimed to exhibit excellent water resistance and high strength while also being very biodegradable when left floating in seawater over time and as an added bonus because plastic isn t petroleum based its production shouldn t produce any greenhouse gases                 0\n",
              "..                                                                                                                                                                                                                                                                                                                                                                                                                                                                                                                                                                                                                                                                                                                                                             ...               ...\n",
              "155                                                                                                                                medical futurist mesk broadly covers wearables microbiome and ai in recent podcast mesk believes that patient will increasingly be part of medical team for another example of this trend see stanford medicinex which actively recruits patients as members of innovator teams interesting perspective when asked about future of medicine he describes desires of cohort of empowered patients their top desired deliverables from healthcare are empathy attention and time note that there is no mention of how ai diagnostic technologies reimbursement space where most medtech innovators spend their most of their time                 0\n",
              "96                                                                                                                                    a little bit of positivity goes long way paper emotional attributes social connectivity and quality of life associated with intermittent catheterization talked about quality of life of patients who had to start using ic social connectivity is key surveys were sent out about how patients felt about ic attributes of depression anxiety feeling bad about one s self empowerment independence and confidence associated with ic were looked at many suffered emotional distress due to lack of positive attributes in association with ic if caregiver nurse shows positive attributes toward ic patients felt better                 0\n",
              "88                                                                                                                                                                                                                                                                                                                                                                                                                                                                                                                                                                                                                                                                                                                                                       test test                 0\n",
              "63                                                                                                                                                                                                                                                                                                                                                                                                      fabricating fully functional drones csail s laserfactory system automates full process for making functional devices in one system mit csail team s laserfactory system can manufacture functional custom made devices and robots without human intervention potentially enabling rapid prototyping of items like wearables robots and printed electronics                 0\n",
              "42                                                                                                                                                                                                                                                                                                                                                                                                          battery free game boy runs forever button pressing and solar energy power retro gaming device batteries are costly environmentally hazardous and they must eventually be replaced to avoid that entire device ends up at landfill whereas gaming reduces people s stress and boredom intermittent computing helps reduce gaming s environmental impact                 0\n",
              "\n",
              "[214 rows x 2 columns]"
            ]
          },
          "execution_count": 23,
          "metadata": {},
          "output_type": "execute_result"
        }
      ],
      "source": [
        "df_train"
      ]
    },
    {
      "cell_type": "code",
      "execution_count": null,
      "metadata": {
        "id": "yNt5HbxJS5J5"
      },
      "outputs": [],
      "source": [
        "import os\n",
        "\n",
        "dir = 'drive/My Drive/hollister_nlp/train/not_used/'\n",
        "for f in os.listdir(dir):\n",
        "    os.remove(os.path.join(dir, f))\n",
        "\n",
        "dir = 'drive/My Drive/hollister_nlp/train/used/'\n",
        "for f in os.listdir(dir):\n",
        "    os.remove(os.path.join(dir, f))\n"
      ]
    },
    {
      "cell_type": "code",
      "execution_count": null,
      "metadata": {
        "colab": {
          "base_uri": "https://localhost:8080/"
        },
        "id": "0jPXNl7s-8Om",
        "outputId": "dc360ca6-325c-4b23-ccfd-e40a699de343"
      },
      "outputs": [
        {
          "name": "stdout",
          "output_type": "stream",
          "text": [
            "doc_1.txt\n",
            "drive/My Drive/hollister_nlp/train/not_used/doc_1.txt\n",
            "doc_2.txt\n",
            "drive/My Drive/hollister_nlp/train/used/doc_2.txt\n",
            "doc_3.txt\n",
            "drive/My Drive/hollister_nlp/train/used/doc_3.txt\n",
            "doc_4.txt\n",
            "drive/My Drive/hollister_nlp/train/used/doc_4.txt\n",
            "doc_5.txt\n",
            "drive/My Drive/hollister_nlp/train/not_used/doc_5.txt\n",
            "doc_6.txt\n",
            "drive/My Drive/hollister_nlp/train/used/doc_6.txt\n",
            "doc_7.txt\n",
            "drive/My Drive/hollister_nlp/train/not_used/doc_7.txt\n",
            "doc_8.txt\n",
            "drive/My Drive/hollister_nlp/train/used/doc_8.txt\n",
            "doc_9.txt\n",
            "drive/My Drive/hollister_nlp/train/used/doc_9.txt\n",
            "doc_10.txt\n",
            "drive/My Drive/hollister_nlp/train/used/doc_10.txt\n",
            "doc_11.txt\n",
            "drive/My Drive/hollister_nlp/train/used/doc_11.txt\n",
            "doc_12.txt\n",
            "drive/My Drive/hollister_nlp/train/used/doc_12.txt\n",
            "doc_13.txt\n",
            "drive/My Drive/hollister_nlp/train/not_used/doc_13.txt\n",
            "doc_14.txt\n",
            "drive/My Drive/hollister_nlp/train/used/doc_14.txt\n",
            "doc_15.txt\n",
            "drive/My Drive/hollister_nlp/train/used/doc_15.txt\n",
            "doc_16.txt\n",
            "drive/My Drive/hollister_nlp/train/used/doc_16.txt\n",
            "doc_17.txt\n",
            "drive/My Drive/hollister_nlp/train/used/doc_17.txt\n",
            "doc_18.txt\n",
            "drive/My Drive/hollister_nlp/train/not_used/doc_18.txt\n",
            "doc_19.txt\n",
            "drive/My Drive/hollister_nlp/train/used/doc_19.txt\n",
            "doc_20.txt\n",
            "drive/My Drive/hollister_nlp/train/used/doc_20.txt\n",
            "doc_21.txt\n",
            "drive/My Drive/hollister_nlp/train/not_used/doc_21.txt\n",
            "doc_22.txt\n",
            "drive/My Drive/hollister_nlp/train/used/doc_22.txt\n",
            "doc_23.txt\n",
            "drive/My Drive/hollister_nlp/train/used/doc_23.txt\n",
            "doc_24.txt\n",
            "drive/My Drive/hollister_nlp/train/used/doc_24.txt\n",
            "doc_25.txt\n",
            "drive/My Drive/hollister_nlp/train/used/doc_25.txt\n",
            "doc_26.txt\n",
            "drive/My Drive/hollister_nlp/train/used/doc_26.txt\n",
            "doc_27.txt\n",
            "drive/My Drive/hollister_nlp/train/used/doc_27.txt\n",
            "doc_28.txt\n",
            "drive/My Drive/hollister_nlp/train/used/doc_28.txt\n",
            "doc_29.txt\n",
            "drive/My Drive/hollister_nlp/train/not_used/doc_29.txt\n",
            "doc_30.txt\n",
            "drive/My Drive/hollister_nlp/train/used/doc_30.txt\n",
            "doc_31.txt\n",
            "drive/My Drive/hollister_nlp/train/used/doc_31.txt\n",
            "doc_32.txt\n",
            "drive/My Drive/hollister_nlp/train/used/doc_32.txt\n",
            "doc_33.txt\n",
            "drive/My Drive/hollister_nlp/train/not_used/doc_33.txt\n",
            "doc_34.txt\n",
            "drive/My Drive/hollister_nlp/train/not_used/doc_34.txt\n",
            "doc_35.txt\n",
            "drive/My Drive/hollister_nlp/train/not_used/doc_35.txt\n",
            "doc_36.txt\n",
            "drive/My Drive/hollister_nlp/train/not_used/doc_36.txt\n",
            "doc_37.txt\n",
            "drive/My Drive/hollister_nlp/train/used/doc_37.txt\n",
            "doc_38.txt\n",
            "drive/My Drive/hollister_nlp/train/used/doc_38.txt\n",
            "doc_39.txt\n",
            "drive/My Drive/hollister_nlp/train/used/doc_39.txt\n",
            "doc_40.txt\n",
            "drive/My Drive/hollister_nlp/train/used/doc_40.txt\n",
            "doc_41.txt\n",
            "drive/My Drive/hollister_nlp/train/used/doc_41.txt\n",
            "doc_42.txt\n",
            "drive/My Drive/hollister_nlp/train/not_used/doc_42.txt\n",
            "doc_43.txt\n",
            "drive/My Drive/hollister_nlp/train/not_used/doc_43.txt\n",
            "doc_44.txt\n",
            "drive/My Drive/hollister_nlp/train/used/doc_44.txt\n",
            "doc_45.txt\n",
            "drive/My Drive/hollister_nlp/train/used/doc_45.txt\n",
            "doc_46.txt\n",
            "drive/My Drive/hollister_nlp/train/used/doc_46.txt\n",
            "doc_47.txt\n",
            "drive/My Drive/hollister_nlp/train/not_used/doc_47.txt\n",
            "doc_48.txt\n",
            "drive/My Drive/hollister_nlp/train/not_used/doc_48.txt\n",
            "doc_49.txt\n",
            "drive/My Drive/hollister_nlp/train/not_used/doc_49.txt\n",
            "doc_50.txt\n",
            "drive/My Drive/hollister_nlp/train/not_used/doc_50.txt\n",
            "doc_51.txt\n",
            "drive/My Drive/hollister_nlp/train/used/doc_51.txt\n",
            "doc_52.txt\n",
            "drive/My Drive/hollister_nlp/train/not_used/doc_52.txt\n",
            "doc_53.txt\n",
            "drive/My Drive/hollister_nlp/train/used/doc_53.txt\n",
            "doc_54.txt\n",
            "drive/My Drive/hollister_nlp/train/used/doc_54.txt\n",
            "doc_55.txt\n",
            "drive/My Drive/hollister_nlp/train/not_used/doc_55.txt\n",
            "doc_56.txt\n",
            "drive/My Drive/hollister_nlp/train/used/doc_56.txt\n",
            "doc_57.txt\n",
            "drive/My Drive/hollister_nlp/train/used/doc_57.txt\n",
            "doc_58.txt\n",
            "drive/My Drive/hollister_nlp/train/used/doc_58.txt\n",
            "doc_59.txt\n",
            "drive/My Drive/hollister_nlp/train/not_used/doc_59.txt\n",
            "doc_60.txt\n",
            "drive/My Drive/hollister_nlp/train/used/doc_60.txt\n",
            "doc_61.txt\n",
            "drive/My Drive/hollister_nlp/train/not_used/doc_61.txt\n",
            "doc_62.txt\n",
            "drive/My Drive/hollister_nlp/train/used/doc_62.txt\n",
            "doc_63.txt\n",
            "drive/My Drive/hollister_nlp/train/used/doc_63.txt\n",
            "doc_64.txt\n",
            "drive/My Drive/hollister_nlp/train/not_used/doc_64.txt\n",
            "doc_65.txt\n",
            "drive/My Drive/hollister_nlp/train/not_used/doc_65.txt\n",
            "doc_66.txt\n",
            "drive/My Drive/hollister_nlp/train/used/doc_66.txt\n",
            "doc_67.txt\n",
            "drive/My Drive/hollister_nlp/train/used/doc_67.txt\n",
            "doc_68.txt\n",
            "drive/My Drive/hollister_nlp/train/used/doc_68.txt\n",
            "doc_69.txt\n",
            "drive/My Drive/hollister_nlp/train/used/doc_69.txt\n",
            "doc_70.txt\n",
            "drive/My Drive/hollister_nlp/train/used/doc_70.txt\n",
            "doc_71.txt\n",
            "drive/My Drive/hollister_nlp/train/used/doc_71.txt\n",
            "doc_72.txt\n",
            "drive/My Drive/hollister_nlp/train/not_used/doc_72.txt\n",
            "doc_73.txt\n",
            "drive/My Drive/hollister_nlp/train/used/doc_73.txt\n",
            "doc_74.txt\n",
            "drive/My Drive/hollister_nlp/train/used/doc_74.txt\n",
            "doc_75.txt\n",
            "drive/My Drive/hollister_nlp/train/not_used/doc_75.txt\n",
            "doc_76.txt\n",
            "drive/My Drive/hollister_nlp/train/not_used/doc_76.txt\n",
            "doc_77.txt\n",
            "drive/My Drive/hollister_nlp/train/used/doc_77.txt\n",
            "doc_78.txt\n",
            "drive/My Drive/hollister_nlp/train/not_used/doc_78.txt\n",
            "doc_79.txt\n",
            "drive/My Drive/hollister_nlp/train/not_used/doc_79.txt\n",
            "doc_80.txt\n",
            "drive/My Drive/hollister_nlp/train/used/doc_80.txt\n",
            "doc_81.txt\n",
            "drive/My Drive/hollister_nlp/train/used/doc_81.txt\n",
            "doc_82.txt\n",
            "drive/My Drive/hollister_nlp/train/not_used/doc_82.txt\n",
            "doc_83.txt\n",
            "drive/My Drive/hollister_nlp/train/used/doc_83.txt\n",
            "doc_84.txt\n",
            "drive/My Drive/hollister_nlp/train/not_used/doc_84.txt\n",
            "doc_85.txt\n",
            "drive/My Drive/hollister_nlp/train/used/doc_85.txt\n",
            "doc_86.txt\n",
            "drive/My Drive/hollister_nlp/train/used/doc_86.txt\n",
            "doc_87.txt\n",
            "drive/My Drive/hollister_nlp/train/used/doc_87.txt\n",
            "doc_88.txt\n",
            "drive/My Drive/hollister_nlp/train/used/doc_88.txt\n",
            "doc_89.txt\n",
            "drive/My Drive/hollister_nlp/train/not_used/doc_89.txt\n",
            "doc_90.txt\n",
            "drive/My Drive/hollister_nlp/train/used/doc_90.txt\n",
            "doc_91.txt\n",
            "drive/My Drive/hollister_nlp/train/used/doc_91.txt\n",
            "doc_92.txt\n",
            "drive/My Drive/hollister_nlp/train/used/doc_92.txt\n",
            "doc_93.txt\n",
            "drive/My Drive/hollister_nlp/train/not_used/doc_93.txt\n",
            "doc_94.txt\n",
            "drive/My Drive/hollister_nlp/train/used/doc_94.txt\n",
            "doc_95.txt\n",
            "drive/My Drive/hollister_nlp/train/used/doc_95.txt\n",
            "doc_96.txt\n",
            "drive/My Drive/hollister_nlp/train/used/doc_96.txt\n",
            "doc_97.txt\n",
            "drive/My Drive/hollister_nlp/train/not_used/doc_97.txt\n",
            "doc_98.txt\n",
            "drive/My Drive/hollister_nlp/train/used/doc_98.txt\n",
            "doc_99.txt\n",
            "drive/My Drive/hollister_nlp/train/not_used/doc_99.txt\n",
            "doc_100.txt\n",
            "drive/My Drive/hollister_nlp/train/used/doc_100.txt\n",
            "doc_101.txt\n",
            "drive/My Drive/hollister_nlp/train/used/doc_101.txt\n",
            "doc_102.txt\n",
            "drive/My Drive/hollister_nlp/train/used/doc_102.txt\n",
            "doc_103.txt\n",
            "drive/My Drive/hollister_nlp/train/used/doc_103.txt\n",
            "doc_104.txt\n",
            "drive/My Drive/hollister_nlp/train/used/doc_104.txt\n",
            "doc_105.txt\n",
            "drive/My Drive/hollister_nlp/train/used/doc_105.txt\n",
            "doc_106.txt\n",
            "drive/My Drive/hollister_nlp/train/not_used/doc_106.txt\n",
            "doc_107.txt\n",
            "drive/My Drive/hollister_nlp/train/used/doc_107.txt\n",
            "doc_108.txt\n",
            "drive/My Drive/hollister_nlp/train/used/doc_108.txt\n",
            "doc_109.txt\n",
            "drive/My Drive/hollister_nlp/train/not_used/doc_109.txt\n",
            "doc_110.txt\n",
            "drive/My Drive/hollister_nlp/train/used/doc_110.txt\n",
            "doc_111.txt\n",
            "drive/My Drive/hollister_nlp/train/used/doc_111.txt\n",
            "doc_112.txt\n",
            "drive/My Drive/hollister_nlp/train/used/doc_112.txt\n",
            "doc_113.txt\n",
            "drive/My Drive/hollister_nlp/train/used/doc_113.txt\n",
            "doc_114.txt\n",
            "drive/My Drive/hollister_nlp/train/not_used/doc_114.txt\n",
            "doc_115.txt\n",
            "drive/My Drive/hollister_nlp/train/used/doc_115.txt\n",
            "doc_116.txt\n",
            "drive/My Drive/hollister_nlp/train/used/doc_116.txt\n",
            "doc_117.txt\n",
            "drive/My Drive/hollister_nlp/train/not_used/doc_117.txt\n",
            "doc_118.txt\n",
            "drive/My Drive/hollister_nlp/train/used/doc_118.txt\n",
            "doc_119.txt\n",
            "drive/My Drive/hollister_nlp/train/used/doc_119.txt\n",
            "doc_120.txt\n",
            "drive/My Drive/hollister_nlp/train/not_used/doc_120.txt\n",
            "doc_121.txt\n",
            "drive/My Drive/hollister_nlp/train/not_used/doc_121.txt\n",
            "doc_122.txt\n",
            "drive/My Drive/hollister_nlp/train/used/doc_122.txt\n",
            "doc_123.txt\n",
            "drive/My Drive/hollister_nlp/train/used/doc_123.txt\n",
            "doc_124.txt\n",
            "drive/My Drive/hollister_nlp/train/not_used/doc_124.txt\n",
            "doc_125.txt\n",
            "drive/My Drive/hollister_nlp/train/not_used/doc_125.txt\n",
            "doc_126.txt\n",
            "drive/My Drive/hollister_nlp/train/used/doc_126.txt\n",
            "doc_127.txt\n",
            "drive/My Drive/hollister_nlp/train/used/doc_127.txt\n",
            "doc_128.txt\n",
            "drive/My Drive/hollister_nlp/train/used/doc_128.txt\n",
            "doc_129.txt\n",
            "drive/My Drive/hollister_nlp/train/used/doc_129.txt\n",
            "doc_130.txt\n",
            "drive/My Drive/hollister_nlp/train/used/doc_130.txt\n",
            "doc_131.txt\n",
            "drive/My Drive/hollister_nlp/train/not_used/doc_131.txt\n",
            "doc_132.txt\n",
            "drive/My Drive/hollister_nlp/train/used/doc_132.txt\n",
            "doc_133.txt\n",
            "drive/My Drive/hollister_nlp/train/used/doc_133.txt\n",
            "doc_134.txt\n",
            "drive/My Drive/hollister_nlp/train/used/doc_134.txt\n",
            "doc_135.txt\n",
            "drive/My Drive/hollister_nlp/train/used/doc_135.txt\n",
            "doc_136.txt\n",
            "drive/My Drive/hollister_nlp/train/not_used/doc_136.txt\n",
            "doc_137.txt\n",
            "drive/My Drive/hollister_nlp/train/used/doc_137.txt\n",
            "doc_138.txt\n",
            "drive/My Drive/hollister_nlp/train/used/doc_138.txt\n",
            "doc_139.txt\n",
            "drive/My Drive/hollister_nlp/train/used/doc_139.txt\n",
            "doc_140.txt\n",
            "drive/My Drive/hollister_nlp/train/used/doc_140.txt\n",
            "doc_141.txt\n",
            "drive/My Drive/hollister_nlp/train/used/doc_141.txt\n",
            "doc_142.txt\n",
            "drive/My Drive/hollister_nlp/train/used/doc_142.txt\n",
            "doc_143.txt\n",
            "drive/My Drive/hollister_nlp/train/not_used/doc_143.txt\n",
            "doc_144.txt\n",
            "drive/My Drive/hollister_nlp/train/not_used/doc_144.txt\n",
            "doc_145.txt\n",
            "drive/My Drive/hollister_nlp/train/used/doc_145.txt\n",
            "doc_146.txt\n",
            "drive/My Drive/hollister_nlp/train/not_used/doc_146.txt\n",
            "doc_147.txt\n",
            "drive/My Drive/hollister_nlp/train/used/doc_147.txt\n",
            "doc_148.txt\n",
            "drive/My Drive/hollister_nlp/train/not_used/doc_148.txt\n",
            "doc_149.txt\n",
            "drive/My Drive/hollister_nlp/train/not_used/doc_149.txt\n",
            "doc_150.txt\n",
            "drive/My Drive/hollister_nlp/train/used/doc_150.txt\n",
            "doc_151.txt\n",
            "drive/My Drive/hollister_nlp/train/used/doc_151.txt\n",
            "doc_152.txt\n",
            "drive/My Drive/hollister_nlp/train/used/doc_152.txt\n",
            "doc_153.txt\n",
            "drive/My Drive/hollister_nlp/train/not_used/doc_153.txt\n",
            "doc_154.txt\n",
            "drive/My Drive/hollister_nlp/train/used/doc_154.txt\n",
            "doc_155.txt\n",
            "drive/My Drive/hollister_nlp/train/not_used/doc_155.txt\n",
            "doc_156.txt\n",
            "drive/My Drive/hollister_nlp/train/not_used/doc_156.txt\n",
            "doc_157.txt\n",
            "drive/My Drive/hollister_nlp/train/not_used/doc_157.txt\n",
            "doc_158.txt\n",
            "drive/My Drive/hollister_nlp/train/used/doc_158.txt\n",
            "doc_159.txt\n",
            "drive/My Drive/hollister_nlp/train/not_used/doc_159.txt\n",
            "doc_160.txt\n",
            "drive/My Drive/hollister_nlp/train/used/doc_160.txt\n",
            "doc_161.txt\n",
            "drive/My Drive/hollister_nlp/train/used/doc_161.txt\n",
            "doc_162.txt\n",
            "drive/My Drive/hollister_nlp/train/not_used/doc_162.txt\n",
            "doc_163.txt\n",
            "drive/My Drive/hollister_nlp/train/not_used/doc_163.txt\n",
            "doc_164.txt\n",
            "drive/My Drive/hollister_nlp/train/not_used/doc_164.txt\n",
            "doc_165.txt\n",
            "drive/My Drive/hollister_nlp/train/not_used/doc_165.txt\n",
            "doc_166.txt\n",
            "drive/My Drive/hollister_nlp/train/not_used/doc_166.txt\n",
            "doc_167.txt\n",
            "drive/My Drive/hollister_nlp/train/not_used/doc_167.txt\n",
            "doc_168.txt\n",
            "drive/My Drive/hollister_nlp/train/not_used/doc_168.txt\n",
            "doc_169.txt\n",
            "drive/My Drive/hollister_nlp/train/not_used/doc_169.txt\n",
            "doc_170.txt\n",
            "drive/My Drive/hollister_nlp/train/not_used/doc_170.txt\n",
            "doc_171.txt\n",
            "drive/My Drive/hollister_nlp/train/not_used/doc_171.txt\n",
            "doc_172.txt\n",
            "drive/My Drive/hollister_nlp/train/not_used/doc_172.txt\n",
            "doc_173.txt\n",
            "drive/My Drive/hollister_nlp/train/not_used/doc_173.txt\n",
            "doc_174.txt\n",
            "drive/My Drive/hollister_nlp/train/not_used/doc_174.txt\n",
            "doc_175.txt\n",
            "drive/My Drive/hollister_nlp/train/not_used/doc_175.txt\n",
            "doc_176.txt\n",
            "drive/My Drive/hollister_nlp/train/not_used/doc_176.txt\n",
            "doc_177.txt\n",
            "drive/My Drive/hollister_nlp/train/not_used/doc_177.txt\n",
            "doc_178.txt\n",
            "drive/My Drive/hollister_nlp/train/not_used/doc_178.txt\n",
            "doc_179.txt\n",
            "drive/My Drive/hollister_nlp/train/not_used/doc_179.txt\n",
            "doc_180.txt\n",
            "drive/My Drive/hollister_nlp/train/not_used/doc_180.txt\n",
            "doc_181.txt\n",
            "drive/My Drive/hollister_nlp/train/not_used/doc_181.txt\n",
            "doc_182.txt\n",
            "drive/My Drive/hollister_nlp/train/not_used/doc_182.txt\n",
            "doc_183.txt\n",
            "drive/My Drive/hollister_nlp/train/not_used/doc_183.txt\n",
            "doc_184.txt\n",
            "drive/My Drive/hollister_nlp/train/not_used/doc_184.txt\n",
            "doc_185.txt\n",
            "drive/My Drive/hollister_nlp/train/not_used/doc_185.txt\n",
            "doc_186.txt\n",
            "drive/My Drive/hollister_nlp/train/not_used/doc_186.txt\n",
            "doc_187.txt\n",
            "drive/My Drive/hollister_nlp/train/not_used/doc_187.txt\n",
            "doc_188.txt\n",
            "drive/My Drive/hollister_nlp/train/not_used/doc_188.txt\n",
            "doc_189.txt\n",
            "drive/My Drive/hollister_nlp/train/not_used/doc_189.txt\n",
            "doc_190.txt\n",
            "drive/My Drive/hollister_nlp/train/not_used/doc_190.txt\n",
            "doc_191.txt\n",
            "drive/My Drive/hollister_nlp/train/not_used/doc_191.txt\n",
            "doc_192.txt\n",
            "drive/My Drive/hollister_nlp/train/not_used/doc_192.txt\n",
            "doc_193.txt\n",
            "drive/My Drive/hollister_nlp/train/not_used/doc_193.txt\n",
            "doc_194.txt\n",
            "drive/My Drive/hollister_nlp/train/not_used/doc_194.txt\n",
            "doc_195.txt\n",
            "drive/My Drive/hollister_nlp/train/not_used/doc_195.txt\n",
            "doc_196.txt\n",
            "drive/My Drive/hollister_nlp/train/not_used/doc_196.txt\n",
            "doc_197.txt\n",
            "drive/My Drive/hollister_nlp/train/not_used/doc_197.txt\n",
            "doc_198.txt\n",
            "drive/My Drive/hollister_nlp/train/not_used/doc_198.txt\n",
            "doc_199.txt\n",
            "drive/My Drive/hollister_nlp/train/not_used/doc_199.txt\n",
            "doc_200.txt\n",
            "drive/My Drive/hollister_nlp/train/not_used/doc_200.txt\n",
            "doc_201.txt\n",
            "drive/My Drive/hollister_nlp/train/not_used/doc_201.txt\n",
            "doc_202.txt\n",
            "drive/My Drive/hollister_nlp/train/not_used/doc_202.txt\n",
            "doc_203.txt\n",
            "drive/My Drive/hollister_nlp/train/not_used/doc_203.txt\n",
            "doc_204.txt\n",
            "drive/My Drive/hollister_nlp/train/not_used/doc_204.txt\n",
            "doc_205.txt\n",
            "drive/My Drive/hollister_nlp/train/not_used/doc_205.txt\n",
            "doc_206.txt\n",
            "drive/My Drive/hollister_nlp/train/not_used/doc_206.txt\n",
            "doc_207.txt\n",
            "drive/My Drive/hollister_nlp/train/not_used/doc_207.txt\n",
            "doc_208.txt\n",
            "drive/My Drive/hollister_nlp/train/not_used/doc_208.txt\n",
            "doc_209.txt\n",
            "drive/My Drive/hollister_nlp/train/not_used/doc_209.txt\n",
            "doc_210.txt\n",
            "drive/My Drive/hollister_nlp/train/not_used/doc_210.txt\n",
            "doc_211.txt\n",
            "drive/My Drive/hollister_nlp/train/not_used/doc_211.txt\n",
            "doc_212.txt\n",
            "drive/My Drive/hollister_nlp/train/not_used/doc_212.txt\n",
            "doc_213.txt\n",
            "drive/My Drive/hollister_nlp/train/not_used/doc_213.txt\n",
            "doc_214.txt\n",
            "drive/My Drive/hollister_nlp/train/not_used/doc_214.txt\n"
          ]
        }
      ],
      "source": [
        "df_train.index = range(0,len(df_train))\n",
        "\n",
        "for i in range(len(df_train)):\n",
        "  doc_name = 'doc_' + str(i+1) + '.txt'\n",
        "  text = df_train['cleaned_text'][i]\n",
        "  print(doc_name)\n",
        "\n",
        "  if df_train['binary_frequency'][i] == 0:\n",
        "    path = 'drive/My Drive/hollister_nlp/train/not_used/'\n",
        "    with open(path + doc_name, 'w') as f:\n",
        "      f.write(text)\n",
        "    print(path+doc_name)\n",
        "\n",
        "  if df_train['binary_frequency'][i] == 1:\n",
        "    path = 'drive/My Drive/hollister_nlp/train/used/'\n",
        "    with open(path + doc_name, 'w') as f:\n",
        "      f.write(text)\n",
        "    print(path+doc_name)\n",
        "\n",
        " # !cp \n",
        "\n",
        "  #df.to_csv('hollister_cleaned.csv')\n",
        "  #!cp hollister_cleaned.csv \"drive/My Drive/hollister_nlp/\""
      ]
    },
    {
      "cell_type": "code",
      "execution_count": null,
      "metadata": {
        "colab": {
          "base_uri": "https://localhost:8080/"
        },
        "id": "Mkvgcr31DWge",
        "outputId": "b289e60c-dace-4ca4-a6dd-9b77a77a5cd3"
      },
      "outputs": [
        {
          "name": "stdout",
          "output_type": "stream",
          "text": [
            "doc_1.txt\n",
            "drive/My Drive/hollister_nlp/test/used/doc_1.txt\n",
            "doc_2.txt\n",
            "drive/My Drive/hollister_nlp/test/not_used/doc_2.txt\n",
            "doc_3.txt\n",
            "drive/My Drive/hollister_nlp/test/not_used/doc_3.txt\n",
            "doc_4.txt\n",
            "drive/My Drive/hollister_nlp/test/used/doc_4.txt\n",
            "doc_5.txt\n",
            "drive/My Drive/hollister_nlp/test/not_used/doc_5.txt\n",
            "doc_6.txt\n",
            "drive/My Drive/hollister_nlp/test/used/doc_6.txt\n",
            "doc_7.txt\n",
            "drive/My Drive/hollister_nlp/test/not_used/doc_7.txt\n",
            "doc_8.txt\n",
            "drive/My Drive/hollister_nlp/test/used/doc_8.txt\n",
            "doc_9.txt\n",
            "drive/My Drive/hollister_nlp/test/not_used/doc_9.txt\n",
            "doc_10.txt\n",
            "drive/My Drive/hollister_nlp/test/used/doc_10.txt\n",
            "doc_11.txt\n",
            "drive/My Drive/hollister_nlp/test/used/doc_11.txt\n",
            "doc_12.txt\n",
            "drive/My Drive/hollister_nlp/test/used/doc_12.txt\n",
            "doc_13.txt\n",
            "drive/My Drive/hollister_nlp/test/used/doc_13.txt\n",
            "doc_14.txt\n",
            "drive/My Drive/hollister_nlp/test/used/doc_14.txt\n",
            "doc_15.txt\n",
            "drive/My Drive/hollister_nlp/test/used/doc_15.txt\n",
            "doc_16.txt\n",
            "drive/My Drive/hollister_nlp/test/used/doc_16.txt\n",
            "doc_17.txt\n",
            "drive/My Drive/hollister_nlp/test/used/doc_17.txt\n",
            "doc_18.txt\n",
            "drive/My Drive/hollister_nlp/test/not_used/doc_18.txt\n",
            "doc_19.txt\n",
            "drive/My Drive/hollister_nlp/test/used/doc_19.txt\n",
            "doc_20.txt\n",
            "drive/My Drive/hollister_nlp/test/not_used/doc_20.txt\n",
            "doc_21.txt\n",
            "drive/My Drive/hollister_nlp/test/used/doc_21.txt\n",
            "doc_22.txt\n",
            "drive/My Drive/hollister_nlp/test/used/doc_22.txt\n",
            "doc_23.txt\n",
            "drive/My Drive/hollister_nlp/test/not_used/doc_23.txt\n",
            "doc_24.txt\n",
            "drive/My Drive/hollister_nlp/test/not_used/doc_24.txt\n",
            "doc_25.txt\n",
            "drive/My Drive/hollister_nlp/test/used/doc_25.txt\n",
            "doc_26.txt\n",
            "drive/My Drive/hollister_nlp/test/used/doc_26.txt\n",
            "doc_27.txt\n",
            "drive/My Drive/hollister_nlp/test/not_used/doc_27.txt\n",
            "doc_28.txt\n",
            "drive/My Drive/hollister_nlp/test/used/doc_28.txt\n",
            "doc_29.txt\n",
            "drive/My Drive/hollister_nlp/test/used/doc_29.txt\n",
            "doc_30.txt\n",
            "drive/My Drive/hollister_nlp/test/used/doc_30.txt\n",
            "doc_31.txt\n",
            "drive/My Drive/hollister_nlp/test/not_used/doc_31.txt\n",
            "doc_32.txt\n",
            "drive/My Drive/hollister_nlp/test/used/doc_32.txt\n",
            "doc_33.txt\n",
            "drive/My Drive/hollister_nlp/test/used/doc_33.txt\n",
            "doc_34.txt\n",
            "drive/My Drive/hollister_nlp/test/used/doc_34.txt\n",
            "doc_35.txt\n",
            "drive/My Drive/hollister_nlp/test/used/doc_35.txt\n",
            "doc_36.txt\n",
            "drive/My Drive/hollister_nlp/test/not_used/doc_36.txt\n",
            "doc_37.txt\n",
            "drive/My Drive/hollister_nlp/test/used/doc_37.txt\n",
            "doc_38.txt\n",
            "drive/My Drive/hollister_nlp/test/used/doc_38.txt\n",
            "doc_39.txt\n",
            "drive/My Drive/hollister_nlp/test/used/doc_39.txt\n",
            "doc_40.txt\n",
            "drive/My Drive/hollister_nlp/test/used/doc_40.txt\n",
            "doc_41.txt\n",
            "drive/My Drive/hollister_nlp/test/not_used/doc_41.txt\n",
            "doc_42.txt\n",
            "drive/My Drive/hollister_nlp/test/not_used/doc_42.txt\n",
            "doc_43.txt\n",
            "drive/My Drive/hollister_nlp/test/used/doc_43.txt\n",
            "doc_44.txt\n",
            "drive/My Drive/hollister_nlp/test/not_used/doc_44.txt\n",
            "doc_45.txt\n",
            "drive/My Drive/hollister_nlp/test/used/doc_45.txt\n",
            "doc_46.txt\n",
            "drive/My Drive/hollister_nlp/test/not_used/doc_46.txt\n",
            "doc_47.txt\n",
            "drive/My Drive/hollister_nlp/test/not_used/doc_47.txt\n",
            "doc_48.txt\n",
            "drive/My Drive/hollister_nlp/test/not_used/doc_48.txt\n",
            "doc_49.txt\n",
            "drive/My Drive/hollister_nlp/test/used/doc_49.txt\n",
            "doc_50.txt\n",
            "drive/My Drive/hollister_nlp/test/not_used/doc_50.txt\n",
            "doc_51.txt\n",
            "drive/My Drive/hollister_nlp/test/not_used/doc_51.txt\n",
            "doc_52.txt\n",
            "drive/My Drive/hollister_nlp/test/used/doc_52.txt\n",
            "doc_53.txt\n",
            "drive/My Drive/hollister_nlp/test/used/doc_53.txt\n",
            "doc_54.txt\n",
            "drive/My Drive/hollister_nlp/test/used/doc_54.txt\n",
            "doc_55.txt\n",
            "drive/My Drive/hollister_nlp/test/used/doc_55.txt\n",
            "doc_56.txt\n",
            "drive/My Drive/hollister_nlp/test/used/doc_56.txt\n",
            "doc_57.txt\n",
            "drive/My Drive/hollister_nlp/test/used/doc_57.txt\n",
            "doc_58.txt\n",
            "drive/My Drive/hollister_nlp/test/used/doc_58.txt\n",
            "doc_59.txt\n",
            "drive/My Drive/hollister_nlp/test/used/doc_59.txt\n",
            "doc_60.txt\n",
            "drive/My Drive/hollister_nlp/test/not_used/doc_60.txt\n",
            "doc_61.txt\n",
            "drive/My Drive/hollister_nlp/test/used/doc_61.txt\n",
            "doc_62.txt\n",
            "drive/My Drive/hollister_nlp/test/used/doc_62.txt\n",
            "doc_63.txt\n",
            "drive/My Drive/hollister_nlp/test/used/doc_63.txt\n",
            "doc_64.txt\n",
            "drive/My Drive/hollister_nlp/test/used/doc_64.txt\n",
            "doc_65.txt\n",
            "drive/My Drive/hollister_nlp/test/used/doc_65.txt\n",
            "doc_66.txt\n",
            "drive/My Drive/hollister_nlp/test/not_used/doc_66.txt\n",
            "doc_67.txt\n",
            "drive/My Drive/hollister_nlp/test/used/doc_67.txt\n",
            "doc_68.txt\n",
            "drive/My Drive/hollister_nlp/test/not_used/doc_68.txt\n",
            "doc_69.txt\n",
            "drive/My Drive/hollister_nlp/test/used/doc_69.txt\n",
            "doc_70.txt\n",
            "drive/My Drive/hollister_nlp/test/not_used/doc_70.txt\n"
          ]
        }
      ],
      "source": [
        "dir = 'drive/My Drive/hollister_nlp/test/not_used/'\n",
        "for f in os.listdir(dir):\n",
        "    os.remove(os.path.join(dir, f))\n",
        "\n",
        "dir = 'drive/My Drive/hollister_nlp/test/used/'\n",
        "for f in os.listdir(dir):\n",
        "    os.remove(os.path.join(dir, f))\n",
        "\n",
        "for i in range(len(df_test)):\n",
        "  doc_name = 'doc_' + str(i+1) + '.txt'\n",
        "  text = df_test['cleaned_text'][i]\n",
        "  print(doc_name)\n",
        "\n",
        "  if df_test['binary_frequency'][i] == 0:\n",
        "    path = 'drive/My Drive/hollister_nlp/test/not_used/'\n",
        "    with open(path + doc_name, 'w') as f:\n",
        "      f.write(text)\n",
        "    print(path+doc_name)\n",
        "\n",
        "  if df_test['binary_frequency'][i] == 1:\n",
        "    path = 'drive/My Drive/hollister_nlp/test/used/'\n",
        "    with open(path + doc_name, 'w') as f:\n",
        "      f.write(text)\n",
        "    print(path+doc_name)"
      ]
    },
    {
      "cell_type": "code",
      "execution_count": null,
      "metadata": {
        "colab": {
          "base_uri": "https://localhost:8080/"
        },
        "id": "x8Or9R9gDlq1",
        "outputId": "caf7412f-f1ea-4680-d53c-8b1c4136b637"
      },
      "outputs": [
        {
          "name": "stdout",
          "output_type": "stream",
          "text": [
            "Found 214 files belonging to 2 classes.\n",
            "Using 172 files for training.\n"
          ]
        }
      ],
      "source": [
        "AUTOTUNE = tf.data.AUTOTUNE\n",
        "batch_size = 32\n",
        "seed = 42\n",
        "\n",
        "raw_train_ds = tf.keras.preprocessing.text_dataset_from_directory(\n",
        "    'drive/My Drive/hollister_nlp/train',\n",
        "    batch_size=batch_size,\n",
        "    validation_split=0.2,\n",
        "    subset='training',\n",
        "    seed=seed)\n",
        "\n",
        "class_names = raw_train_ds.class_names\n",
        "train_ds = raw_train_ds.cache().prefetch(buffer_size=AUTOTUNE)"
      ]
    },
    {
      "cell_type": "code",
      "execution_count": null,
      "metadata": {
        "colab": {
          "base_uri": "https://localhost:8080/"
        },
        "id": "Ana2te_LEB14",
        "outputId": "53e36d58-5995-4485-df5a-2f7c4ead97b9"
      },
      "outputs": [
        {
          "name": "stdout",
          "output_type": "stream",
          "text": [
            "Found 214 files belonging to 2 classes.\n",
            "Using 42 files for validation.\n",
            "Found 70 files belonging to 2 classes.\n"
          ]
        }
      ],
      "source": [
        "val_ds = tf.keras.preprocessing.text_dataset_from_directory(\n",
        "    'drive/My Drive/hollister_nlp/train',\n",
        "    batch_size=batch_size,\n",
        "    validation_split=0.2,\n",
        "    subset='validation',\n",
        "    seed=seed)\n",
        "\n",
        "val_ds = val_ds.cache().prefetch(buffer_size=AUTOTUNE)\n",
        "\n",
        "test_ds = tf.keras.preprocessing.text_dataset_from_directory(\n",
        "    'drive/My Drive/hollister_nlp/test',\n",
        "    batch_size=batch_size)\n",
        "\n",
        "test_ds = test_ds.cache().prefetch(buffer_size=AUTOTUNE)"
      ]
    },
    {
      "cell_type": "code",
      "execution_count": null,
      "metadata": {
        "colab": {
          "base_uri": "https://localhost:8080/"
        },
        "id": "FhY66gCVEKtO",
        "outputId": "9d9286ae-6909-4607-a5b5-47e1f2986cde"
      },
      "outputs": [
        {
          "name": "stdout",
          "output_type": "stream",
          "text": [
            "Review: b'covid vaccination site temporarily shut down after protesters gather at entrance dodger stadium s mass covid vaccination site was temporarily shut down saturday afternoon when about anti vax protesters gathered at entrance frustrating hundreds of motorists who had been waiting in line for hours science is under siege from stupidity we need to increase our effort to keep our messaging relevant clear and fact based'\n",
            "Label : 0 (not_used)\n",
            "Review: b'engineered living material elm made from microbes can respond to stimuli from their surrounding environment researchers from imperial college london and mit combined bacteria from kombucha that produces cellulose with brewer s yeast to create dual cellularized scaffold that they hope could be used to create therapeutics or even living biosensors researchers were able to engineer yeast according to needs of their system for example to produce enzymes that fluoresced or that broke down target molecules systems for genetically engineering baker s yeast are well established and fast meaning that new strains with particular desired characteristics can be created quickly simple growth conditions required by kombucha style culture also mean that any new combination can quickly be established and bulked up ready for use both of these features make this favorable elm system'\n",
            "Label : 0 (not_used)\n",
            "Review: b'essity launches absorbent underwear for menstruation and incontinence hygiene and health company essity is launching new ranges of washable absorbent underwear within its feminine care and incontinence products categories underwear offers invisible protection for up to eight hours providing users with more sustainable option than disposable protection'\n",
            "Label : 0 (not_used)\n"
          ]
        }
      ],
      "source": [
        "for text_batch, label_batch in train_ds.take(1):\n",
        "  for i in range(3):\n",
        "    print(f'Review: {text_batch.numpy()[i]}')\n",
        "    label = label_batch.numpy()[i]\n",
        "    print(f'Label : {label} ({class_names[label]})')"
      ]
    },
    {
      "cell_type": "code",
      "execution_count": null,
      "metadata": {
        "colab": {
          "base_uri": "https://localhost:8080/"
        },
        "id": "u_wdOKapESEC",
        "outputId": "262aede3-a16c-48b9-a043-642ff3a72542"
      },
      "outputs": [
        {
          "name": "stdout",
          "output_type": "stream",
          "text": [
            "BERT model selected           : https://tfhub.dev/jeongukjae/distilbert_en_uncased_L-6_H-768_A-12/1\n",
            "Preprocess model auto-selected: https://tfhub.dev/jeongukjae/distilbert_en_uncased_preprocess/2\n"
          ]
        }
      ],
      "source": [
        "bert_model_name = 'distilbert_en_uncased_L-6_H-768_A-12' \n",
        "\n",
        "map_name_to_handle = {\n",
        "    'distilbert_en_uncased_L-6_H-768_A-12':\n",
        "        'https://tfhub.dev/jeongukjae/distilbert_en_uncased_L-6_H-768_A-12/1',\n",
        "    'bert_en_uncased_L-12_H-768_A-12':\n",
        "        'https://tfhub.dev/tensorflow/bert_en_uncased_L-12_H-768_A-12/3',\n",
        "    'small_bert/bert_en_uncased_L-4_H-768_A-12':\n",
        "        'https://tfhub.dev/tensorflow/small_bert/bert_en_uncased_L-4_H-768_A-12/1',\n",
        "    'albert_en_base':\n",
        "        'https://tfhub.dev/tensorflow/albert_en_base/2',\n",
        "    'electra_small':\n",
        "        'https://tfhub.dev/google/electra_small/2',\n",
        "    'electra_base':\n",
        "        'https://tfhub.dev/google/electra_base/2',\n",
        "    'experts_pubmed':\n",
        "        'https://tfhub.dev/google/experts/bert/pubmed/2',\n",
        "    'experts_wiki_books':\n",
        "        'https://tfhub.dev/google/experts/bert/wiki_books/2',\n",
        "    'talking-heads_base':\n",
        "        'https://tfhub.dev/tensorflow/talkheads_ggelu_bert_en_base/1',\n",
        "}\n",
        "\n",
        "map_model_to_preprocess = {\n",
        "    'distilbert_en_uncased_L-6_H-768_A-12':\n",
        "        'https://tfhub.dev/jeongukjae/distilbert_en_uncased_preprocess/2',\n",
        "    'bert_en_uncased_L-12_H-768_A-12':\n",
        "        'https://tfhub.dev/tensorflow/bert_en_uncased_preprocess/3',\n",
        "    'bert_en_cased_L-12_H-768_A-12':\n",
        "        'https://tfhub.dev/tensorflow/bert_en_cased_preprocess/3',\n",
        "    'small_bert/bert_en_uncased_L-4_H-768_A-12':\n",
        "        'https://tfhub.dev/tensorflow/bert_en_uncased_preprocess/3',\n",
        "    'bert_multi_cased_L-12_H-768_A-12':\n",
        "        'https://tfhub.dev/tensorflow/bert_multi_cased_preprocess/3',\n",
        "    'albert_en_base':\n",
        "        'https://tfhub.dev/tensorflow/albert_en_preprocess/3',\n",
        "    'electra_small':\n",
        "        'https://tfhub.dev/tensorflow/bert_en_uncased_preprocess/3',\n",
        "    'electra_base':\n",
        "        'https://tfhub.dev/tensorflow/bert_en_uncased_preprocess/3',\n",
        "    'experts_pubmed':\n",
        "        'https://tfhub.dev/tensorflow/bert_en_uncased_preprocess/3',\n",
        "    'experts_wiki_books':\n",
        "        'https://tfhub.dev/tensorflow/bert_en_uncased_preprocess/3',\n",
        "    'talking-heads_base':\n",
        "        'https://tfhub.dev/tensorflow/bert_en_uncased_preprocess/3',\n",
        "}\n",
        "\n",
        "tfhub_handle_encoder = map_name_to_handle[bert_model_name]\n",
        "tfhub_handle_preprocess = map_model_to_preprocess[bert_model_name]\n",
        "\n",
        "print(f'BERT model selected           : {tfhub_handle_encoder}')\n",
        "print(f'Preprocess model auto-selected: {tfhub_handle_preprocess}')"
      ]
    },
    {
      "cell_type": "code",
      "execution_count": null,
      "metadata": {
        "id": "tfp_Qd6NbXoK"
      },
      "outputs": [],
      "source": [
        "bert_preprocess_model = hub.KerasLayer(tfhub_handle_preprocess)\n",
        "text_test = ['this is such an amazing movie!']\n",
        "text_preprocessed = bert_preprocess_model(text_test)\n",
        "bert_model = hub.KerasLayer(tfhub_handle_encoder)"
      ]
    },
    {
      "cell_type": "code",
      "execution_count": null,
      "metadata": {
        "colab": {
          "base_uri": "https://localhost:8080/"
        },
        "id": "MVd-nQFUbiw2",
        "outputId": "6f4c85e9-0c65-4f16-9aa5-6537a35fb5ff"
      },
      "outputs": [
        {
          "name": "stdout",
          "output_type": "stream",
          "text": [
            "Loaded BERT: https://tfhub.dev/jeongukjae/distilbert_en_uncased_L-6_H-768_A-12/1\n",
            "Pooled Outputs Shape:(1, 768)\n",
            "Pooled Outputs Values:[ 0.10707216 -0.02834856  0.22963846 -0.08891395 -0.04999642 -0.41232324\n",
            "  0.2600466   0.5163808  -0.15924704 -0.03427725 -0.02210817 -0.16133668]\n",
            "Sequence Outputs Shape:(1, 128, 768)\n",
            "Sequence Outputs Values:[[ 0.10707216 -0.02834856  0.22963846 ... -0.1044088   0.34448737\n",
            "   0.27194363]\n",
            " [-0.1442805  -0.40595865  0.07243359 ... -0.4619699   1.0488062\n",
            "   0.22021559]\n",
            " [-0.07608485 -0.2249772   0.39776567 ... -0.1934421   0.66359085\n",
            "   0.67616343]\n",
            " ...\n",
            " [ 0.19310246 -0.2532397   0.37858054 ...  0.39174855  0.10064243\n",
            "   0.10445689]\n",
            " [ 0.14474405 -0.20250344  0.37161064 ...  0.3631316   0.11754455\n",
            "   0.14802153]\n",
            " [ 0.1253878  -0.15240109  0.32957003 ...  0.30149946  0.13398074\n",
            "   0.06286675]]\n"
          ]
        }
      ],
      "source": [
        "bert_results = bert_model(text_preprocessed)\n",
        "\n",
        "print(f'Loaded BERT: {tfhub_handle_encoder}')\n",
        "print(f'Pooled Outputs Shape:{bert_results[\"pooled_output\"].shape}')\n",
        "print(f'Pooled Outputs Values:{bert_results[\"pooled_output\"][0, :12]}')\n",
        "print(f'Sequence Outputs Shape:{bert_results[\"sequence_output\"].shape}')\n",
        "print(f'Sequence Outputs Values:{bert_results[\"sequence_output\"][0, :12]}')"
      ]
    },
    {
      "cell_type": "code",
      "execution_count": null,
      "metadata": {
        "id": "Ic1-CWflFtJ6"
      },
      "outputs": [],
      "source": [
        "def build_classifier_model():\n",
        "  text_input = tf.keras.layers.Input(shape=(), dtype=tf.string, name='text')\n",
        "  preprocessing_layer = hub.KerasLayer(tfhub_handle_preprocess, name='preprocessing')\n",
        "  encoder_inputs = preprocessing_layer(text_input)\n",
        "  encoder = hub.KerasLayer(tfhub_handle_encoder, trainable=True, name='BERT_encoder')\n",
        "  outputs = encoder(encoder_inputs)\n",
        "  net = outputs['pooled_output']\n",
        "  net = tf.keras.layers.Dropout(0.2)(net)\n",
        "  net = tf.keras.layers.Dense(1, activation=None, name='classifier')(net)\n",
        "  return tf.keras.Model(text_input, net)"
      ]
    },
    {
      "cell_type": "code",
      "execution_count": null,
      "metadata": {
        "colab": {
          "base_uri": "https://localhost:8080/"
        },
        "id": "z2y5JsqrVSKL",
        "outputId": "a91efa87-32fe-4cdf-8866-277a4e6e23b0"
      },
      "outputs": [
        {
          "name": "stdout",
          "output_type": "stream",
          "text": [
            "tf.Tensor([[0.478835]], shape=(1, 1), dtype=float32)\n"
          ]
        }
      ],
      "source": [
        "classifier_model = build_classifier_model()\n",
        "bert_raw_result = classifier_model(tf.constant(text_test))\n",
        "print(tf.sigmoid(bert_raw_result))"
      ]
    },
    {
      "cell_type": "code",
      "execution_count": null,
      "metadata": {
        "id": "SrmyqQJwGCPE"
      },
      "outputs": [],
      "source": [
        "loss = tf.keras.losses.BinaryCrossentropy(from_logits=True)\n",
        "metrics = tf.metrics.BinaryAccuracy()"
      ]
    },
    {
      "cell_type": "code",
      "execution_count": null,
      "metadata": {
        "id": "v6m02f3UGFZf"
      },
      "outputs": [],
      "source": [
        "from official.nlp import optimization \n",
        "epochs = 3\n",
        "steps_per_epoch = tf.data.experimental.cardinality(train_ds).numpy()\n",
        "num_train_steps = steps_per_epoch * epochs\n",
        "num_warmup_steps = int(0.1*num_train_steps)\n",
        "\n",
        "init_lr = 1.5e-4\n",
        "optimizer = optimization.create_optimizer(init_lr=init_lr,\n",
        "                                          num_train_steps=num_train_steps,\n",
        "                                          num_warmup_steps=num_warmup_steps,\n",
        "                                          optimizer_type='adamw')"
      ]
    },
    {
      "cell_type": "code",
      "execution_count": null,
      "metadata": {
        "id": "WaDV8UGyGK2s"
      },
      "outputs": [],
      "source": [
        "classifier_model.compile(optimizer=optimizer,\n",
        "                         loss=loss,\n",
        "                         metrics=metrics)"
      ]
    },
    {
      "cell_type": "code",
      "execution_count": null,
      "metadata": {
        "colab": {
          "base_uri": "https://localhost:8080/"
        },
        "id": "Ssoshy7RGVS-",
        "outputId": "785ce87d-b5ce-4000-8b17-9ffee3cf0755"
      },
      "outputs": [
        {
          "name": "stdout",
          "output_type": "stream",
          "text": [
            "Training model with https://tfhub.dev/jeongukjae/distilbert_en_uncased_L-6_H-768_A-12/1\n",
            "Epoch 1/3\n",
            "6/6 [==============================] - 156s 23s/step - loss: 0.9192 - binary_accuracy: 0.4593 - val_loss: 0.6831 - val_binary_accuracy: 0.5000\n",
            "Epoch 2/3\n",
            "6/6 [==============================] - 134s 22s/step - loss: 0.7006 - binary_accuracy: 0.5174 - val_loss: 0.6786 - val_binary_accuracy: 0.5000\n",
            "Epoch 3/3\n",
            "6/6 [==============================] - 133s 22s/step - loss: 0.6839 - binary_accuracy: 0.4884 - val_loss: 0.6674 - val_binary_accuracy: 0.5000\n"
          ]
        }
      ],
      "source": [
        "print(f'Training model with {tfhub_handle_encoder}')\n",
        "history = classifier_model.fit(x=train_ds,\n",
        "                               validation_data=val_ds,\n",
        "                               epochs=epochs)"
      ]
    },
    {
      "cell_type": "code",
      "execution_count": null,
      "metadata": {
        "colab": {
          "base_uri": "https://localhost:8080/"
        },
        "id": "PjeBsDS_HpzI",
        "outputId": "20a6fdf3-f913-445d-f05a-9924ecba2615"
      },
      "outputs": [
        {
          "name": "stdout",
          "output_type": "stream",
          "text": [
            "3/3 [==============================] - 15s 4s/step - loss: 0.6809 - binary_accuracy: 0.3429\n",
            "0.680873453617096\n",
            "0.34285715222358704\n"
          ]
        }
      ],
      "source": [
        "loss, accuracy = classifier_model.evaluate(test_ds)\n",
        "print(loss)\n",
        "print(accuracy)"
      ]
    },
    {
      "cell_type": "code",
      "execution_count": null,
      "metadata": {
        "colab": {
          "base_uri": "https://localhost:8080/",
          "height": 439
        },
        "id": "i1jpVCO4JuHb",
        "outputId": "91c756ca-fe75-4491-850e-ff3d83ca4884"
      },
      "outputs": [
        {
          "name": "stdout",
          "output_type": "stream",
          "text": [
            "dict_keys(['loss', 'binary_accuracy', 'val_loss', 'val_binary_accuracy'])\n"
          ]
        },
        {
          "data": {
            "text/plain": [
              "<matplotlib.legend.Legend at 0x7f9f346bb2d0>"
            ]
          },
          "execution_count": 41,
          "metadata": {},
          "output_type": "execute_result"
        },
        {
          "data": {
            "image/png": "[encoded data removed]",
            "text/plain": [
              "<Figure size 720x432 with 2 Axes>"
            ]
          },
          "metadata": {},
          "output_type": "display_data"
        }
      ],
      "source": [
        "history_dict = history.history\n",
        "print(history_dict.keys())\n",
        "\n",
        "acc = history_dict['binary_accuracy']\n",
        "val_acc = history_dict['val_binary_accuracy']\n",
        "loss = history_dict['loss']\n",
        "val_loss = history_dict['val_loss']\n",
        "\n",
        "epochs = range(1, len(acc) + 1)\n",
        "fig = plt.figure(figsize=(10, 6))\n",
        "fig.tight_layout()\n",
        "\n",
        "plt.subplot(2, 1, 1)\n",
        "# r is for \"solid red line\"\n",
        "plt.plot(epochs, loss, 'r', label='Training loss')\n",
        "# b is for \"solid blue line\"\n",
        "plt.plot(epochs, val_loss, 'b', label='Validation loss')\n",
        "plt.title('Training and validation loss')\n",
        "# plt.xlabel('Epochs')\n",
        "plt.ylabel('Loss')\n",
        "plt.legend()\n",
        "\n",
        "plt.subplot(2, 1, 2)\n",
        "plt.plot(epochs, acc, 'r', label='Training acc')\n",
        "plt.plot(epochs, val_acc, 'b', label='Validation acc')\n",
        "plt.title('Training and validation accuracy')\n",
        "plt.xlabel('Epochs')\n",
        "plt.ylabel('Accuracy')\n",
        "plt.legend(loc='lower right')"
      ]
    },
    {
      "cell_type": "code",
      "execution_count": null,
      "metadata": {
        "id": "ie2AlTgOGX7X"
      },
      "outputs": [],
      "source": [
        "dataset_name = 'distilBert6'\n",
        "saved_model_path = 'drive/My Drive/hollister_nlp/{}_bert'.format(dataset_name.replace('/', '_'))"
      ]
    },
    {
      "cell_type": "code",
      "execution_count": null,
      "metadata": {
        "colab": {
          "base_uri": "https://localhost:8080/",
          "height": 35
        },
        "id": "c0AkPZ-LV3Xi",
        "outputId": "47b34bba-166c-4319-adc1-1c9b02dc27bd"
      },
      "outputs": [
        {
          "data": {
            "application/vnd.google.colaboratory.intrinsic+json": {
              "type": "string"
            },
            "text/plain": [
              "'drive/My Drive/hollister_nlp/distilBert6_bert'"
            ]
          },
          "execution_count": 44,
          "metadata": {},
          "output_type": "execute_result"
        }
      ],
      "source": [
        "saved_model_path"
      ]
    },
    {
      "cell_type": "code",
      "execution_count": null,
      "metadata": {
        "colab": {
          "base_uri": "https://localhost:8080/",
          "height": 329
        },
        "id": "F89oPC51HD1O",
        "outputId": "8e41287c-1ac4-4a78-c881-88d4b0c06d34"
      },
      "outputs": [
        {
          "ename": "KeyboardInterrupt",
          "evalue": "ignored",
          "output_type": "error",
          "traceback": [
            "\u001b[0;31m---------------------------------------------------------------------------\u001b[0m",
            "\u001b[0;31mKeyboardInterrupt\u001b[0m                         Traceback (most recent call last)",
            "\u001b[0;32m<ipython-input-45-67f9e94b0994>\u001b[0m in \u001b[0;36m<module>\u001b[0;34m()\u001b[0m\n\u001b[1;32m      1\u001b[0m \u001b[0;31m#classifier_model.save(saved_model_path, include_optimizer=False)\u001b[0m\u001b[0;34m\u001b[0m\u001b[0;34m\u001b[0m\u001b[0;34m\u001b[0m\u001b[0m\n\u001b[0;32m----> 2\u001b[0;31m \u001b[0mreloaded_model\u001b[0m \u001b[0;34m=\u001b[0m \u001b[0mtf\u001b[0m\u001b[0;34m.\u001b[0m\u001b[0msaved_model\u001b[0m\u001b[0;34m.\u001b[0m\u001b[0mload\u001b[0m\u001b[0;34m(\u001b[0m\u001b[0msaved_model_path\u001b[0m\u001b[0;34m)\u001b[0m\u001b[0;34m\u001b[0m\u001b[0;34m\u001b[0m\u001b[0m\n\u001b[0m",
            "\u001b[0;32m/usr/local/lib/python3.7/dist-packages/tensorflow/python/saved_model/load.py\u001b[0m in \u001b[0;36mload\u001b[0;34m(export_dir, tags, options)\u001b[0m\n\u001b[1;32m    898\u001b[0m     \u001b[0mValueError\u001b[0m\u001b[0;34m:\u001b[0m \u001b[0mIf\u001b[0m\u001b[0;31m \u001b[0m\u001b[0;31m`\u001b[0m\u001b[0mtags\u001b[0m\u001b[0;31m`\u001b[0m \u001b[0mdon\u001b[0m\u001b[0;31m'\u001b[0m\u001b[0mt\u001b[0m \u001b[0mmatch\u001b[0m \u001b[0ma\u001b[0m \u001b[0mMetaGraph\u001b[0m \u001b[0;32min\u001b[0m \u001b[0mthe\u001b[0m \u001b[0mSavedModel\u001b[0m\u001b[0;34m.\u001b[0m\u001b[0;34m\u001b[0m\u001b[0;34m\u001b[0m\u001b[0m\n\u001b[1;32m    899\u001b[0m   \"\"\"\n\u001b[0;32m--> 900\u001b[0;31m   \u001b[0mresult\u001b[0m \u001b[0;34m=\u001b[0m \u001b[0mload_internal\u001b[0m\u001b[0;34m(\u001b[0m\u001b[0mexport_dir\u001b[0m\u001b[0;34m,\u001b[0m \u001b[0mtags\u001b[0m\u001b[0;34m,\u001b[0m \u001b[0moptions\u001b[0m\u001b[0;34m)\u001b[0m\u001b[0;34m[\u001b[0m\u001b[0;34m\"root\"\u001b[0m\u001b[0;34m]\u001b[0m\u001b[0;34m\u001b[0m\u001b[0;34m\u001b[0m\u001b[0m\n\u001b[0m\u001b[1;32m    901\u001b[0m   \u001b[0;32mreturn\u001b[0m \u001b[0mresult\u001b[0m\u001b[0;34m\u001b[0m\u001b[0;34m\u001b[0m\u001b[0m\n\u001b[1;32m    902\u001b[0m \u001b[0;34m\u001b[0m\u001b[0m\n",
            "\u001b[0;32m/usr/local/lib/python3.7/dist-packages/tensorflow/python/saved_model/load.py\u001b[0m in \u001b[0;36mload_internal\u001b[0;34m(export_dir, tags, options, loader_cls, filters)\u001b[0m\n\u001b[1;32m    937\u001b[0m       \u001b[0;32mtry\u001b[0m\u001b[0;34m:\u001b[0m\u001b[0;34m\u001b[0m\u001b[0;34m\u001b[0m\u001b[0m\n\u001b[1;32m    938\u001b[0m         loader = loader_cls(object_graph_proto, saved_model_proto, export_dir,\n\u001b[0;32m--> 939\u001b[0;31m                             ckpt_options, options, filters)\n\u001b[0m\u001b[1;32m    940\u001b[0m       \u001b[0;32mexcept\u001b[0m \u001b[0merrors\u001b[0m\u001b[0;34m.\u001b[0m\u001b[0mNotFoundError\u001b[0m \u001b[0;32mas\u001b[0m \u001b[0merr\u001b[0m\u001b[0;34m:\u001b[0m\u001b[0;34m\u001b[0m\u001b[0;34m\u001b[0m\u001b[0m\n\u001b[1;32m    941\u001b[0m         raise FileNotFoundError(\n",
            "\u001b[0;32m/usr/local/lib/python3.7/dist-packages/tensorflow/python/saved_model/load.py\u001b[0m in \u001b[0;36m__init__\u001b[0;34m(self, object_graph_proto, saved_model_proto, export_dir, ckpt_options, save_options, filters)\u001b[0m\n\u001b[1;32m    137\u001b[0m     self._concrete_functions = (\n\u001b[1;32m    138\u001b[0m         function_deserialization.load_function_def_library(\n\u001b[0;32m--> 139\u001b[0;31m             meta_graph.graph_def.library, wrapper_function=_WrapperFunction))\n\u001b[0m\u001b[1;32m    140\u001b[0m     \u001b[0mself\u001b[0m\u001b[0;34m.\u001b[0m\u001b[0m_checkpoint_options\u001b[0m \u001b[0;34m=\u001b[0m \u001b[0mckpt_options\u001b[0m\u001b[0;34m\u001b[0m\u001b[0;34m\u001b[0m\u001b[0m\n\u001b[1;32m    141\u001b[0m     \u001b[0mself\u001b[0m\u001b[0;34m.\u001b[0m\u001b[0m_save_options\u001b[0m \u001b[0;34m=\u001b[0m \u001b[0msave_options\u001b[0m\u001b[0;34m\u001b[0m\u001b[0;34m\u001b[0m\u001b[0m\n",
            "\u001b[0;32m/usr/local/lib/python3.7/dist-packages/tensorflow/python/saved_model/function_deserialization.py\u001b[0m in \u001b[0;36mload_function_def_library\u001b[0;34m(library, load_shared_name_suffix, wrapper_function)\u001b[0m\n\u001b[1;32m    378\u001b[0m   \u001b[0;32mfor\u001b[0m \u001b[0mfdef\u001b[0m \u001b[0;32min\u001b[0m \u001b[0m_sort_function_defs\u001b[0m\u001b[0;34m(\u001b[0m\u001b[0mlibrary\u001b[0m\u001b[0;34m,\u001b[0m \u001b[0mfunction_deps\u001b[0m\u001b[0;34m)\u001b[0m\u001b[0;34m:\u001b[0m\u001b[0;34m\u001b[0m\u001b[0;34m\u001b[0m\u001b[0m\n\u001b[1;32m    379\u001b[0m     copy = _fix_fdef(fdef, functions, load_shared_name_suffix,\n\u001b[0;32m--> 380\u001b[0;31m                      new_gradient_op_types)\n\u001b[0m\u001b[1;32m    381\u001b[0m \u001b[0;34m\u001b[0m\u001b[0m\n\u001b[1;32m    382\u001b[0m     \u001b[0;31m# There is no need to copy all functions into the function def graph. It\u001b[0m\u001b[0;34m\u001b[0m\u001b[0;34m\u001b[0m\u001b[0;34m\u001b[0m\u001b[0m\n",
            "\u001b[0;32m/usr/local/lib/python3.7/dist-packages/tensorflow/python/saved_model/function_deserialization.py\u001b[0m in \u001b[0;36m_fix_fdef\u001b[0;34m(orig_fdef, functions, shared_name_suffix, new_gradient_op_types)\u001b[0m\n\u001b[1;32m    567\u001b[0m \u001b[0;34m\u001b[0m\u001b[0m\n\u001b[1;32m    568\u001b[0m   \u001b[0;32mfor\u001b[0m \u001b[0mnode_def\u001b[0m \u001b[0;32min\u001b[0m \u001b[0mfdef\u001b[0m\u001b[0;34m.\u001b[0m\u001b[0mnode_def\u001b[0m\u001b[0;34m:\u001b[0m\u001b[0;34m\u001b[0m\u001b[0;34m\u001b[0m\u001b[0m\n\u001b[0;32m--> 569\u001b[0;31m     \u001b[0mfix_node_def\u001b[0m\u001b[0;34m(\u001b[0m\u001b[0mnode_def\u001b[0m\u001b[0;34m,\u001b[0m \u001b[0mfunctions\u001b[0m\u001b[0;34m,\u001b[0m \u001b[0mshared_name_suffix\u001b[0m\u001b[0;34m)\u001b[0m\u001b[0;34m\u001b[0m\u001b[0;34m\u001b[0m\u001b[0m\n\u001b[0m\u001b[1;32m    570\u001b[0m     \u001b[0mop_type\u001b[0m \u001b[0;34m=\u001b[0m \u001b[0m_get_gradient_op_type\u001b[0m\u001b[0;34m(\u001b[0m\u001b[0mnode_def\u001b[0m\u001b[0;34m)\u001b[0m\u001b[0;34m\u001b[0m\u001b[0;34m\u001b[0m\u001b[0m\n\u001b[1;32m    571\u001b[0m     \u001b[0;32mif\u001b[0m \u001b[0mop_type\u001b[0m \u001b[0;32mis\u001b[0m \u001b[0;32mnot\u001b[0m \u001b[0;32mNone\u001b[0m\u001b[0;34m:\u001b[0m\u001b[0;34m\u001b[0m\u001b[0;34m\u001b[0m\u001b[0m\n",
            "\u001b[0;32m/usr/local/lib/python3.7/dist-packages/tensorflow/python/saved_model/function_deserialization.py\u001b[0m in \u001b[0;36mfix_node_def\u001b[0;34m(node_def, functions, shared_name_suffix)\u001b[0m\n\u001b[1;32m    529\u001b[0m   \u001b[0mop_def\u001b[0m \u001b[0;34m=\u001b[0m \u001b[0mop_def_registry\u001b[0m\u001b[0;34m.\u001b[0m\u001b[0mget\u001b[0m\u001b[0;34m(\u001b[0m\u001b[0mnode_def\u001b[0m\u001b[0;34m.\u001b[0m\u001b[0mop\u001b[0m\u001b[0;34m)\u001b[0m\u001b[0;34m\u001b[0m\u001b[0;34m\u001b[0m\u001b[0m\n\u001b[1;32m    530\u001b[0m   \u001b[0;32mif\u001b[0m \u001b[0mop_def\u001b[0m\u001b[0;34m:\u001b[0m\u001b[0;34m\u001b[0m\u001b[0;34m\u001b[0m\u001b[0m\n\u001b[0;32m--> 531\u001b[0;31m     \u001b[0mattr\u001b[0m \u001b[0;34m=\u001b[0m \u001b[0mnext\u001b[0m\u001b[0;34m(\u001b[0m\u001b[0;34m(\u001b[0m\u001b[0ma\u001b[0m \u001b[0;32mfor\u001b[0m \u001b[0ma\u001b[0m \u001b[0;32min\u001b[0m \u001b[0mop_def\u001b[0m\u001b[0;34m.\u001b[0m\u001b[0mattr\u001b[0m \u001b[0;32mif\u001b[0m \u001b[0ma\u001b[0m\u001b[0;34m.\u001b[0m\u001b[0mname\u001b[0m \u001b[0;34m==\u001b[0m \u001b[0;34m\"shared_name\"\u001b[0m\u001b[0;34m)\u001b[0m\u001b[0;34m,\u001b[0m \u001b[0;32mNone\u001b[0m\u001b[0;34m)\u001b[0m\u001b[0;34m\u001b[0m\u001b[0;34m\u001b[0m\u001b[0m\n\u001b[0m\u001b[1;32m    532\u001b[0m     \u001b[0;32mif\u001b[0m \u001b[0mattr\u001b[0m\u001b[0;34m:\u001b[0m\u001b[0;34m\u001b[0m\u001b[0;34m\u001b[0m\u001b[0m\n\u001b[1;32m    533\u001b[0m       \u001b[0mshared_name\u001b[0m \u001b[0;34m=\u001b[0m \u001b[0;32mNone\u001b[0m\u001b[0;34m\u001b[0m\u001b[0;34m\u001b[0m\u001b[0m\n",
            "\u001b[0;32m/usr/local/lib/python3.7/dist-packages/tensorflow/python/saved_model/function_deserialization.py\u001b[0m in \u001b[0;36m<genexpr>\u001b[0;34m(.0)\u001b[0m\n\u001b[1;32m    529\u001b[0m   \u001b[0mop_def\u001b[0m \u001b[0;34m=\u001b[0m \u001b[0mop_def_registry\u001b[0m\u001b[0;34m.\u001b[0m\u001b[0mget\u001b[0m\u001b[0;34m(\u001b[0m\u001b[0mnode_def\u001b[0m\u001b[0;34m.\u001b[0m\u001b[0mop\u001b[0m\u001b[0;34m)\u001b[0m\u001b[0;34m\u001b[0m\u001b[0;34m\u001b[0m\u001b[0m\n\u001b[1;32m    530\u001b[0m   \u001b[0;32mif\u001b[0m \u001b[0mop_def\u001b[0m\u001b[0;34m:\u001b[0m\u001b[0;34m\u001b[0m\u001b[0;34m\u001b[0m\u001b[0m\n\u001b[0;32m--> 531\u001b[0;31m     \u001b[0mattr\u001b[0m \u001b[0;34m=\u001b[0m \u001b[0mnext\u001b[0m\u001b[0;34m(\u001b[0m\u001b[0;34m(\u001b[0m\u001b[0ma\u001b[0m \u001b[0;32mfor\u001b[0m \u001b[0ma\u001b[0m \u001b[0;32min\u001b[0m \u001b[0mop_def\u001b[0m\u001b[0;34m.\u001b[0m\u001b[0mattr\u001b[0m \u001b[0;32mif\u001b[0m \u001b[0ma\u001b[0m\u001b[0;34m.\u001b[0m\u001b[0mname\u001b[0m \u001b[0;34m==\u001b[0m \u001b[0;34m\"shared_name\"\u001b[0m\u001b[0;34m)\u001b[0m\u001b[0;34m,\u001b[0m \u001b[0;32mNone\u001b[0m\u001b[0;34m)\u001b[0m\u001b[0;34m\u001b[0m\u001b[0;34m\u001b[0m\u001b[0m\n\u001b[0m\u001b[1;32m    532\u001b[0m     \u001b[0;32mif\u001b[0m \u001b[0mattr\u001b[0m\u001b[0;34m:\u001b[0m\u001b[0;34m\u001b[0m\u001b[0;34m\u001b[0m\u001b[0m\n\u001b[1;32m    533\u001b[0m       \u001b[0mshared_name\u001b[0m \u001b[0;34m=\u001b[0m \u001b[0;32mNone\u001b[0m\u001b[0;34m\u001b[0m\u001b[0;34m\u001b[0m\u001b[0m\n",
            "\u001b[0;31mKeyboardInterrupt\u001b[0m: "
          ]
        }
      ],
      "source": [
        "#classifier_model.save(saved_model_path, include_optimizer=False)\n",
        "#reloaded_model = tf.saved_model.load(saved_model_path)"
      ]
    },
    {
      "cell_type": "code",
      "execution_count": null,
      "metadata": {
        "id": "9UpUJIzTTU4q"
      },
      "outputs": [],
      "source": [
        "reloaded_model = tf.saved_model.load('drive/My Drive/hollister_nlp/distilBert6_bert')"
      ]
    },
    {
      "cell_type": "code",
      "execution_count": null,
      "metadata": {
        "colab": {
          "base_uri": "https://localhost:8080/"
        },
        "id": "cxx4nODaVK1R",
        "outputId": "3ce3e74f-4a45-4630-c734-cbe446db5572"
      },
      "outputs": [
        {
          "name": "stdout",
          "output_type": "stream",
          "text": [
            "Results from the saved model:\n",
            "input: Amazon kicks off inaugural digital health incubator cohort. For its first healthcare accelerator program, Amazon's cloud division tapped a diverse group of startups working in virtual reality, voice assistant technology, remote monitoring and social determinants of health.\n",
            "\n",
            "Amazon Web Services (AWS) announced in June a healthcare accelerator to help incubate early-stage digital health companies that can collaborate with the tech giant's healthcare customers and partners.\n",
            "\n",
            "The aim, Amazon said, is to connect growth-stage digital health solutions with AWS’ healthcare provider organizations to accelerate care in the cloud and for potential pilots and collaborations between providers and companies. : score: 0.991231\n",
            "\n"
          ]
        }
      ],
      "source": [
        "def print_my_examples(inputs, results):\n",
        "  result_for_printing = \\\n",
        "    [f'input: {inputs[i]:<30} : score: {results[i][0]:.6f}'\n",
        "                         for i in range(len(inputs))]\n",
        "  print(*result_for_printing, sep='\\n')\n",
        "  print()\n",
        "\n",
        "\n",
        "examples = [\n",
        "    '''Amazon kicks off inaugural digital health incubator cohort. For its first healthcare accelerator program, Amazon's cloud division tapped a diverse group of startups working in virtual reality, voice assistant technology, remote monitoring and social determinants of health.\n",
        "\n",
        "Amazon Web Services (AWS) announced in June a healthcare accelerator to help incubate early-stage digital health companies that can collaborate with the tech giant's healthcare customers and partners.\n",
        "\n",
        "The aim, Amazon said, is to connect growth-stage digital health solutions with AWS’ healthcare provider organizations to accelerate care in the cloud and for potential pilots and collaborations between providers and companies.'''\n",
        "]\n",
        "\n",
        "reloaded_results = tf.sigmoid(reloaded_model(tf.constant(examples)))\n",
        "#original_results = tf.sigmoid(classifier_model(tf.constant(examples)))\n",
        "\n",
        "print('Results from the saved model:')\n",
        "print_my_examples(examples, reloaded_results)\n",
        "#print('Results from the model in memory:')\n",
        "#print_my_examples(examples, original_results)"
      ]
    },
    {
      "cell_type": "code",
      "execution_count": null,
      "metadata": {
        "colab": {
          "base_uri": "https://localhost:8080/",
          "height": 129
        },
        "id": "FTX0wUiWYY9W",
        "outputId": "0cc27959-7599-4d50-e8b9-42dfb0edeb18"
      },
      "outputs": [
        {
          "data": {
            "text/html": [
              "<div>\n",
              "<style scoped>\n",
              "    .dataframe tbody tr th:only-of-type {\n",
              "        vertical-align: middle;\n",
              "    }\n",
              "\n",
              "    .dataframe tbody tr th {\n",
              "        vertical-align: top;\n",
              "    }\n",
              "\n",
              "    .dataframe thead th {\n",
              "        text-align: right;\n",
              "    }\n",
              "</style>\n",
              "<table border=\"1\" class=\"dataframe\">\n",
              "  <thead>\n",
              "    <tr style=\"text-align: right;\">\n",
              "      <th></th>\n",
              "      <th>input</th>\n",
              "      <th>predicted_score</th>\n",
              "    </tr>\n",
              "  </thead>\n",
              "  <tbody>\n",
              "    <tr>\n",
              "      <th>0</th>\n",
              "      <td>halo this is just a testing document. It should not score a very high opportunity with key word like environment</td>\n",
              "      <td>0.457255</td>\n",
              "    </tr>\n",
              "    <tr>\n",
              "      <th>1</th>\n",
              "      <td>Google is launching google class in the next half and it will potentially open up more markets on the vr side. This may also have some impact in environmental side as people might walk out more because of this</td>\n",
              "      <td>0.956329</td>\n",
              "    </tr>\n",
              "  </tbody>\n",
              "</table>\n",
              "</div>"
            ],
            "text/plain": [
              "                                                                                                                                                                                                               input  predicted_score\n",
              "0                                                                                                   halo this is just a testing document. It should not score a very high opportunity with key word like environment         0.457255\n",
              "1  Google is launching google class in the next half and it will potentially open up more markets on the vr side. This may also have some impact in environmental side as people might walk out more because of this         0.956329"
            ]
          },
          "execution_count": 57,
          "metadata": {},
          "output_type": "execute_result"
        }
      ],
      "source": [
        "ggg = pd.DataFrame()\n",
        "ggg['input'] = np.array(examples)\n",
        "ggg['predicted_score'] = np.array(reloaded_results)\n",
        "ggg"
      ]
    },
    {
      "cell_type": "code",
      "execution_count": null,
      "metadata": {
        "id": "tFcOSd0uYruE"
      },
      "outputs": [],
      "source": [
        "from flask import Flask, render_template\n",
        "from flask_wtf import FlaskForm\n",
        "from wtforms import StringField, SubmitField\n",
        "from wtforms.validators import DataRequired\n",
        "import tensorflow as tf\n",
        "import numpy as np\n",
        "import tensorflow_text as text"
      ]
    },
    {
      "cell_type": "code",
      "execution_count": null,
      "metadata": {
        "id": "QDtEF1FJXiva"
      },
      "outputs": [],
      "source": [
        "from flask import Flask, render_template\n",
        "import tensorflow as tf\n",
        "import numpy as np\n",
        "import tensorflow_text as text\n",
        "\n",
        "app = Flask(__name__)\n",
        "app.config['SECRET_KEY'] = 'any secret string'\n",
        "\n",
        "distil_bert = tf.saved_model.load('drive/My Drive/hollister_nlp/distilBert6_bert')\n",
        "\n",
        "class Input(FlaskForm):\n",
        "    query = StringField('Query', validators=[DataRequired()])\n",
        "    submit = SubmitField('Submit')\n",
        "\n",
        "@app.route(\"/\", methods=['POST', 'GET'])\n",
        "@app.route(\"/index\", methods=['POST', 'GET'])\n",
        "def predict():\n",
        "    form = Input()\n",
        "    if form.validate_on_submit():\n",
        "        query = form.query.data\n",
        "\n",
        "        result = tf.sigmoid(distil_bert(tf.constant(query)))\n",
        "        dic = {\"Probability the clue will be used\": str(result),\n",
        "            \"will the clue be used?\": np.where(result > 0.5, 1, 0)\n",
        "            }\n",
        "        return dic\n",
        "    else:\n",
        "        return render_template('drive/My Drive/hollister_nlp/index.html', form=form)"
      ]
    }
  ],
  "metadata": {
    "colab": {
      "collapsed_sections": [],
      "name": "hollister project version 2",
      "provenance": [],
      "include_colab_link": true
    },
    "kernelspec": {
      "display_name": "Python 3",
      "name": "python3"
    },
    "language_info": {
      "name": "python"
    }
  },
  "nbformat": 4,
  "nbformat_minor": 0
}